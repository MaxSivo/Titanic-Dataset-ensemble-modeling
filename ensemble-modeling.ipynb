{
 "cells": [
  {
   "cell_type": "code",
   "execution_count": 1,
   "id": "085bb8b9",
   "metadata": {
    "_cell_guid": "b1076dfc-b9ad-4769-8c92-a6c4dae69d19",
    "_uuid": "8f2839f25d086af736a60e9eeb907d3b93b6e0e5",
    "execution": {
     "iopub.execute_input": "2022-12-07T08:24:40.488366Z",
     "iopub.status.busy": "2022-12-07T08:24:40.487728Z",
     "iopub.status.idle": "2022-12-07T08:24:41.536380Z",
     "shell.execute_reply": "2022-12-07T08:24:41.534820Z"
    },
    "papermill": {
     "duration": 1.082416,
     "end_time": "2022-12-07T08:24:41.539396",
     "exception": false,
     "start_time": "2022-12-07T08:24:40.456980",
     "status": "completed"
    },
    "tags": []
   },
   "outputs": [
    {
     "name": "stdout",
     "output_type": "stream",
     "text": [
      "/kaggle/input/titanic/train.csv\n",
      "/kaggle/input/titanic/test.csv\n",
      "/kaggle/input/titanic/gender_submission.csv\n"
     ]
    }
   ],
   "source": [
    "# This Python 3 environment comes with many helpful analytics libraries installed\n",
    "# It is defined by the kaggle/python Docker image: https://github.com/kaggle/docker-python\n",
    "# For example, here's several helpful packages to load\n",
    "\n",
    "import numpy as np # linear algebra\n",
    "import pandas as pd # data processing, CSV file I/O (e.g. pd.read_csv)\n",
    "import seaborn as sns\n",
    "import matplotlib.pyplot as plt\n",
    "\n",
    "# Input data files are available in the read-only \"../input/\" directory\n",
    "# For example, running this (by clicking run or pressing Shift+Enter) will list all files under the input directory\n",
    "\n",
    "import os\n",
    "for dirname, _, filenames in os.walk('/kaggle/input'):\n",
    "    for filename in filenames:\n",
    "        print(os.path.join(dirname, filename))\n",
    "\n",
    "# You can write up to 20GB to the current directory (/kaggle/working/) that gets preserved as output when you create a version using \"Save & Run All\" \n",
    "# You can also write temporary files to /kaggle/temp/, but they won't be saved outside of the current session"
   ]
  },
  {
   "cell_type": "markdown",
   "id": "c55de7cb",
   "metadata": {
    "papermill": {
     "duration": 0.027564,
     "end_time": "2022-12-07T08:24:41.594612",
     "exception": false,
     "start_time": "2022-12-07T08:24:41.567048",
     "status": "completed"
    },
    "tags": []
   },
   "source": [
    "**Preliminary Data Exploration**"
   ]
  },
  {
   "cell_type": "code",
   "execution_count": 2,
   "id": "66724007",
   "metadata": {
    "execution": {
     "iopub.execute_input": "2022-12-07T08:24:41.651528Z",
     "iopub.status.busy": "2022-12-07T08:24:41.650728Z",
     "iopub.status.idle": "2022-12-07T08:24:41.685838Z",
     "shell.execute_reply": "2022-12-07T08:24:41.684462Z"
    },
    "papermill": {
     "duration": 0.066831,
     "end_time": "2022-12-07T08:24:41.688786",
     "exception": false,
     "start_time": "2022-12-07T08:24:41.621955",
     "status": "completed"
    },
    "tags": []
   },
   "outputs": [],
   "source": [
    "train_df = pd.read_csv(\"../input/titanic/train.csv\")\n",
    "test_df = pd.read_csv(\"../input/titanic/test.csv\")"
   ]
  },
  {
   "cell_type": "code",
   "execution_count": 3,
   "id": "c1df4e30",
   "metadata": {
    "execution": {
     "iopub.execute_input": "2022-12-07T08:24:41.744620Z",
     "iopub.status.busy": "2022-12-07T08:24:41.744177Z",
     "iopub.status.idle": "2022-12-07T08:24:41.753436Z",
     "shell.execute_reply": "2022-12-07T08:24:41.752397Z"
    },
    "papermill": {
     "duration": 0.039924,
     "end_time": "2022-12-07T08:24:41.755841",
     "exception": false,
     "start_time": "2022-12-07T08:24:41.715917",
     "status": "completed"
    },
    "tags": []
   },
   "outputs": [
    {
     "data": {
      "text/plain": [
       "(418, 11)"
      ]
     },
     "execution_count": 3,
     "metadata": {},
     "output_type": "execute_result"
    }
   ],
   "source": [
    "test_df.shape"
   ]
  },
  {
   "cell_type": "code",
   "execution_count": 4,
   "id": "29779d15",
   "metadata": {
    "execution": {
     "iopub.execute_input": "2022-12-07T08:24:41.822358Z",
     "iopub.status.busy": "2022-12-07T08:24:41.821227Z",
     "iopub.status.idle": "2022-12-07T08:24:41.828944Z",
     "shell.execute_reply": "2022-12-07T08:24:41.827854Z"
    },
    "papermill": {
     "duration": 0.044999,
     "end_time": "2022-12-07T08:24:41.831332",
     "exception": false,
     "start_time": "2022-12-07T08:24:41.786333",
     "status": "completed"
    },
    "tags": []
   },
   "outputs": [
    {
     "data": {
      "text/plain": [
       "(891, 12)"
      ]
     },
     "execution_count": 4,
     "metadata": {},
     "output_type": "execute_result"
    }
   ],
   "source": [
    "train_df.shape"
   ]
  },
  {
   "cell_type": "code",
   "execution_count": 5,
   "id": "8c21fd6c",
   "metadata": {
    "execution": {
     "iopub.execute_input": "2022-12-07T08:24:41.894736Z",
     "iopub.status.busy": "2022-12-07T08:24:41.893716Z",
     "iopub.status.idle": "2022-12-07T08:24:41.921014Z",
     "shell.execute_reply": "2022-12-07T08:24:41.919862Z"
    },
    "papermill": {
     "duration": 0.063118,
     "end_time": "2022-12-07T08:24:41.923616",
     "exception": false,
     "start_time": "2022-12-07T08:24:41.860498",
     "status": "completed"
    },
    "tags": []
   },
   "outputs": [
    {
     "data": {
      "text/html": [
       "<div>\n",
       "<style scoped>\n",
       "    .dataframe tbody tr th:only-of-type {\n",
       "        vertical-align: middle;\n",
       "    }\n",
       "\n",
       "    .dataframe tbody tr th {\n",
       "        vertical-align: top;\n",
       "    }\n",
       "\n",
       "    .dataframe thead th {\n",
       "        text-align: right;\n",
       "    }\n",
       "</style>\n",
       "<table border=\"1\" class=\"dataframe\">\n",
       "  <thead>\n",
       "    <tr style=\"text-align: right;\">\n",
       "      <th></th>\n",
       "      <th>PassengerId</th>\n",
       "      <th>Survived</th>\n",
       "      <th>Pclass</th>\n",
       "      <th>Name</th>\n",
       "      <th>Sex</th>\n",
       "      <th>Age</th>\n",
       "      <th>SibSp</th>\n",
       "      <th>Parch</th>\n",
       "      <th>Ticket</th>\n",
       "      <th>Fare</th>\n",
       "      <th>Cabin</th>\n",
       "      <th>Embarked</th>\n",
       "    </tr>\n",
       "  </thead>\n",
       "  <tbody>\n",
       "    <tr>\n",
       "      <th>0</th>\n",
       "      <td>1</td>\n",
       "      <td>0</td>\n",
       "      <td>3</td>\n",
       "      <td>Braund, Mr. Owen Harris</td>\n",
       "      <td>male</td>\n",
       "      <td>22.0</td>\n",
       "      <td>1</td>\n",
       "      <td>0</td>\n",
       "      <td>A/5 21171</td>\n",
       "      <td>7.2500</td>\n",
       "      <td>NaN</td>\n",
       "      <td>S</td>\n",
       "    </tr>\n",
       "    <tr>\n",
       "      <th>1</th>\n",
       "      <td>2</td>\n",
       "      <td>1</td>\n",
       "      <td>1</td>\n",
       "      <td>Cumings, Mrs. John Bradley (Florence Briggs Th...</td>\n",
       "      <td>female</td>\n",
       "      <td>38.0</td>\n",
       "      <td>1</td>\n",
       "      <td>0</td>\n",
       "      <td>PC 17599</td>\n",
       "      <td>71.2833</td>\n",
       "      <td>C85</td>\n",
       "      <td>C</td>\n",
       "    </tr>\n",
       "    <tr>\n",
       "      <th>2</th>\n",
       "      <td>3</td>\n",
       "      <td>1</td>\n",
       "      <td>3</td>\n",
       "      <td>Heikkinen, Miss. Laina</td>\n",
       "      <td>female</td>\n",
       "      <td>26.0</td>\n",
       "      <td>0</td>\n",
       "      <td>0</td>\n",
       "      <td>STON/O2. 3101282</td>\n",
       "      <td>7.9250</td>\n",
       "      <td>NaN</td>\n",
       "      <td>S</td>\n",
       "    </tr>\n",
       "    <tr>\n",
       "      <th>3</th>\n",
       "      <td>4</td>\n",
       "      <td>1</td>\n",
       "      <td>1</td>\n",
       "      <td>Futrelle, Mrs. Jacques Heath (Lily May Peel)</td>\n",
       "      <td>female</td>\n",
       "      <td>35.0</td>\n",
       "      <td>1</td>\n",
       "      <td>0</td>\n",
       "      <td>113803</td>\n",
       "      <td>53.1000</td>\n",
       "      <td>C123</td>\n",
       "      <td>S</td>\n",
       "    </tr>\n",
       "    <tr>\n",
       "      <th>4</th>\n",
       "      <td>5</td>\n",
       "      <td>0</td>\n",
       "      <td>3</td>\n",
       "      <td>Allen, Mr. William Henry</td>\n",
       "      <td>male</td>\n",
       "      <td>35.0</td>\n",
       "      <td>0</td>\n",
       "      <td>0</td>\n",
       "      <td>373450</td>\n",
       "      <td>8.0500</td>\n",
       "      <td>NaN</td>\n",
       "      <td>S</td>\n",
       "    </tr>\n",
       "  </tbody>\n",
       "</table>\n",
       "</div>"
      ],
      "text/plain": [
       "   PassengerId  Survived  Pclass  \\\n",
       "0            1         0       3   \n",
       "1            2         1       1   \n",
       "2            3         1       3   \n",
       "3            4         1       1   \n",
       "4            5         0       3   \n",
       "\n",
       "                                                Name     Sex   Age  SibSp  \\\n",
       "0                            Braund, Mr. Owen Harris    male  22.0      1   \n",
       "1  Cumings, Mrs. John Bradley (Florence Briggs Th...  female  38.0      1   \n",
       "2                             Heikkinen, Miss. Laina  female  26.0      0   \n",
       "3       Futrelle, Mrs. Jacques Heath (Lily May Peel)  female  35.0      1   \n",
       "4                           Allen, Mr. William Henry    male  35.0      0   \n",
       "\n",
       "   Parch            Ticket     Fare Cabin Embarked  \n",
       "0      0         A/5 21171   7.2500   NaN        S  \n",
       "1      0          PC 17599  71.2833   C85        C  \n",
       "2      0  STON/O2. 3101282   7.9250   NaN        S  \n",
       "3      0            113803  53.1000  C123        S  \n",
       "4      0            373450   8.0500   NaN        S  "
      ]
     },
     "execution_count": 5,
     "metadata": {},
     "output_type": "execute_result"
    }
   ],
   "source": [
    "train_df.head()"
   ]
  },
  {
   "cell_type": "code",
   "execution_count": 6,
   "id": "147fb490",
   "metadata": {
    "execution": {
     "iopub.execute_input": "2022-12-07T08:24:41.983898Z",
     "iopub.status.busy": "2022-12-07T08:24:41.982723Z",
     "iopub.status.idle": "2022-12-07T08:24:42.031710Z",
     "shell.execute_reply": "2022-12-07T08:24:42.030552Z"
    },
    "papermill": {
     "duration": 0.081465,
     "end_time": "2022-12-07T08:24:42.034000",
     "exception": false,
     "start_time": "2022-12-07T08:24:41.952535",
     "status": "completed"
    },
    "tags": []
   },
   "outputs": [
    {
     "data": {
      "text/html": [
       "<div>\n",
       "<style scoped>\n",
       "    .dataframe tbody tr th:only-of-type {\n",
       "        vertical-align: middle;\n",
       "    }\n",
       "\n",
       "    .dataframe tbody tr th {\n",
       "        vertical-align: top;\n",
       "    }\n",
       "\n",
       "    .dataframe thead th {\n",
       "        text-align: right;\n",
       "    }\n",
       "</style>\n",
       "<table border=\"1\" class=\"dataframe\">\n",
       "  <thead>\n",
       "    <tr style=\"text-align: right;\">\n",
       "      <th></th>\n",
       "      <th>PassengerId</th>\n",
       "      <th>Survived</th>\n",
       "      <th>Pclass</th>\n",
       "      <th>Age</th>\n",
       "      <th>SibSp</th>\n",
       "      <th>Parch</th>\n",
       "      <th>Fare</th>\n",
       "    </tr>\n",
       "  </thead>\n",
       "  <tbody>\n",
       "    <tr>\n",
       "      <th>count</th>\n",
       "      <td>891.000000</td>\n",
       "      <td>891.000000</td>\n",
       "      <td>891.000000</td>\n",
       "      <td>714.000000</td>\n",
       "      <td>891.000000</td>\n",
       "      <td>891.000000</td>\n",
       "      <td>891.000000</td>\n",
       "    </tr>\n",
       "    <tr>\n",
       "      <th>mean</th>\n",
       "      <td>446.000000</td>\n",
       "      <td>0.383838</td>\n",
       "      <td>2.308642</td>\n",
       "      <td>29.699118</td>\n",
       "      <td>0.523008</td>\n",
       "      <td>0.381594</td>\n",
       "      <td>32.204208</td>\n",
       "    </tr>\n",
       "    <tr>\n",
       "      <th>std</th>\n",
       "      <td>257.353842</td>\n",
       "      <td>0.486592</td>\n",
       "      <td>0.836071</td>\n",
       "      <td>14.526497</td>\n",
       "      <td>1.102743</td>\n",
       "      <td>0.806057</td>\n",
       "      <td>49.693429</td>\n",
       "    </tr>\n",
       "    <tr>\n",
       "      <th>min</th>\n",
       "      <td>1.000000</td>\n",
       "      <td>0.000000</td>\n",
       "      <td>1.000000</td>\n",
       "      <td>0.420000</td>\n",
       "      <td>0.000000</td>\n",
       "      <td>0.000000</td>\n",
       "      <td>0.000000</td>\n",
       "    </tr>\n",
       "    <tr>\n",
       "      <th>25%</th>\n",
       "      <td>223.500000</td>\n",
       "      <td>0.000000</td>\n",
       "      <td>2.000000</td>\n",
       "      <td>20.125000</td>\n",
       "      <td>0.000000</td>\n",
       "      <td>0.000000</td>\n",
       "      <td>7.910400</td>\n",
       "    </tr>\n",
       "    <tr>\n",
       "      <th>50%</th>\n",
       "      <td>446.000000</td>\n",
       "      <td>0.000000</td>\n",
       "      <td>3.000000</td>\n",
       "      <td>28.000000</td>\n",
       "      <td>0.000000</td>\n",
       "      <td>0.000000</td>\n",
       "      <td>14.454200</td>\n",
       "    </tr>\n",
       "    <tr>\n",
       "      <th>75%</th>\n",
       "      <td>668.500000</td>\n",
       "      <td>1.000000</td>\n",
       "      <td>3.000000</td>\n",
       "      <td>38.000000</td>\n",
       "      <td>1.000000</td>\n",
       "      <td>0.000000</td>\n",
       "      <td>31.000000</td>\n",
       "    </tr>\n",
       "    <tr>\n",
       "      <th>max</th>\n",
       "      <td>891.000000</td>\n",
       "      <td>1.000000</td>\n",
       "      <td>3.000000</td>\n",
       "      <td>80.000000</td>\n",
       "      <td>8.000000</td>\n",
       "      <td>6.000000</td>\n",
       "      <td>512.329200</td>\n",
       "    </tr>\n",
       "  </tbody>\n",
       "</table>\n",
       "</div>"
      ],
      "text/plain": [
       "       PassengerId    Survived      Pclass         Age       SibSp  \\\n",
       "count   891.000000  891.000000  891.000000  714.000000  891.000000   \n",
       "mean    446.000000    0.383838    2.308642   29.699118    0.523008   \n",
       "std     257.353842    0.486592    0.836071   14.526497    1.102743   \n",
       "min       1.000000    0.000000    1.000000    0.420000    0.000000   \n",
       "25%     223.500000    0.000000    2.000000   20.125000    0.000000   \n",
       "50%     446.000000    0.000000    3.000000   28.000000    0.000000   \n",
       "75%     668.500000    1.000000    3.000000   38.000000    1.000000   \n",
       "max     891.000000    1.000000    3.000000   80.000000    8.000000   \n",
       "\n",
       "            Parch        Fare  \n",
       "count  891.000000  891.000000  \n",
       "mean     0.381594   32.204208  \n",
       "std      0.806057   49.693429  \n",
       "min      0.000000    0.000000  \n",
       "25%      0.000000    7.910400  \n",
       "50%      0.000000   14.454200  \n",
       "75%      0.000000   31.000000  \n",
       "max      6.000000  512.329200  "
      ]
     },
     "execution_count": 6,
     "metadata": {},
     "output_type": "execute_result"
    }
   ],
   "source": [
    "train_df.describe()"
   ]
  },
  {
   "cell_type": "code",
   "execution_count": 7,
   "id": "de56b180",
   "metadata": {
    "execution": {
     "iopub.execute_input": "2022-12-07T08:24:42.096263Z",
     "iopub.status.busy": "2022-12-07T08:24:42.095318Z",
     "iopub.status.idle": "2022-12-07T08:24:42.113644Z",
     "shell.execute_reply": "2022-12-07T08:24:42.112662Z"
    },
    "papermill": {
     "duration": 0.053498,
     "end_time": "2022-12-07T08:24:42.116442",
     "exception": false,
     "start_time": "2022-12-07T08:24:42.062944",
     "status": "completed"
    },
    "tags": []
   },
   "outputs": [
    {
     "name": "stdout",
     "output_type": "stream",
     "text": [
      "<class 'pandas.core.frame.DataFrame'>\n",
      "RangeIndex: 891 entries, 0 to 890\n",
      "Data columns (total 12 columns):\n",
      " #   Column       Non-Null Count  Dtype  \n",
      "---  ------       --------------  -----  \n",
      " 0   PassengerId  891 non-null    int64  \n",
      " 1   Survived     891 non-null    int64  \n",
      " 2   Pclass       891 non-null    int64  \n",
      " 3   Name         891 non-null    object \n",
      " 4   Sex          891 non-null    object \n",
      " 5   Age          714 non-null    float64\n",
      " 6   SibSp        891 non-null    int64  \n",
      " 7   Parch        891 non-null    int64  \n",
      " 8   Ticket       891 non-null    object \n",
      " 9   Fare         891 non-null    float64\n",
      " 10  Cabin        204 non-null    object \n",
      " 11  Embarked     889 non-null    object \n",
      "dtypes: float64(2), int64(5), object(5)\n",
      "memory usage: 83.7+ KB\n"
     ]
    }
   ],
   "source": [
    "train_df.info()"
   ]
  },
  {
   "cell_type": "code",
   "execution_count": 8,
   "id": "78d4c0f9",
   "metadata": {
    "execution": {
     "iopub.execute_input": "2022-12-07T08:24:42.183019Z",
     "iopub.status.busy": "2022-12-07T08:24:42.182194Z",
     "iopub.status.idle": "2022-12-07T08:24:42.196132Z",
     "shell.execute_reply": "2022-12-07T08:24:42.194396Z"
    },
    "papermill": {
     "duration": 0.048125,
     "end_time": "2022-12-07T08:24:42.198802",
     "exception": false,
     "start_time": "2022-12-07T08:24:42.150677",
     "status": "completed"
    },
    "tags": []
   },
   "outputs": [
    {
     "name": "stdout",
     "output_type": "stream",
     "text": [
      "<class 'pandas.core.frame.DataFrame'>\n",
      "RangeIndex: 418 entries, 0 to 417\n",
      "Data columns (total 11 columns):\n",
      " #   Column       Non-Null Count  Dtype  \n",
      "---  ------       --------------  -----  \n",
      " 0   PassengerId  418 non-null    int64  \n",
      " 1   Pclass       418 non-null    int64  \n",
      " 2   Name         418 non-null    object \n",
      " 3   Sex          418 non-null    object \n",
      " 4   Age          332 non-null    float64\n",
      " 5   SibSp        418 non-null    int64  \n",
      " 6   Parch        418 non-null    int64  \n",
      " 7   Ticket       418 non-null    object \n",
      " 8   Fare         417 non-null    float64\n",
      " 9   Cabin        91 non-null     object \n",
      " 10  Embarked     418 non-null    object \n",
      "dtypes: float64(2), int64(4), object(5)\n",
      "memory usage: 36.0+ KB\n"
     ]
    }
   ],
   "source": [
    "test_df.info()"
   ]
  },
  {
   "cell_type": "code",
   "execution_count": 9,
   "id": "fbff8f2a",
   "metadata": {
    "execution": {
     "iopub.execute_input": "2022-12-07T08:24:42.258231Z",
     "iopub.status.busy": "2022-12-07T08:24:42.257168Z",
     "iopub.status.idle": "2022-12-07T08:24:42.270602Z",
     "shell.execute_reply": "2022-12-07T08:24:42.269569Z"
    },
    "papermill": {
     "duration": 0.045686,
     "end_time": "2022-12-07T08:24:42.273286",
     "exception": false,
     "start_time": "2022-12-07T08:24:42.227600",
     "status": "completed"
    },
    "tags": []
   },
   "outputs": [
    {
     "data": {
      "text/plain": [
       "0"
      ]
     },
     "execution_count": 9,
     "metadata": {},
     "output_type": "execute_result"
    }
   ],
   "source": [
    "train_df.duplicated().sum()"
   ]
  },
  {
   "cell_type": "markdown",
   "id": "5d0caa78",
   "metadata": {
    "papermill": {
     "duration": 0.029076,
     "end_time": "2022-12-07T08:24:42.341301",
     "exception": false,
     "start_time": "2022-12-07T08:24:42.312225",
     "status": "completed"
    },
    "tags": []
   },
   "source": [
    "Looking at the data we can drop the ticket, name and cabin columns. The name and ticket numbers do not help us predict survivability while the cabin column consists of over 75% NaN values."
   ]
  },
  {
   "cell_type": "code",
   "execution_count": 10,
   "id": "f1ad6ae5",
   "metadata": {
    "execution": {
     "iopub.execute_input": "2022-12-07T08:24:42.400915Z",
     "iopub.status.busy": "2022-12-07T08:24:42.399607Z",
     "iopub.status.idle": "2022-12-07T08:24:42.409073Z",
     "shell.execute_reply": "2022-12-07T08:24:42.408141Z"
    },
    "papermill": {
     "duration": 0.041635,
     "end_time": "2022-12-07T08:24:42.411429",
     "exception": false,
     "start_time": "2022-12-07T08:24:42.369794",
     "status": "completed"
    },
    "tags": []
   },
   "outputs": [],
   "source": [
    "bad_cols = ['Cabin', 'Name', 'Ticket']\n",
    "train_df.drop(axis=1, inplace=True, columns=bad_cols)\n",
    "test_df.drop(axis=1, inplace=True, columns=bad_cols)"
   ]
  },
  {
   "cell_type": "markdown",
   "id": "9ac6d9b5",
   "metadata": {
    "papermill": {
     "duration": 0.027667,
     "end_time": "2022-12-07T08:24:42.467941",
     "exception": false,
     "start_time": "2022-12-07T08:24:42.440274",
     "status": "completed"
    },
    "tags": []
   },
   "source": [
    "**Seperating Categorical and Numerical Columns**"
   ]
  },
  {
   "cell_type": "code",
   "execution_count": 11,
   "id": "be546db7",
   "metadata": {
    "execution": {
     "iopub.execute_input": "2022-12-07T08:24:42.528063Z",
     "iopub.status.busy": "2022-12-07T08:24:42.526822Z",
     "iopub.status.idle": "2022-12-07T08:24:42.536607Z",
     "shell.execute_reply": "2022-12-07T08:24:42.535440Z"
    },
    "papermill": {
     "duration": 0.042068,
     "end_time": "2022-12-07T08:24:42.538856",
     "exception": false,
     "start_time": "2022-12-07T08:24:42.496788",
     "status": "completed"
    },
    "tags": []
   },
   "outputs": [
    {
     "data": {
      "text/plain": [
       "['PassengerId', 'Survived', 'Pclass', 'Age', 'SibSp', 'Parch', 'Fare']"
      ]
     },
     "execution_count": 11,
     "metadata": {},
     "output_type": "execute_result"
    }
   ],
   "source": [
    "num_cols = []\n",
    "\n",
    "for col in train_df.columns:\n",
    "    if train_df.dtypes[col] != 'object':\n",
    "        num_cols.append(col)\n",
    "\n",
    "num_cols"
   ]
  },
  {
   "cell_type": "code",
   "execution_count": 12,
   "id": "8ade29bc",
   "metadata": {
    "execution": {
     "iopub.execute_input": "2022-12-07T08:24:42.598361Z",
     "iopub.status.busy": "2022-12-07T08:24:42.597641Z",
     "iopub.status.idle": "2022-12-07T08:24:42.607315Z",
     "shell.execute_reply": "2022-12-07T08:24:42.606095Z"
    },
    "papermill": {
     "duration": 0.042987,
     "end_time": "2022-12-07T08:24:42.609810",
     "exception": false,
     "start_time": "2022-12-07T08:24:42.566823",
     "status": "completed"
    },
    "tags": []
   },
   "outputs": [
    {
     "data": {
      "text/plain": [
       "['Sex', 'Embarked']"
      ]
     },
     "execution_count": 12,
     "metadata": {},
     "output_type": "execute_result"
    }
   ],
   "source": [
    "cat_cols = []\n",
    "\n",
    "for col in train_df.columns:\n",
    "    if train_df.dtypes[col] == 'object':\n",
    "        cat_cols.append(col)\n",
    "\n",
    "cat_cols"
   ]
  },
  {
   "cell_type": "markdown",
   "id": "479f53e1",
   "metadata": {
    "papermill": {
     "duration": 0.027855,
     "end_time": "2022-12-07T08:24:42.666102",
     "exception": false,
     "start_time": "2022-12-07T08:24:42.638247",
     "status": "completed"
    },
    "tags": []
   },
   "source": [
    "**Exploring distributions**"
   ]
  },
  {
   "cell_type": "code",
   "execution_count": 13,
   "id": "1bae8b1e",
   "metadata": {
    "execution": {
     "iopub.execute_input": "2022-12-07T08:24:42.726910Z",
     "iopub.status.busy": "2022-12-07T08:24:42.726097Z",
     "iopub.status.idle": "2022-12-07T08:24:43.817400Z",
     "shell.execute_reply": "2022-12-07T08:24:43.816053Z"
    },
    "papermill": {
     "duration": 1.123042,
     "end_time": "2022-12-07T08:24:43.819955",
     "exception": false,
     "start_time": "2022-12-07T08:24:42.696913",
     "status": "completed"
    },
    "tags": []
   },
   "outputs": [
    {
     "data": {
      "image/png": "[encoded data removed]",
      "text/plain": [
       "<Figure size 432x288 with 1 Axes>"
      ]
     },
     "metadata": {
      "needs_background": "light"
     },
     "output_type": "display_data"
    },
    {
     "data": {
      "image/png": "[encoded data removed]",
      "text/plain": [
       "<Figure size 432x288 with 1 Axes>"
      ]
     },
     "metadata": {
      "needs_background": "light"
     },
     "output_type": "display_data"
    },
    {
     "data": {
      "image/png": "[encoded data removed]",
      "text/plain": [
       "<Figure size 432x288 with 1 Axes>"
      ]
     },
     "metadata": {
      "needs_background": "light"
     },
     "output_type": "display_data"
    },
    {
     "data": {
      "image/png": "[encoded data removed]",
      "text/plain": [
       "<Figure size 432x288 with 1 Axes>"
      ]
     },
     "metadata": {
      "needs_background": "light"
     },
     "output_type": "display_data"
    }
   ],
   "source": [
    "for item in ['Age', 'SibSp', 'Parch', 'Fare']:\n",
    "    sns.histplot(data=train_df, x=item)\n",
    "    plt.title(item)\n",
    "    plt.show()"
   ]
  },
  {
   "cell_type": "code",
   "execution_count": 14,
   "id": "7075e24c",
   "metadata": {
    "execution": {
     "iopub.execute_input": "2022-12-07T08:24:43.880350Z",
     "iopub.status.busy": "2022-12-07T08:24:43.879298Z",
     "iopub.status.idle": "2022-12-07T08:24:44.489795Z",
     "shell.execute_reply": "2022-12-07T08:24:44.488625Z"
    },
    "papermill": {
     "duration": 0.642767,
     "end_time": "2022-12-07T08:24:44.491951",
     "exception": false,
     "start_time": "2022-12-07T08:24:43.849184",
     "status": "completed"
    },
    "tags": []
   },
   "outputs": [
    {
     "data": {
      "image/png": "[encoded data removed]",
      "text/plain": [
       "<Figure size 432x288 with 1 Axes>"
      ]
     },
     "metadata": {
      "needs_background": "light"
     },
     "output_type": "display_data"
    },
    {
     "data": {
      "image/png": "[encoded data removed]",
      "text/plain": [
       "<Figure size 432x288 with 1 Axes>"
      ]
     },
     "metadata": {
      "needs_background": "light"
     },
     "output_type": "display_data"
    },
    {
     "data": {
      "image/png": "[encoded data removed]",
      "text/plain": [
       "<Figure size 432x288 with 1 Axes>"
      ]
     },
     "metadata": {
      "needs_background": "light"
     },
     "output_type": "display_data"
    },
    {
     "data": {
      "image/png": "[encoded data removed]",
      "text/plain": [
       "<Figure size 432x288 with 1 Axes>"
      ]
     },
     "metadata": {
      "needs_background": "light"
     },
     "output_type": "display_data"
    }
   ],
   "source": [
    "for item in ['Pclass', 'Sex', 'Embarked', 'Survived']:\n",
    "    sns.countplot(data=train_df, x=item)\n",
    "    plt.title(item)\n",
    "    plt.show()"
   ]
  },
  {
   "cell_type": "markdown",
   "id": "53c9e821",
   "metadata": {
    "papermill": {
     "duration": 0.029786,
     "end_time": "2022-12-07T08:24:44.551696",
     "exception": false,
     "start_time": "2022-12-07T08:24:44.521910",
     "status": "completed"
    },
    "tags": []
   },
   "source": [
    "**Interpreting Numerical Data**"
   ]
  },
  {
   "cell_type": "code",
   "execution_count": 15,
   "id": "3010bef1",
   "metadata": {
    "execution": {
     "iopub.execute_input": "2022-12-07T08:24:44.616486Z",
     "iopub.status.busy": "2022-12-07T08:24:44.615392Z",
     "iopub.status.idle": "2022-12-07T08:24:44.625978Z",
     "shell.execute_reply": "2022-12-07T08:24:44.624842Z"
    },
    "papermill": {
     "duration": 0.04449,
     "end_time": "2022-12-07T08:24:44.628467",
     "exception": false,
     "start_time": "2022-12-07T08:24:44.583977",
     "status": "completed"
    },
    "tags": []
   },
   "outputs": [
    {
     "data": {
      "text/plain": [
       "Age     28.343690\n",
       "Fare    48.395408\n",
       "dtype: float64"
      ]
     },
     "execution_count": 15,
     "metadata": {},
     "output_type": "execute_result"
    }
   ],
   "source": [
    "df_survived = train_df[train_df['Survived'] == 1]\n",
    "df_survived[['Age', 'Fare']].mean()"
   ]
  },
  {
   "cell_type": "code",
   "execution_count": 16,
   "id": "4a07918f",
   "metadata": {
    "execution": {
     "iopub.execute_input": "2022-12-07T08:24:44.691972Z",
     "iopub.status.busy": "2022-12-07T08:24:44.691539Z",
     "iopub.status.idle": "2022-12-07T08:24:44.703278Z",
     "shell.execute_reply": "2022-12-07T08:24:44.702077Z"
    },
    "papermill": {
     "duration": 0.046635,
     "end_time": "2022-12-07T08:24:44.705493",
     "exception": false,
     "start_time": "2022-12-07T08:24:44.658858",
     "status": "completed"
    },
    "tags": []
   },
   "outputs": [
    {
     "data": {
      "text/plain": [
       "Age     30.626179\n",
       "Fare    22.117887\n",
       "dtype: float64"
      ]
     },
     "execution_count": 16,
     "metadata": {},
     "output_type": "execute_result"
    }
   ],
   "source": [
    "df_died = train_df[train_df['Survived'] == 0]\n",
    "df_died[['Age', 'Fare']].mean()"
   ]
  },
  {
   "cell_type": "markdown",
   "id": "26854698",
   "metadata": {
    "papermill": {
     "duration": 0.029803,
     "end_time": "2022-12-07T08:24:44.765394",
     "exception": false,
     "start_time": "2022-12-07T08:24:44.735591",
     "status": "completed"
    },
    "tags": []
   },
   "source": [
    "It looks as though fare price plays a large role in determining whether a passenger survives or not. Despite similar averages between the age of those who survived and those who did not does not mean that the variable is arbitrary. Lets take a closer look. "
   ]
  },
  {
   "cell_type": "markdown",
   "id": "d8506e2e",
   "metadata": {
    "papermill": {
     "duration": 0.029513,
     "end_time": "2022-12-07T08:24:44.824876",
     "exception": false,
     "start_time": "2022-12-07T08:24:44.795363",
     "status": "completed"
    },
    "tags": []
   },
   "source": [
    "**Age**"
   ]
  },
  {
   "cell_type": "code",
   "execution_count": 17,
   "id": "d0c8bc58",
   "metadata": {
    "execution": {
     "iopub.execute_input": "2022-12-07T08:24:44.886683Z",
     "iopub.status.busy": "2022-12-07T08:24:44.886261Z",
     "iopub.status.idle": "2022-12-07T08:24:45.154383Z",
     "shell.execute_reply": "2022-12-07T08:24:45.153172Z"
    },
    "papermill": {
     "duration": 0.302224,
     "end_time": "2022-12-07T08:24:45.156987",
     "exception": false,
     "start_time": "2022-12-07T08:24:44.854763",
     "status": "completed"
    },
    "tags": []
   },
   "outputs": [
    {
     "data": {
      "image/png": "[encoded data removed]",
      "text/plain": [
       "<Figure size 1008x576 with 1 Axes>"
      ]
     },
     "metadata": {
      "needs_background": "light"
     },
     "output_type": "display_data"
    }
   ],
   "source": [
    "plt.figure(figsize=(14,8))\n",
    "sns.kdeplot(data=df_survived, x='Age', shade=True, alpha=0.5, multiple='stack', label='Survived')\n",
    "sns.kdeplot(data=df_died, x='Age', alpha=0.5,shade=True, multiple='stack', label='Died')\n",
    "plt.xlabel(\"Age\",color='red')\n",
    "plt.ylabel(\"Density\",color='red')\n",
    "plt.legend()\n",
    "plt.show()"
   ]
  },
  {
   "cell_type": "markdown",
   "id": "c2f2b10d",
   "metadata": {
    "papermill": {
     "duration": 0.030315,
     "end_time": "2022-12-07T08:24:45.217998",
     "exception": false,
     "start_time": "2022-12-07T08:24:45.187683",
     "status": "completed"
    },
    "tags": []
   },
   "source": [
    "This plot shows that young children, <5 years of age have a proportionally higher rate of survival while individuals aged over 60 are less likely to live."
   ]
  },
  {
   "cell_type": "markdown",
   "id": "b6c7cb45",
   "metadata": {
    "papermill": {
     "duration": 0.030153,
     "end_time": "2022-12-07T08:24:45.278767",
     "exception": false,
     "start_time": "2022-12-07T08:24:45.248614",
     "status": "completed"
    },
    "tags": []
   },
   "source": [
    "**Fare**"
   ]
  },
  {
   "cell_type": "code",
   "execution_count": 18,
   "id": "c39c8077",
   "metadata": {
    "execution": {
     "iopub.execute_input": "2022-12-07T08:24:45.341828Z",
     "iopub.status.busy": "2022-12-07T08:24:45.341434Z",
     "iopub.status.idle": "2022-12-07T08:24:45.843147Z",
     "shell.execute_reply": "2022-12-07T08:24:45.842200Z"
    },
    "papermill": {
     "duration": 0.53613,
     "end_time": "2022-12-07T08:24:45.845472",
     "exception": false,
     "start_time": "2022-12-07T08:24:45.309342",
     "status": "completed"
    },
    "tags": []
   },
   "outputs": [
    {
     "data": {
      "image/png": "[encoded data removed]",
      "text/plain": [
       "<Figure size 360x360 with 1 Axes>"
      ]
     },
     "metadata": {
      "needs_background": "light"
     },
     "output_type": "display_data"
    }
   ],
   "source": [
    "sns.displot(train_df.Fare, kde=True, label=\"Skewness : %.2f\"%(train_df.Fare.skew()))\n",
    "plt.legend()\n",
    "plt.show()"
   ]
  },
  {
   "cell_type": "markdown",
   "id": "6409bead",
   "metadata": {
    "papermill": {
     "duration": 0.030567,
     "end_time": "2022-12-07T08:24:45.907733",
     "exception": false,
     "start_time": "2022-12-07T08:24:45.877166",
     "status": "completed"
    },
    "tags": []
   },
   "source": [
    "The skew for the distribution of the fare variable is pretty large which may cause higher values to be disproportionately weighted. In order to amend this we will transform the fare values with the log function. There is also 1 NaN value in the test dataset that we will convert to the mean using the passenger class of the individual. "
   ]
  },
  {
   "cell_type": "code",
   "execution_count": 19,
   "id": "7e9c0ae5",
   "metadata": {
    "execution": {
     "iopub.execute_input": "2022-12-07T08:24:45.972953Z",
     "iopub.status.busy": "2022-12-07T08:24:45.972326Z",
     "iopub.status.idle": "2022-12-07T08:24:45.986096Z",
     "shell.execute_reply": "2022-12-07T08:24:45.984944Z"
    },
    "papermill": {
     "duration": 0.049672,
     "end_time": "2022-12-07T08:24:45.988397",
     "exception": false,
     "start_time": "2022-12-07T08:24:45.938725",
     "status": "completed"
    },
    "tags": []
   },
   "outputs": [
    {
     "data": {
      "text/html": [
       "<div>\n",
       "<style scoped>\n",
       "    .dataframe tbody tr th:only-of-type {\n",
       "        vertical-align: middle;\n",
       "    }\n",
       "\n",
       "    .dataframe tbody tr th {\n",
       "        vertical-align: top;\n",
       "    }\n",
       "\n",
       "    .dataframe thead th {\n",
       "        text-align: right;\n",
       "    }\n",
       "</style>\n",
       "<table border=\"1\" class=\"dataframe\">\n",
       "  <thead>\n",
       "    <tr style=\"text-align: right;\">\n",
       "      <th></th>\n",
       "      <th>PassengerId</th>\n",
       "      <th>Pclass</th>\n",
       "      <th>Sex</th>\n",
       "      <th>Age</th>\n",
       "      <th>SibSp</th>\n",
       "      <th>Parch</th>\n",
       "      <th>Fare</th>\n",
       "      <th>Embarked</th>\n",
       "    </tr>\n",
       "  </thead>\n",
       "  <tbody>\n",
       "    <tr>\n",
       "      <th>152</th>\n",
       "      <td>1044</td>\n",
       "      <td>3</td>\n",
       "      <td>male</td>\n",
       "      <td>60.5</td>\n",
       "      <td>0</td>\n",
       "      <td>0</td>\n",
       "      <td>NaN</td>\n",
       "      <td>S</td>\n",
       "    </tr>\n",
       "  </tbody>\n",
       "</table>\n",
       "</div>"
      ],
      "text/plain": [
       "     PassengerId  Pclass   Sex   Age  SibSp  Parch  Fare Embarked\n",
       "152         1044       3  male  60.5      0      0   NaN        S"
      ]
     },
     "execution_count": 19,
     "metadata": {},
     "output_type": "execute_result"
    }
   ],
   "source": [
    "test_df[test_df.Fare.isnull() == True]"
   ]
  },
  {
   "cell_type": "code",
   "execution_count": 20,
   "id": "679acdb1",
   "metadata": {
    "execution": {
     "iopub.execute_input": "2022-12-07T08:24:46.052679Z",
     "iopub.status.busy": "2022-12-07T08:24:46.051856Z",
     "iopub.status.idle": "2022-12-07T08:24:46.067233Z",
     "shell.execute_reply": "2022-12-07T08:24:46.066162Z"
    },
    "papermill": {
     "duration": 0.050119,
     "end_time": "2022-12-07T08:24:46.069538",
     "exception": false,
     "start_time": "2022-12-07T08:24:46.019419",
     "status": "completed"
    },
    "tags": []
   },
   "outputs": [
    {
     "data": {
      "text/html": [
       "<div>\n",
       "<style scoped>\n",
       "    .dataframe tbody tr th:only-of-type {\n",
       "        vertical-align: middle;\n",
       "    }\n",
       "\n",
       "    .dataframe tbody tr th {\n",
       "        vertical-align: top;\n",
       "    }\n",
       "\n",
       "    .dataframe thead th {\n",
       "        text-align: right;\n",
       "    }\n",
       "</style>\n",
       "<table border=\"1\" class=\"dataframe\">\n",
       "  <thead>\n",
       "    <tr style=\"text-align: right;\">\n",
       "      <th></th>\n",
       "      <th>Fare</th>\n",
       "    </tr>\n",
       "    <tr>\n",
       "      <th>Pclass</th>\n",
       "      <th></th>\n",
       "    </tr>\n",
       "  </thead>\n",
       "  <tbody>\n",
       "    <tr>\n",
       "      <th>1</th>\n",
       "      <td>84.154687</td>\n",
       "    </tr>\n",
       "    <tr>\n",
       "      <th>2</th>\n",
       "      <td>20.662183</td>\n",
       "    </tr>\n",
       "    <tr>\n",
       "      <th>3</th>\n",
       "      <td>13.675550</td>\n",
       "    </tr>\n",
       "  </tbody>\n",
       "</table>\n",
       "</div>"
      ],
      "text/plain": [
       "             Fare\n",
       "Pclass           \n",
       "1       84.154687\n",
       "2       20.662183\n",
       "3       13.675550"
      ]
     },
     "execution_count": 20,
     "metadata": {},
     "output_type": "execute_result"
    }
   ],
   "source": [
    "train_df[['Pclass', 'Fare']].groupby('Pclass').mean()"
   ]
  },
  {
   "cell_type": "code",
   "execution_count": 21,
   "id": "9a49a289",
   "metadata": {
    "execution": {
     "iopub.execute_input": "2022-12-07T08:24:46.133877Z",
     "iopub.status.busy": "2022-12-07T08:24:46.133442Z",
     "iopub.status.idle": "2022-12-07T08:24:46.148512Z",
     "shell.execute_reply": "2022-12-07T08:24:46.147342Z"
    },
    "papermill": {
     "duration": 0.050045,
     "end_time": "2022-12-07T08:24:46.150838",
     "exception": false,
     "start_time": "2022-12-07T08:24:46.100793",
     "status": "completed"
    },
    "tags": []
   },
   "outputs": [
    {
     "data": {
      "text/html": [
       "<div>\n",
       "<style scoped>\n",
       "    .dataframe tbody tr th:only-of-type {\n",
       "        vertical-align: middle;\n",
       "    }\n",
       "\n",
       "    .dataframe tbody tr th {\n",
       "        vertical-align: top;\n",
       "    }\n",
       "\n",
       "    .dataframe thead th {\n",
       "        text-align: right;\n",
       "    }\n",
       "</style>\n",
       "<table border=\"1\" class=\"dataframe\">\n",
       "  <thead>\n",
       "    <tr style=\"text-align: right;\">\n",
       "      <th></th>\n",
       "      <th>PassengerId</th>\n",
       "      <th>Pclass</th>\n",
       "      <th>Sex</th>\n",
       "      <th>Age</th>\n",
       "      <th>SibSp</th>\n",
       "      <th>Parch</th>\n",
       "      <th>Fare</th>\n",
       "      <th>Embarked</th>\n",
       "    </tr>\n",
       "  </thead>\n",
       "  <tbody>\n",
       "    <tr>\n",
       "      <th>152</th>\n",
       "      <td>1044</td>\n",
       "      <td>3</td>\n",
       "      <td>male</td>\n",
       "      <td>60.5</td>\n",
       "      <td>0</td>\n",
       "      <td>0</td>\n",
       "      <td>13.68</td>\n",
       "      <td>S</td>\n",
       "    </tr>\n",
       "  </tbody>\n",
       "</table>\n",
       "</div>"
      ],
      "text/plain": [
       "     PassengerId  Pclass   Sex   Age  SibSp  Parch   Fare Embarked\n",
       "152         1044       3  male  60.5      0      0  13.68        S"
      ]
     },
     "execution_count": 21,
     "metadata": {},
     "output_type": "execute_result"
    }
   ],
   "source": [
    "test_df.Fare.fillna(13.68, inplace=True)\n",
    "test_df[test_df.PassengerId == 1044]"
   ]
  },
  {
   "cell_type": "code",
   "execution_count": 22,
   "id": "e94f788a",
   "metadata": {
    "execution": {
     "iopub.execute_input": "2022-12-07T08:24:46.215621Z",
     "iopub.status.busy": "2022-12-07T08:24:46.215171Z",
     "iopub.status.idle": "2022-12-07T08:24:46.223993Z",
     "shell.execute_reply": "2022-12-07T08:24:46.222780Z"
    },
    "papermill": {
     "duration": 0.044112,
     "end_time": "2022-12-07T08:24:46.226390",
     "exception": false,
     "start_time": "2022-12-07T08:24:46.182278",
     "status": "completed"
    },
    "tags": []
   },
   "outputs": [],
   "source": [
    "train_df.Fare = train_df.Fare.map(lambda i: np.log(i) if i > 0 else 0)\n",
    "test_df.Fare = test_df.Fare.map(lambda i: np.log(i) if i > 0 else 0)"
   ]
  },
  {
   "cell_type": "code",
   "execution_count": 23,
   "id": "0590be15",
   "metadata": {
    "execution": {
     "iopub.execute_input": "2022-12-07T08:24:46.290936Z",
     "iopub.status.busy": "2022-12-07T08:24:46.290507Z",
     "iopub.status.idle": "2022-12-07T08:24:46.614869Z",
     "shell.execute_reply": "2022-12-07T08:24:46.613675Z"
    },
    "papermill": {
     "duration": 0.360098,
     "end_time": "2022-12-07T08:24:46.617776",
     "exception": false,
     "start_time": "2022-12-07T08:24:46.257678",
     "status": "completed"
    },
    "tags": []
   },
   "outputs": [
    {
     "data": {
      "image/png": "[encoded data removed]",
      "text/plain": [
       "<Figure size 360x360 with 1 Axes>"
      ]
     },
     "metadata": {
      "needs_background": "light"
     },
     "output_type": "display_data"
    }
   ],
   "source": [
    "sns.displot(train_df.Fare, color='red', kde=True, label=\"Skewness : %.2f\"%(train_df.Fare.skew()))\n",
    "plt.legend()\n",
    "plt.show()"
   ]
  },
  {
   "cell_type": "markdown",
   "id": "2fecd585",
   "metadata": {
    "papermill": {
     "duration": 0.03161,
     "end_time": "2022-12-07T08:24:46.681965",
     "exception": false,
     "start_time": "2022-12-07T08:24:46.650355",
     "status": "completed"
    },
    "tags": []
   },
   "source": [
    "**Interpreting Categorical Variables**"
   ]
  },
  {
   "cell_type": "markdown",
   "id": "344d37bd",
   "metadata": {
    "papermill": {
     "duration": 0.032033,
     "end_time": "2022-12-07T08:24:46.746360",
     "exception": false,
     "start_time": "2022-12-07T08:24:46.714327",
     "status": "completed"
    },
    "tags": []
   },
   "source": [
    "**Sex**"
   ]
  },
  {
   "cell_type": "code",
   "execution_count": 24,
   "id": "8c7f0397",
   "metadata": {
    "execution": {
     "iopub.execute_input": "2022-12-07T08:24:46.813375Z",
     "iopub.status.busy": "2022-12-07T08:24:46.812677Z",
     "iopub.status.idle": "2022-12-07T08:24:47.036173Z",
     "shell.execute_reply": "2022-12-07T08:24:47.034953Z"
    },
    "papermill": {
     "duration": 0.259972,
     "end_time": "2022-12-07T08:24:47.038510",
     "exception": false,
     "start_time": "2022-12-07T08:24:46.778538",
     "status": "completed"
    },
    "tags": []
   },
   "outputs": [
    {
     "data": {
      "image/png": "[encoded data removed]",
      "text/plain": [
       "<Figure size 432x288 with 1 Axes>"
      ]
     },
     "metadata": {
      "needs_background": "light"
     },
     "output_type": "display_data"
    }
   ],
   "source": [
    "sns.barplot(data=train_df, x=\"Sex\",y=\"Survived\")\n",
    "plt.title('Ratio of male and female survival')\n",
    "plt.show()\n"
   ]
  },
  {
   "cell_type": "markdown",
   "id": "4625a414",
   "metadata": {
    "papermill": {
     "duration": 0.03164,
     "end_time": "2022-12-07T08:24:47.102544",
     "exception": false,
     "start_time": "2022-12-07T08:24:47.070904",
     "status": "completed"
    },
    "tags": []
   },
   "source": [
    "There is a clear trend that females have a higher likelihood of surviving than males and that sex plays and important role in predicting survival. "
   ]
  },
  {
   "cell_type": "markdown",
   "id": "8064ff3f",
   "metadata": {
    "papermill": {
     "duration": 0.0318,
     "end_time": "2022-12-07T08:24:47.166485",
     "exception": false,
     "start_time": "2022-12-07T08:24:47.134685",
     "status": "completed"
    },
    "tags": []
   },
   "source": [
    "**Passenger Class**"
   ]
  },
  {
   "cell_type": "code",
   "execution_count": 25,
   "id": "0e1f1c21",
   "metadata": {
    "execution": {
     "iopub.execute_input": "2022-12-07T08:24:47.232171Z",
     "iopub.status.busy": "2022-12-07T08:24:47.231743Z",
     "iopub.status.idle": "2022-12-07T08:24:47.620421Z",
     "shell.execute_reply": "2022-12-07T08:24:47.619161Z"
    },
    "papermill": {
     "duration": 0.424259,
     "end_time": "2022-12-07T08:24:47.622781",
     "exception": false,
     "start_time": "2022-12-07T08:24:47.198522",
     "status": "completed"
    },
    "tags": []
   },
   "outputs": [
    {
     "data": {
      "image/png": "[encoded data removed]",
      "text/plain": [
       "<Figure size 432x288 with 1 Axes>"
      ]
     },
     "metadata": {
      "needs_background": "light"
     },
     "output_type": "display_data"
    }
   ],
   "source": [
    "sns.barplot(data=train_df, x=\"Pclass\",y=\"Survived\")\n",
    "plt.title('Survival rate by passenger class')\n",
    "plt.show()\n"
   ]
  },
  {
   "cell_type": "code",
   "execution_count": 26,
   "id": "986996fc",
   "metadata": {
    "execution": {
     "iopub.execute_input": "2022-12-07T08:24:47.690309Z",
     "iopub.status.busy": "2022-12-07T08:24:47.688973Z",
     "iopub.status.idle": "2022-12-07T08:24:47.702466Z",
     "shell.execute_reply": "2022-12-07T08:24:47.701138Z"
    },
    "papermill": {
     "duration": 0.049633,
     "end_time": "2022-12-07T08:24:47.704963",
     "exception": false,
     "start_time": "2022-12-07T08:24:47.655330",
     "status": "completed"
    },
    "tags": []
   },
   "outputs": [
    {
     "data": {
      "text/html": [
       "<div>\n",
       "<style scoped>\n",
       "    .dataframe tbody tr th:only-of-type {\n",
       "        vertical-align: middle;\n",
       "    }\n",
       "\n",
       "    .dataframe tbody tr th {\n",
       "        vertical-align: top;\n",
       "    }\n",
       "\n",
       "    .dataframe thead th {\n",
       "        text-align: right;\n",
       "    }\n",
       "</style>\n",
       "<table border=\"1\" class=\"dataframe\">\n",
       "  <thead>\n",
       "    <tr style=\"text-align: right;\">\n",
       "      <th></th>\n",
       "      <th>Survived</th>\n",
       "    </tr>\n",
       "    <tr>\n",
       "      <th>Pclass</th>\n",
       "      <th></th>\n",
       "    </tr>\n",
       "  </thead>\n",
       "  <tbody>\n",
       "    <tr>\n",
       "      <th>1</th>\n",
       "      <td>0.629630</td>\n",
       "    </tr>\n",
       "    <tr>\n",
       "      <th>2</th>\n",
       "      <td>0.472826</td>\n",
       "    </tr>\n",
       "    <tr>\n",
       "      <th>3</th>\n",
       "      <td>0.242363</td>\n",
       "    </tr>\n",
       "  </tbody>\n",
       "</table>\n",
       "</div>"
      ],
      "text/plain": [
       "        Survived\n",
       "Pclass          \n",
       "1       0.629630\n",
       "2       0.472826\n",
       "3       0.242363"
      ]
     },
     "execution_count": 26,
     "metadata": {},
     "output_type": "execute_result"
    }
   ],
   "source": [
    "train_df[['Pclass', 'Survived']].groupby(\"Pclass\").mean()"
   ]
  },
  {
   "cell_type": "markdown",
   "id": "219e4425",
   "metadata": {
    "papermill": {
     "duration": 0.033197,
     "end_time": "2022-12-07T08:24:47.771619",
     "exception": false,
     "start_time": "2022-12-07T08:24:47.738422",
     "status": "completed"
    },
    "tags": []
   },
   "source": [
    "First class passengers have a higher likelihood of surviving. This is makes sense as we have already shown that paying higher fares is correlated with higher survival rate."
   ]
  },
  {
   "cell_type": "markdown",
   "id": "db008509",
   "metadata": {
    "papermill": {
     "duration": 0.032405,
     "end_time": "2022-12-07T08:24:47.836884",
     "exception": false,
     "start_time": "2022-12-07T08:24:47.804479",
     "status": "completed"
    },
    "tags": []
   },
   "source": [
    "**Embarked**"
   ]
  },
  {
   "cell_type": "code",
   "execution_count": 27,
   "id": "22ce4e56",
   "metadata": {
    "execution": {
     "iopub.execute_input": "2022-12-07T08:24:47.903788Z",
     "iopub.status.busy": "2022-12-07T08:24:47.903384Z",
     "iopub.status.idle": "2022-12-07T08:24:48.149723Z",
     "shell.execute_reply": "2022-12-07T08:24:48.148843Z"
    },
    "papermill": {
     "duration": 0.282389,
     "end_time": "2022-12-07T08:24:48.152076",
     "exception": false,
     "start_time": "2022-12-07T08:24:47.869687",
     "status": "completed"
    },
    "tags": []
   },
   "outputs": [
    {
     "data": {
      "image/png": "[encoded data removed]",
      "text/plain": [
       "<Figure size 432x288 with 1 Axes>"
      ]
     },
     "metadata": {
      "needs_background": "light"
     },
     "output_type": "display_data"
    }
   ],
   "source": [
    "sns.barplot(data=train_df, x=\"Embarked\",y=\"Survived\")\n",
    "plt.title('Survival rate by passenger class')\n",
    "plt.show()"
   ]
  },
  {
   "cell_type": "markdown",
   "id": "67475857",
   "metadata": {
    "papermill": {
     "duration": 0.032917,
     "end_time": "2022-12-07T08:24:48.218617",
     "exception": false,
     "start_time": "2022-12-07T08:24:48.185700",
     "status": "completed"
    },
    "tags": []
   },
   "source": [
    "Interestingly, it looks as though individuals who embarked from Cherbourg have a higher likelihood of surviving than those who embarked from either Southampton or Queenstown. This is potentially because Cherbourg is where a higher ratio of first class passengers embarked. Lets see."
   ]
  },
  {
   "cell_type": "code",
   "execution_count": 28,
   "id": "e8b0d3c5",
   "metadata": {
    "execution": {
     "iopub.execute_input": "2022-12-07T08:24:48.286802Z",
     "iopub.status.busy": "2022-12-07T08:24:48.286027Z",
     "iopub.status.idle": "2022-12-07T08:24:48.528831Z",
     "shell.execute_reply": "2022-12-07T08:24:48.527943Z"
    },
    "papermill": {
     "duration": 0.279543,
     "end_time": "2022-12-07T08:24:48.531012",
     "exception": false,
     "start_time": "2022-12-07T08:24:48.251469",
     "status": "completed"
    },
    "tags": []
   },
   "outputs": [
    {
     "data": {
      "image/png": "[encoded data removed]",
      "text/plain": [
       "<Figure size 432x288 with 1 Axes>"
      ]
     },
     "metadata": {
      "needs_background": "light"
     },
     "output_type": "display_data"
    }
   ],
   "source": [
    "sns.barplot(data=train_df, x=\"Embarked\",y=\"Pclass\")\n",
    "plt.title('Average class of different boarding sites')\n",
    "plt.show()"
   ]
  },
  {
   "cell_type": "code",
   "execution_count": 29,
   "id": "9cf166dc",
   "metadata": {
    "execution": {
     "iopub.execute_input": "2022-12-07T08:24:48.599906Z",
     "iopub.status.busy": "2022-12-07T08:24:48.599171Z",
     "iopub.status.idle": "2022-12-07T08:24:48.612312Z",
     "shell.execute_reply": "2022-12-07T08:24:48.611120Z"
    },
    "papermill": {
     "duration": 0.050151,
     "end_time": "2022-12-07T08:24:48.614819",
     "exception": false,
     "start_time": "2022-12-07T08:24:48.564668",
     "status": "completed"
    },
    "tags": []
   },
   "outputs": [
    {
     "data": {
      "text/html": [
       "<div>\n",
       "<style scoped>\n",
       "    .dataframe tbody tr th:only-of-type {\n",
       "        vertical-align: middle;\n",
       "    }\n",
       "\n",
       "    .dataframe tbody tr th {\n",
       "        vertical-align: top;\n",
       "    }\n",
       "\n",
       "    .dataframe thead th {\n",
       "        text-align: right;\n",
       "    }\n",
       "</style>\n",
       "<table border=\"1\" class=\"dataframe\">\n",
       "  <thead>\n",
       "    <tr style=\"text-align: right;\">\n",
       "      <th></th>\n",
       "      <th>Pclass</th>\n",
       "    </tr>\n",
       "    <tr>\n",
       "      <th>Embarked</th>\n",
       "      <th></th>\n",
       "    </tr>\n",
       "  </thead>\n",
       "  <tbody>\n",
       "    <tr>\n",
       "      <th>C</th>\n",
       "      <td>1.886905</td>\n",
       "    </tr>\n",
       "    <tr>\n",
       "      <th>Q</th>\n",
       "      <td>2.909091</td>\n",
       "    </tr>\n",
       "    <tr>\n",
       "      <th>S</th>\n",
       "      <td>2.350932</td>\n",
       "    </tr>\n",
       "  </tbody>\n",
       "</table>\n",
       "</div>"
      ],
      "text/plain": [
       "            Pclass\n",
       "Embarked          \n",
       "C         1.886905\n",
       "Q         2.909091\n",
       "S         2.350932"
      ]
     },
     "execution_count": 29,
     "metadata": {},
     "output_type": "execute_result"
    }
   ],
   "source": [
    "train_df[['Pclass', 'Embarked']].groupby(\"Embarked\").mean()"
   ]
  },
  {
   "cell_type": "markdown",
   "id": "aa650943",
   "metadata": {
    "papermill": {
     "duration": 0.033243,
     "end_time": "2022-12-07T08:24:48.682424",
     "exception": false,
     "start_time": "2022-12-07T08:24:48.649181",
     "status": "completed"
    },
    "tags": []
   },
   "source": [
    "It seems that this theory is confirmed as the average Passenger class of Cherbourg is lower than either Queenstown or Southampton. Interestingly Queenstown consists of almost entirely third class passengers yet has a higher survival rate than those who embarked from Southampton. This may be due to Queenstown having more children (aged 0 - 5), more men, or perhaps other factors. "
   ]
  },
  {
   "cell_type": "markdown",
   "id": "d1da7d04",
   "metadata": {
    "papermill": {
     "duration": 0.033584,
     "end_time": "2022-12-07T08:24:48.749847",
     "exception": false,
     "start_time": "2022-12-07T08:24:48.716263",
     "status": "completed"
    },
    "tags": []
   },
   "source": [
    "**Number of Parents/Children aboard**"
   ]
  },
  {
   "cell_type": "code",
   "execution_count": 30,
   "id": "99a5f9e3",
   "metadata": {
    "execution": {
     "iopub.execute_input": "2022-12-07T08:24:48.819427Z",
     "iopub.status.busy": "2022-12-07T08:24:48.818994Z",
     "iopub.status.idle": "2022-12-07T08:24:49.155203Z",
     "shell.execute_reply": "2022-12-07T08:24:49.154115Z"
    },
    "papermill": {
     "duration": 0.374164,
     "end_time": "2022-12-07T08:24:49.158170",
     "exception": false,
     "start_time": "2022-12-07T08:24:48.784006",
     "status": "completed"
    },
    "tags": []
   },
   "outputs": [
    {
     "data": {
      "image/png": "[encoded data removed]",
      "text/plain": [
       "<Figure size 432x288 with 1 Axes>"
      ]
     },
     "metadata": {
      "needs_background": "light"
     },
     "output_type": "display_data"
    }
   ],
   "source": [
    "sns.barplot(data=train_df, x=\"Parch\",y=\"Survived\")\n",
    "plt.title('Survival rate by # of children/parents aboard')\n",
    "plt.show()"
   ]
  },
  {
   "cell_type": "markdown",
   "id": "2144dc5c",
   "metadata": {
    "papermill": {
     "duration": 0.033647,
     "end_time": "2022-12-07T08:24:49.225398",
     "exception": false,
     "start_time": "2022-12-07T08:24:49.191751",
     "status": "completed"
    },
    "tags": []
   },
   "source": [
    "Having a medium sized family appears to more beneficial than traveling alone or with a large family. Notice a large standard deviation for families with 3 children/parents."
   ]
  },
  {
   "cell_type": "markdown",
   "id": "bf900d3a",
   "metadata": {
    "papermill": {
     "duration": 0.033,
     "end_time": "2022-12-07T08:24:49.291955",
     "exception": false,
     "start_time": "2022-12-07T08:24:49.258955",
     "status": "completed"
    },
    "tags": []
   },
   "source": [
    "**Number of Siblings/Spouses**"
   ]
  },
  {
   "cell_type": "code",
   "execution_count": 31,
   "id": "53fc4cc1",
   "metadata": {
    "execution": {
     "iopub.execute_input": "2022-12-07T08:24:49.360796Z",
     "iopub.status.busy": "2022-12-07T08:24:49.360062Z",
     "iopub.status.idle": "2022-12-07T08:24:49.727251Z",
     "shell.execute_reply": "2022-12-07T08:24:49.726085Z"
    },
    "papermill": {
     "duration": 0.404343,
     "end_time": "2022-12-07T08:24:49.729665",
     "exception": false,
     "start_time": "2022-12-07T08:24:49.325322",
     "status": "completed"
    },
    "tags": []
   },
   "outputs": [
    {
     "data": {
      "image/png": "[encoded data removed]",
      "text/plain": [
       "<Figure size 432x288 with 1 Axes>"
      ]
     },
     "metadata": {
      "needs_background": "light"
     },
     "output_type": "display_data"
    }
   ],
   "source": [
    "sns.barplot(data=train_df, x=\"SibSp\",y=\"Survived\")\n",
    "plt.title('Survival rate by # of siblings/spouses aboard')\n",
    "plt.show()"
   ]
  },
  {
   "cell_type": "markdown",
   "id": "6aa69089",
   "metadata": {
    "papermill": {
     "duration": 0.033572,
     "end_time": "2022-12-07T08:24:49.797275",
     "exception": false,
     "start_time": "2022-12-07T08:24:49.763703",
     "status": "completed"
    },
    "tags": []
   },
   "source": [
    "Having many siblings decreases survival rate. Traveling with 1 sibling/spouse is the most beneficial.  "
   ]
  },
  {
   "cell_type": "markdown",
   "id": "e86953c5",
   "metadata": {
    "papermill": {
     "duration": 0.033565,
     "end_time": "2022-12-07T08:24:49.864992",
     "exception": false,
     "start_time": "2022-12-07T08:24:49.831427",
     "status": "completed"
    },
    "tags": []
   },
   "source": [
    "**Filling Missing Values**"
   ]
  },
  {
   "cell_type": "code",
   "execution_count": 32,
   "id": "d78a1d85",
   "metadata": {
    "execution": {
     "iopub.execute_input": "2022-12-07T08:24:49.934023Z",
     "iopub.status.busy": "2022-12-07T08:24:49.933603Z",
     "iopub.status.idle": "2022-12-07T08:24:49.943911Z",
     "shell.execute_reply": "2022-12-07T08:24:49.942879Z"
    },
    "papermill": {
     "duration": 0.047457,
     "end_time": "2022-12-07T08:24:49.945964",
     "exception": false,
     "start_time": "2022-12-07T08:24:49.898507",
     "status": "completed"
    },
    "tags": []
   },
   "outputs": [
    {
     "data": {
      "text/plain": [
       "PassengerId      0\n",
       "Survived         0\n",
       "Pclass           0\n",
       "Sex              0\n",
       "Age            177\n",
       "SibSp            0\n",
       "Parch            0\n",
       "Fare             0\n",
       "Embarked         2\n",
       "dtype: int64"
      ]
     },
     "execution_count": 32,
     "metadata": {},
     "output_type": "execute_result"
    }
   ],
   "source": [
    "train_df.isnull().sum()"
   ]
  },
  {
   "cell_type": "code",
   "execution_count": 33,
   "id": "861fbb37",
   "metadata": {
    "execution": {
     "iopub.execute_input": "2022-12-07T08:24:50.017585Z",
     "iopub.status.busy": "2022-12-07T08:24:50.017155Z",
     "iopub.status.idle": "2022-12-07T08:24:50.026176Z",
     "shell.execute_reply": "2022-12-07T08:24:50.025175Z"
    },
    "papermill": {
     "duration": 0.046363,
     "end_time": "2022-12-07T08:24:50.028207",
     "exception": false,
     "start_time": "2022-12-07T08:24:49.981844",
     "status": "completed"
    },
    "tags": []
   },
   "outputs": [
    {
     "data": {
      "text/plain": [
       "PassengerId     0\n",
       "Pclass          0\n",
       "Sex             0\n",
       "Age            86\n",
       "SibSp           0\n",
       "Parch           0\n",
       "Fare            0\n",
       "Embarked        0\n",
       "dtype: int64"
      ]
     },
     "execution_count": 33,
     "metadata": {},
     "output_type": "execute_result"
    }
   ],
   "source": [
    "test_df.isnull().sum()"
   ]
  },
  {
   "cell_type": "markdown",
   "id": "cd81dfdd",
   "metadata": {
    "papermill": {
     "duration": 0.034524,
     "end_time": "2022-12-07T08:24:50.096597",
     "exception": false,
     "start_time": "2022-12-07T08:24:50.062073",
     "status": "completed"
    },
    "tags": []
   },
   "source": [
    "**We'll replace embarked with the most common value**"
   ]
  },
  {
   "cell_type": "code",
   "execution_count": 34,
   "id": "da996f88",
   "metadata": {
    "execution": {
     "iopub.execute_input": "2022-12-07T08:24:50.166669Z",
     "iopub.status.busy": "2022-12-07T08:24:50.165329Z",
     "iopub.status.idle": "2022-12-07T08:24:50.173515Z",
     "shell.execute_reply": "2022-12-07T08:24:50.172636Z"
    },
    "papermill": {
     "duration": 0.045365,
     "end_time": "2022-12-07T08:24:50.175516",
     "exception": false,
     "start_time": "2022-12-07T08:24:50.130151",
     "status": "completed"
    },
    "tags": []
   },
   "outputs": [
    {
     "data": {
      "text/plain": [
       "0    S\n",
       "dtype: object"
      ]
     },
     "execution_count": 34,
     "metadata": {},
     "output_type": "execute_result"
    }
   ],
   "source": [
    "train_df.Embarked.mode()"
   ]
  },
  {
   "cell_type": "code",
   "execution_count": 35,
   "id": "2b597717",
   "metadata": {
    "execution": {
     "iopub.execute_input": "2022-12-07T08:24:50.245720Z",
     "iopub.status.busy": "2022-12-07T08:24:50.244887Z",
     "iopub.status.idle": "2022-12-07T08:24:50.250265Z",
     "shell.execute_reply": "2022-12-07T08:24:50.249351Z"
    },
    "papermill": {
     "duration": 0.042868,
     "end_time": "2022-12-07T08:24:50.252285",
     "exception": false,
     "start_time": "2022-12-07T08:24:50.209417",
     "status": "completed"
    },
    "tags": []
   },
   "outputs": [],
   "source": [
    "train_df.Embarked.fillna('S', inplace=True)"
   ]
  },
  {
   "cell_type": "markdown",
   "id": "1ea40147",
   "metadata": {
    "papermill": {
     "duration": 0.033696,
     "end_time": "2022-12-07T08:24:50.319863",
     "exception": false,
     "start_time": "2022-12-07T08:24:50.286167",
     "status": "completed"
    },
    "tags": []
   },
   "source": [
    "**Age**"
   ]
  },
  {
   "cell_type": "markdown",
   "id": "da2a7ec7",
   "metadata": {
    "papermill": {
     "duration": 0.033801,
     "end_time": "2022-12-07T08:24:50.387848",
     "exception": false,
     "start_time": "2022-12-07T08:24:50.354047",
     "status": "completed"
    },
    "tags": []
   },
   "source": [
    "Filling values for age is a bit more difficult than just filling in the average as there are factors that could be correlated to one's age group. Let's one hot encode to take a deeper look. "
   ]
  },
  {
   "cell_type": "markdown",
   "id": "60a0df3b",
   "metadata": {
    "papermill": {
     "duration": 0.033993,
     "end_time": "2022-12-07T08:24:50.455853",
     "exception": false,
     "start_time": "2022-12-07T08:24:50.421860",
     "status": "completed"
    },
    "tags": []
   },
   "source": [
    "**One Hot Encoding**"
   ]
  },
  {
   "cell_type": "code",
   "execution_count": 36,
   "id": "ea346199",
   "metadata": {
    "execution": {
     "iopub.execute_input": "2022-12-07T08:24:50.526213Z",
     "iopub.status.busy": "2022-12-07T08:24:50.525175Z",
     "iopub.status.idle": "2022-12-07T08:24:50.542864Z",
     "shell.execute_reply": "2022-12-07T08:24:50.541694Z"
    },
    "papermill": {
     "duration": 0.055007,
     "end_time": "2022-12-07T08:24:50.545081",
     "exception": false,
     "start_time": "2022-12-07T08:24:50.490074",
     "status": "completed"
    },
    "tags": []
   },
   "outputs": [
    {
     "data": {
      "text/plain": [
       "(418, 11)"
      ]
     },
     "execution_count": 36,
     "metadata": {},
     "output_type": "execute_result"
    }
   ],
   "source": [
    "ohe_train_df = pd.get_dummies(train_df)\n",
    "ohe_test_df = pd.get_dummies(test_df)\n",
    "ohe_test_df.shape"
   ]
  },
  {
   "cell_type": "code",
   "execution_count": 37,
   "id": "629eb224",
   "metadata": {
    "execution": {
     "iopub.execute_input": "2022-12-07T08:24:50.615770Z",
     "iopub.status.busy": "2022-12-07T08:24:50.615073Z",
     "iopub.status.idle": "2022-12-07T08:24:50.620761Z",
     "shell.execute_reply": "2022-12-07T08:24:50.619943Z"
    },
    "papermill": {
     "duration": 0.043271,
     "end_time": "2022-12-07T08:24:50.622756",
     "exception": false,
     "start_time": "2022-12-07T08:24:50.579485",
     "status": "completed"
    },
    "tags": []
   },
   "outputs": [
    {
     "data": {
      "text/plain": [
       "(891, 12)"
      ]
     },
     "execution_count": 37,
     "metadata": {},
     "output_type": "execute_result"
    }
   ],
   "source": [
    "ohe_train_df.shape"
   ]
  },
  {
   "cell_type": "markdown",
   "id": "78b9a413",
   "metadata": {
    "papermill": {
     "duration": 0.034433,
     "end_time": "2022-12-07T08:24:50.691606",
     "exception": false,
     "start_time": "2022-12-07T08:24:50.657173",
     "status": "completed"
    },
    "tags": []
   },
   "source": [
    "We will also merge the training and testing datasets in order to gain more information about the age category. This is not common practice in a real production model. However, it is beneficial in the case of a Kaggle competition where our model will never be used on truly unseen data. "
   ]
  },
  {
   "cell_type": "code",
   "execution_count": 38,
   "id": "479411b0",
   "metadata": {
    "execution": {
     "iopub.execute_input": "2022-12-07T08:24:50.762697Z",
     "iopub.status.busy": "2022-12-07T08:24:50.762212Z",
     "iopub.status.idle": "2022-12-07T08:24:50.782055Z",
     "shell.execute_reply": "2022-12-07T08:24:50.780930Z"
    },
    "papermill": {
     "duration": 0.058196,
     "end_time": "2022-12-07T08:24:50.784425",
     "exception": false,
     "start_time": "2022-12-07T08:24:50.726229",
     "status": "completed"
    },
    "tags": []
   },
   "outputs": [
    {
     "data": {
      "text/html": [
       "<div>\n",
       "<style scoped>\n",
       "    .dataframe tbody tr th:only-of-type {\n",
       "        vertical-align: middle;\n",
       "    }\n",
       "\n",
       "    .dataframe tbody tr th {\n",
       "        vertical-align: top;\n",
       "    }\n",
       "\n",
       "    .dataframe thead th {\n",
       "        text-align: right;\n",
       "    }\n",
       "</style>\n",
       "<table border=\"1\" class=\"dataframe\">\n",
       "  <thead>\n",
       "    <tr style=\"text-align: right;\">\n",
       "      <th></th>\n",
       "      <th>PassengerId</th>\n",
       "      <th>Survived</th>\n",
       "      <th>Pclass</th>\n",
       "      <th>Age</th>\n",
       "      <th>SibSp</th>\n",
       "      <th>Parch</th>\n",
       "      <th>Fare</th>\n",
       "      <th>Sex_female</th>\n",
       "      <th>Sex_male</th>\n",
       "      <th>Embarked_C</th>\n",
       "      <th>Embarked_Q</th>\n",
       "      <th>Embarked_S</th>\n",
       "    </tr>\n",
       "  </thead>\n",
       "  <tbody>\n",
       "    <tr>\n",
       "      <th>528</th>\n",
       "      <td>529</td>\n",
       "      <td>0.0</td>\n",
       "      <td>3</td>\n",
       "      <td>39.0</td>\n",
       "      <td>0</td>\n",
       "      <td>0</td>\n",
       "      <td>2.070022</td>\n",
       "      <td>0</td>\n",
       "      <td>1</td>\n",
       "      <td>0</td>\n",
       "      <td>0</td>\n",
       "      <td>1</td>\n",
       "    </tr>\n",
       "  </tbody>\n",
       "</table>\n",
       "</div>"
      ],
      "text/plain": [
       "     PassengerId  Survived  Pclass   Age  SibSp  Parch      Fare  Sex_female  \\\n",
       "528          529       0.0       3  39.0      0      0  2.070022           0   \n",
       "\n",
       "     Sex_male  Embarked_C  Embarked_Q  Embarked_S  \n",
       "528         1           0           0           1  "
      ]
     },
     "execution_count": 38,
     "metadata": {},
     "output_type": "execute_result"
    }
   ],
   "source": [
    "df_all =  pd.concat(objs=[ohe_train_df, ohe_test_df], axis=0).reset_index(drop=True)\n",
    "df_all.sample()"
   ]
  },
  {
   "cell_type": "code",
   "execution_count": 39,
   "id": "13b473a9",
   "metadata": {
    "execution": {
     "iopub.execute_input": "2022-12-07T08:24:50.855793Z",
     "iopub.status.busy": "2022-12-07T08:24:50.855034Z",
     "iopub.status.idle": "2022-12-07T08:24:51.256665Z",
     "shell.execute_reply": "2022-12-07T08:24:51.255476Z"
    },
    "papermill": {
     "duration": 0.440244,
     "end_time": "2022-12-07T08:24:51.259140",
     "exception": false,
     "start_time": "2022-12-07T08:24:50.818896",
     "status": "completed"
    },
    "tags": []
   },
   "outputs": [
    {
     "data": {
      "image/png": "[encoded data removed]",
      "text/plain": [
       "<Figure size 432x288 with 2 Axes>"
      ]
     },
     "metadata": {
      "needs_background": "light"
     },
     "output_type": "display_data"
    }
   ],
   "source": [
    "sns.heatmap(df_all[[\"Age\", \"Sex_female\",\"Sex_male\", \"SibSp\",\"Parch\",\"Pclass\"]].corr(), annot=True)\n",
    "plt.show()"
   ]
  },
  {
   "cell_type": "markdown",
   "id": "3c211004",
   "metadata": {
    "papermill": {
     "duration": 0.035511,
     "end_time": "2022-12-07T08:24:51.329796",
     "exception": false,
     "start_time": "2022-12-07T08:24:51.294285",
     "status": "completed"
    },
    "tags": []
   },
   "source": [
    "Parch, Pclass and SibSp seem to affect age to the greatest degree so we will use those factors to impute the age of the missing population. "
   ]
  },
  {
   "cell_type": "code",
   "execution_count": 40,
   "id": "25f79d3f",
   "metadata": {
    "execution": {
     "iopub.execute_input": "2022-12-07T08:24:51.403238Z",
     "iopub.status.busy": "2022-12-07T08:24:51.402811Z",
     "iopub.status.idle": "2022-12-07T08:24:51.411196Z",
     "shell.execute_reply": "2022-12-07T08:24:51.410285Z"
    },
    "papermill": {
     "duration": 0.047288,
     "end_time": "2022-12-07T08:24:51.413385",
     "exception": false,
     "start_time": "2022-12-07T08:24:51.366097",
     "status": "completed"
    },
    "tags": []
   },
   "outputs": [],
   "source": [
    "df_all['Age'] = df_all['Age'].fillna(df_all.groupby(['Pclass', 'Parch', 'SibSp'])['Age'].transform('mean'))"
   ]
  },
  {
   "cell_type": "code",
   "execution_count": 41,
   "id": "742edc7e",
   "metadata": {
    "execution": {
     "iopub.execute_input": "2022-12-07T08:24:51.485337Z",
     "iopub.status.busy": "2022-12-07T08:24:51.484648Z",
     "iopub.status.idle": "2022-12-07T08:24:51.494066Z",
     "shell.execute_reply": "2022-12-07T08:24:51.493042Z"
    },
    "papermill": {
     "duration": 0.048049,
     "end_time": "2022-12-07T08:24:51.496360",
     "exception": false,
     "start_time": "2022-12-07T08:24:51.448311",
     "status": "completed"
    },
    "tags": []
   },
   "outputs": [
    {
     "data": {
      "text/plain": [
       "PassengerId      0\n",
       "Survived       418\n",
       "Pclass           0\n",
       "Age              2\n",
       "SibSp            0\n",
       "Parch            0\n",
       "Fare             0\n",
       "Sex_female       0\n",
       "Sex_male         0\n",
       "Embarked_C       0\n",
       "Embarked_Q       0\n",
       "Embarked_S       0\n",
       "dtype: int64"
      ]
     },
     "execution_count": 41,
     "metadata": {},
     "output_type": "execute_result"
    }
   ],
   "source": [
    "df_all.isna().sum()"
   ]
  },
  {
   "cell_type": "code",
   "execution_count": 42,
   "id": "1be49d38",
   "metadata": {
    "execution": {
     "iopub.execute_input": "2022-12-07T08:24:51.568300Z",
     "iopub.status.busy": "2022-12-07T08:24:51.567838Z",
     "iopub.status.idle": "2022-12-07T08:24:51.582860Z",
     "shell.execute_reply": "2022-12-07T08:24:51.581768Z"
    },
    "papermill": {
     "duration": 0.053643,
     "end_time": "2022-12-07T08:24:51.585039",
     "exception": false,
     "start_time": "2022-12-07T08:24:51.531396",
     "status": "completed"
    },
    "tags": []
   },
   "outputs": [
    {
     "data": {
      "text/html": [
       "<div>\n",
       "<style scoped>\n",
       "    .dataframe tbody tr th:only-of-type {\n",
       "        vertical-align: middle;\n",
       "    }\n",
       "\n",
       "    .dataframe tbody tr th {\n",
       "        vertical-align: top;\n",
       "    }\n",
       "\n",
       "    .dataframe thead th {\n",
       "        text-align: right;\n",
       "    }\n",
       "</style>\n",
       "<table border=\"1\" class=\"dataframe\">\n",
       "  <thead>\n",
       "    <tr style=\"text-align: right;\">\n",
       "      <th></th>\n",
       "      <th>PassengerId</th>\n",
       "      <th>Survived</th>\n",
       "      <th>Pclass</th>\n",
       "      <th>Age</th>\n",
       "      <th>SibSp</th>\n",
       "      <th>Parch</th>\n",
       "      <th>Fare</th>\n",
       "      <th>Sex_female</th>\n",
       "      <th>Sex_male</th>\n",
       "      <th>Embarked_C</th>\n",
       "      <th>Embarked_Q</th>\n",
       "      <th>Embarked_S</th>\n",
       "    </tr>\n",
       "  </thead>\n",
       "  <tbody>\n",
       "    <tr>\n",
       "      <th>1233</th>\n",
       "      <td>1234</td>\n",
       "      <td>NaN</td>\n",
       "      <td>3</td>\n",
       "      <td>NaN</td>\n",
       "      <td>1</td>\n",
       "      <td>9</td>\n",
       "      <td>4.242046</td>\n",
       "      <td>0</td>\n",
       "      <td>1</td>\n",
       "      <td>0</td>\n",
       "      <td>0</td>\n",
       "      <td>1</td>\n",
       "    </tr>\n",
       "    <tr>\n",
       "      <th>1256</th>\n",
       "      <td>1257</td>\n",
       "      <td>NaN</td>\n",
       "      <td>3</td>\n",
       "      <td>NaN</td>\n",
       "      <td>1</td>\n",
       "      <td>9</td>\n",
       "      <td>4.242046</td>\n",
       "      <td>1</td>\n",
       "      <td>0</td>\n",
       "      <td>0</td>\n",
       "      <td>0</td>\n",
       "      <td>1</td>\n",
       "    </tr>\n",
       "  </tbody>\n",
       "</table>\n",
       "</div>"
      ],
      "text/plain": [
       "      PassengerId  Survived  Pclass  Age  SibSp  Parch      Fare  Sex_female  \\\n",
       "1233         1234       NaN       3  NaN      1      9  4.242046           0   \n",
       "1256         1257       NaN       3  NaN      1      9  4.242046           1   \n",
       "\n",
       "      Sex_male  Embarked_C  Embarked_Q  Embarked_S  \n",
       "1233         1           0           0           1  \n",
       "1256         0           0           0           1  "
      ]
     },
     "execution_count": 42,
     "metadata": {},
     "output_type": "execute_result"
    }
   ],
   "source": [
    "df_all[df_all['Age'].isna()]"
   ]
  },
  {
   "cell_type": "markdown",
   "id": "c7c4a9e1",
   "metadata": {
    "papermill": {
     "duration": 0.034901,
     "end_time": "2022-12-07T08:24:51.655680",
     "exception": false,
     "start_time": "2022-12-07T08:24:51.620779",
     "status": "completed"
    },
    "tags": []
   },
   "source": [
    "There are still two Nan values for age. This is due to the fact that there are no mean values for a family with a Parch of 9. We cannot drop these rows since they are part of the final testing dataset. Therefore we will will it with the age of 14.5 since that is the average age of the population with the closest approximate features."
   ]
  },
  {
   "cell_type": "code",
   "execution_count": 43,
   "id": "3102924d",
   "metadata": {
    "execution": {
     "iopub.execute_input": "2022-12-07T08:24:51.727574Z",
     "iopub.status.busy": "2022-12-07T08:24:51.727167Z",
     "iopub.status.idle": "2022-12-07T08:24:51.743324Z",
     "shell.execute_reply": "2022-12-07T08:24:51.742197Z"
    },
    "papermill": {
     "duration": 0.054747,
     "end_time": "2022-12-07T08:24:51.745553",
     "exception": false,
     "start_time": "2022-12-07T08:24:51.690806",
     "status": "completed"
    },
    "tags": []
   },
   "outputs": [
    {
     "data": {
      "text/html": [
       "<div>\n",
       "<style scoped>\n",
       "    .dataframe tbody tr th:only-of-type {\n",
       "        vertical-align: middle;\n",
       "    }\n",
       "\n",
       "    .dataframe tbody tr th {\n",
       "        vertical-align: top;\n",
       "    }\n",
       "\n",
       "    .dataframe thead th {\n",
       "        text-align: right;\n",
       "    }\n",
       "</style>\n",
       "<table border=\"1\" class=\"dataframe\">\n",
       "  <thead>\n",
       "    <tr style=\"text-align: right;\">\n",
       "      <th></th>\n",
       "      <th></th>\n",
       "      <th>Age</th>\n",
       "    </tr>\n",
       "    <tr>\n",
       "      <th>Pclass</th>\n",
       "      <th>SibSp</th>\n",
       "      <th></th>\n",
       "    </tr>\n",
       "  </thead>\n",
       "  <tbody>\n",
       "    <tr>\n",
       "      <th rowspan=\"4\" valign=\"top\">1</th>\n",
       "      <th>0</th>\n",
       "      <td>39.257042</td>\n",
       "    </tr>\n",
       "    <tr>\n",
       "      <th>1</th>\n",
       "      <td>39.878888</td>\n",
       "    </tr>\n",
       "    <tr>\n",
       "      <th>2</th>\n",
       "      <td>39.125000</td>\n",
       "    </tr>\n",
       "    <tr>\n",
       "      <th>3</th>\n",
       "      <td>23.500000</td>\n",
       "    </tr>\n",
       "    <tr>\n",
       "      <th rowspan=\"4\" valign=\"top\">2</th>\n",
       "      <th>0</th>\n",
       "      <td>31.202324</td>\n",
       "    </tr>\n",
       "    <tr>\n",
       "      <th>1</th>\n",
       "      <td>27.767317</td>\n",
       "    </tr>\n",
       "    <tr>\n",
       "      <th>2</th>\n",
       "      <td>19.250000</td>\n",
       "    </tr>\n",
       "    <tr>\n",
       "      <th>3</th>\n",
       "      <td>30.000000</td>\n",
       "    </tr>\n",
       "    <tr>\n",
       "      <th rowspan=\"7\" valign=\"top\">3</th>\n",
       "      <th>0</th>\n",
       "      <td>27.186932</td>\n",
       "    </tr>\n",
       "    <tr>\n",
       "      <th>1</th>\n",
       "      <td>23.535183</td>\n",
       "    </tr>\n",
       "    <tr>\n",
       "      <th>2</th>\n",
       "      <td>20.659091</td>\n",
       "    </tr>\n",
       "    <tr>\n",
       "      <th>3</th>\n",
       "      <td>11.693333</td>\n",
       "    </tr>\n",
       "    <tr>\n",
       "      <th>4</th>\n",
       "      <td>8.772727</td>\n",
       "    </tr>\n",
       "    <tr>\n",
       "      <th>5</th>\n",
       "      <td>10.166667</td>\n",
       "    </tr>\n",
       "    <tr>\n",
       "      <th>8</th>\n",
       "      <td>14.500000</td>\n",
       "    </tr>\n",
       "  </tbody>\n",
       "</table>\n",
       "</div>"
      ],
      "text/plain": [
       "                    Age\n",
       "Pclass SibSp           \n",
       "1      0      39.257042\n",
       "       1      39.878888\n",
       "       2      39.125000\n",
       "       3      23.500000\n",
       "2      0      31.202324\n",
       "       1      27.767317\n",
       "       2      19.250000\n",
       "       3      30.000000\n",
       "3      0      27.186932\n",
       "       1      23.535183\n",
       "       2      20.659091\n",
       "       3      11.693333\n",
       "       4       8.772727\n",
       "       5      10.166667\n",
       "       8      14.500000"
      ]
     },
     "execution_count": 43,
     "metadata": {},
     "output_type": "execute_result"
    }
   ],
   "source": [
    "df_all[['Age', 'Pclass', 'SibSp']].groupby(['Pclass', 'SibSp']).mean()"
   ]
  },
  {
   "cell_type": "code",
   "execution_count": 44,
   "id": "725d1a1e",
   "metadata": {
    "execution": {
     "iopub.execute_input": "2022-12-07T08:24:51.819585Z",
     "iopub.status.busy": "2022-12-07T08:24:51.818624Z",
     "iopub.status.idle": "2022-12-07T08:24:51.824674Z",
     "shell.execute_reply": "2022-12-07T08:24:51.823867Z"
    },
    "papermill": {
     "duration": 0.045708,
     "end_time": "2022-12-07T08:24:51.826992",
     "exception": false,
     "start_time": "2022-12-07T08:24:51.781284",
     "status": "completed"
    },
    "tags": []
   },
   "outputs": [],
   "source": [
    "df_all['Age'].fillna(14.5, inplace=True)"
   ]
  },
  {
   "cell_type": "code",
   "execution_count": 45,
   "id": "53794f2f",
   "metadata": {
    "execution": {
     "iopub.execute_input": "2022-12-07T08:24:51.900575Z",
     "iopub.status.busy": "2022-12-07T08:24:51.899478Z",
     "iopub.status.idle": "2022-12-07T08:24:51.907365Z",
     "shell.execute_reply": "2022-12-07T08:24:51.906200Z"
    },
    "papermill": {
     "duration": 0.047155,
     "end_time": "2022-12-07T08:24:51.909648",
     "exception": false,
     "start_time": "2022-12-07T08:24:51.862493",
     "status": "completed"
    },
    "tags": []
   },
   "outputs": [
    {
     "data": {
      "text/plain": [
       "0"
      ]
     },
     "execution_count": 45,
     "metadata": {},
     "output_type": "execute_result"
    }
   ],
   "source": [
    "df_all.Age.isna().sum()"
   ]
  },
  {
   "cell_type": "markdown",
   "id": "07e5bebb",
   "metadata": {
    "papermill": {
     "duration": 0.036161,
     "end_time": "2022-12-07T08:24:51.981830",
     "exception": false,
     "start_time": "2022-12-07T08:24:51.945669",
     "status": "completed"
    },
    "tags": []
   },
   "source": [
    "We can split the dataset back into training and testing with the imputed values now. "
   ]
  },
  {
   "cell_type": "code",
   "execution_count": 46,
   "id": "3876952b",
   "metadata": {
    "execution": {
     "iopub.execute_input": "2022-12-07T08:24:52.055352Z",
     "iopub.status.busy": "2022-12-07T08:24:52.054932Z",
     "iopub.status.idle": "2022-12-07T08:24:52.059893Z",
     "shell.execute_reply": "2022-12-07T08:24:52.059029Z"
    },
    "papermill": {
     "duration": 0.044096,
     "end_time": "2022-12-07T08:24:52.061967",
     "exception": false,
     "start_time": "2022-12-07T08:24:52.017871",
     "status": "completed"
    },
    "tags": []
   },
   "outputs": [],
   "source": [
    "train = df_all[:len(train_df)]\n",
    "test = df_all[len(train_df):]"
   ]
  },
  {
   "cell_type": "code",
   "execution_count": 47,
   "id": "b6d3fa81",
   "metadata": {
    "execution": {
     "iopub.execute_input": "2022-12-07T08:24:52.136936Z",
     "iopub.status.busy": "2022-12-07T08:24:52.135749Z",
     "iopub.status.idle": "2022-12-07T08:24:52.149640Z",
     "shell.execute_reply": "2022-12-07T08:24:52.148581Z"
    },
    "papermill": {
     "duration": 0.053596,
     "end_time": "2022-12-07T08:24:52.152268",
     "exception": false,
     "start_time": "2022-12-07T08:24:52.098672",
     "status": "completed"
    },
    "tags": []
   },
   "outputs": [
    {
     "name": "stderr",
     "output_type": "stream",
     "text": [
      "/opt/conda/lib/python3.7/site-packages/pandas/core/frame.py:4913: SettingWithCopyWarning: \n",
      "A value is trying to be set on a copy of a slice from a DataFrame\n",
      "\n",
      "See the caveats in the documentation: https://pandas.pydata.org/pandas-docs/stable/user_guide/indexing.html#returning-a-view-versus-a-copy\n",
      "  errors=errors,\n"
     ]
    }
   ],
   "source": [
    "test.drop(columns='Survived', inplace=True, axis=1)\n",
    "train.drop(columns='PassengerId', inplace=True, axis=1)\n",
    "test.drop(columns='PassengerId', inplace=True, axis=1)"
   ]
  },
  {
   "cell_type": "markdown",
   "id": "a4fa584a",
   "metadata": {
    "papermill": {
     "duration": 0.03574,
     "end_time": "2022-12-07T08:24:52.224336",
     "exception": false,
     "start_time": "2022-12-07T08:24:52.188596",
     "status": "completed"
    },
    "tags": []
   },
   "source": [
    "**Modeling**"
   ]
  },
  {
   "cell_type": "markdown",
   "id": "d10327ba",
   "metadata": {
    "papermill": {
     "duration": 0.035937,
     "end_time": "2022-12-07T08:24:52.296462",
     "exception": false,
     "start_time": "2022-12-07T08:24:52.260525",
     "status": "completed"
    },
    "tags": []
   },
   "source": [
    "We'll use several popular models and evaluat their accuracy using cross validation. "
   ]
  },
  {
   "cell_type": "code",
   "execution_count": 48,
   "id": "a059f30c",
   "metadata": {
    "execution": {
     "iopub.execute_input": "2022-12-07T08:24:52.370395Z",
     "iopub.status.busy": "2022-12-07T08:24:52.369581Z",
     "iopub.status.idle": "2022-12-07T08:24:52.806898Z",
     "shell.execute_reply": "2022-12-07T08:24:52.805463Z"
    },
    "papermill": {
     "duration": 0.477381,
     "end_time": "2022-12-07T08:24:52.809645",
     "exception": false,
     "start_time": "2022-12-07T08:24:52.332264",
     "status": "completed"
    },
    "tags": []
   },
   "outputs": [],
   "source": [
    "from sklearn.model_selection import cross_val_score\n",
    "from sklearn.naive_bayes import GaussianNB\n",
    "from sklearn.linear_model import LogisticRegression\n",
    "from sklearn.tree import DecisionTreeClassifier\n",
    "from sklearn.ensemble import RandomForestClassifier, VotingClassifier\n",
    "from sklearn.neighbors import KNeighborsClassifier\n",
    "from sklearn.svm import SVC\n",
    "from xgboost import XGBClassifier\n"
   ]
  },
  {
   "cell_type": "code",
   "execution_count": 49,
   "id": "0993dcc4",
   "metadata": {
    "execution": {
     "iopub.execute_input": "2022-12-07T08:24:52.883034Z",
     "iopub.status.busy": "2022-12-07T08:24:52.882617Z",
     "iopub.status.idle": "2022-12-07T08:24:52.890525Z",
     "shell.execute_reply": "2022-12-07T08:24:52.889311Z"
    },
    "papermill": {
     "duration": 0.047412,
     "end_time": "2022-12-07T08:24:52.892871",
     "exception": false,
     "start_time": "2022-12-07T08:24:52.845459",
     "status": "completed"
    },
    "tags": []
   },
   "outputs": [],
   "source": [
    "X = train.drop(columns='Survived', axis=1)\n",
    "y = train.Survived"
   ]
  },
  {
   "cell_type": "code",
   "execution_count": 50,
   "id": "663ff0ec",
   "metadata": {
    "execution": {
     "iopub.execute_input": "2022-12-07T08:24:52.966536Z",
     "iopub.status.busy": "2022-12-07T08:24:52.966072Z",
     "iopub.status.idle": "2022-12-07T08:24:52.970561Z",
     "shell.execute_reply": "2022-12-07T08:24:52.969463Z"
    },
    "papermill": {
     "duration": 0.04386,
     "end_time": "2022-12-07T08:24:52.972623",
     "exception": false,
     "start_time": "2022-12-07T08:24:52.928763",
     "status": "completed"
    },
    "tags": []
   },
   "outputs": [],
   "source": [
    "r_state = 16"
   ]
  },
  {
   "cell_type": "code",
   "execution_count": 51,
   "id": "a332ead2",
   "metadata": {
    "execution": {
     "iopub.execute_input": "2022-12-07T08:24:53.113226Z",
     "iopub.status.busy": "2022-12-07T08:24:53.112533Z",
     "iopub.status.idle": "2022-12-07T08:24:53.117740Z",
     "shell.execute_reply": "2022-12-07T08:24:53.116933Z"
    },
    "papermill": {
     "duration": 0.11202,
     "end_time": "2022-12-07T08:24:53.120100",
     "exception": false,
     "start_time": "2022-12-07T08:24:53.008080",
     "status": "completed"
    },
    "tags": []
   },
   "outputs": [],
   "source": [
    "classifiers = ['gnb', 'lr', 'dtc', 'rfc', 'knn', 'svc', 'xgb', 'vc']\n",
    "cv_scores = []"
   ]
  },
  {
   "cell_type": "code",
   "execution_count": 52,
   "id": "ce005dbc",
   "metadata": {
    "execution": {
     "iopub.execute_input": "2022-12-07T08:24:53.193754Z",
     "iopub.status.busy": "2022-12-07T08:24:53.193364Z",
     "iopub.status.idle": "2022-12-07T08:24:53.231977Z",
     "shell.execute_reply": "2022-12-07T08:24:53.230710Z"
    },
    "papermill": {
     "duration": 0.078345,
     "end_time": "2022-12-07T08:24:53.234656",
     "exception": false,
     "start_time": "2022-12-07T08:24:53.156311",
     "status": "completed"
    },
    "tags": []
   },
   "outputs": [
    {
     "data": {
      "text/plain": [
       "0.7823049400539828"
      ]
     },
     "execution_count": 52,
     "metadata": {},
     "output_type": "execute_result"
    }
   ],
   "source": [
    "gnb = GaussianNB()\n",
    "cv = cross_val_score(gnb, X, y, cv=5)\n",
    "cv_scores.append(cv.mean())\n",
    "cv.mean()"
   ]
  },
  {
   "cell_type": "code",
   "execution_count": 53,
   "id": "b94a2b07",
   "metadata": {
    "execution": {
     "iopub.execute_input": "2022-12-07T08:24:53.308711Z",
     "iopub.status.busy": "2022-12-07T08:24:53.308315Z",
     "iopub.status.idle": "2022-12-07T08:24:53.531748Z",
     "shell.execute_reply": "2022-12-07T08:24:53.530692Z"
    },
    "papermill": {
     "duration": 0.263792,
     "end_time": "2022-12-07T08:24:53.534548",
     "exception": false,
     "start_time": "2022-12-07T08:24:53.270756",
     "status": "completed"
    },
    "tags": []
   },
   "outputs": [
    {
     "data": {
      "text/plain": [
       "0.7901387232439896"
      ]
     },
     "execution_count": 53,
     "metadata": {},
     "output_type": "execute_result"
    }
   ],
   "source": [
    "lr = LogisticRegression(random_state=r_state, max_iter=2500)\n",
    "cv = cross_val_score(lr, X, y, cv=5)\n",
    "cv_scores.append(cv.mean())\n",
    "cv.mean()"
   ]
  },
  {
   "cell_type": "code",
   "execution_count": 54,
   "id": "83d73926",
   "metadata": {
    "execution": {
     "iopub.execute_input": "2022-12-07T08:24:53.609161Z",
     "iopub.status.busy": "2022-12-07T08:24:53.608709Z",
     "iopub.status.idle": "2022-12-07T08:24:53.653421Z",
     "shell.execute_reply": "2022-12-07T08:24:53.652577Z"
    },
    "papermill": {
     "duration": 0.084997,
     "end_time": "2022-12-07T08:24:53.655699",
     "exception": false,
     "start_time": "2022-12-07T08:24:53.570702",
     "status": "completed"
    },
    "tags": []
   },
   "outputs": [
    {
     "data": {
      "text/plain": [
       "0.7733601154980855"
      ]
     },
     "execution_count": 54,
     "metadata": {},
     "output_type": "execute_result"
    }
   ],
   "source": [
    "dtc = DecisionTreeClassifier(random_state=r_state)\n",
    "cv = cross_val_score(dtc, X, y, cv=5)\n",
    "cv_scores.append(cv.mean())\n",
    "cv.mean()"
   ]
  },
  {
   "cell_type": "code",
   "execution_count": 55,
   "id": "2e32fb26",
   "metadata": {
    "execution": {
     "iopub.execute_input": "2022-12-07T08:24:53.731724Z",
     "iopub.status.busy": "2022-12-07T08:24:53.730853Z",
     "iopub.status.idle": "2022-12-07T08:24:54.747353Z",
     "shell.execute_reply": "2022-12-07T08:24:54.746175Z"
    },
    "papermill": {
     "duration": 1.05745,
     "end_time": "2022-12-07T08:24:54.750145",
     "exception": false,
     "start_time": "2022-12-07T08:24:53.692695",
     "status": "completed"
    },
    "tags": []
   },
   "outputs": [
    {
     "data": {
      "text/plain": [
       "0.8081099742640134"
      ]
     },
     "execution_count": 55,
     "metadata": {},
     "output_type": "execute_result"
    }
   ],
   "source": [
    "rfc = RandomForestClassifier(random_state=r_state)\n",
    "cv = cross_val_score(rfc, X, y, cv=5)\n",
    "cv_scores.append(cv.mean())\n",
    "cv.mean()"
   ]
  },
  {
   "cell_type": "code",
   "execution_count": 56,
   "id": "35d0517a",
   "metadata": {
    "execution": {
     "iopub.execute_input": "2022-12-07T08:24:54.824778Z",
     "iopub.status.busy": "2022-12-07T08:24:54.824161Z",
     "iopub.status.idle": "2022-12-07T08:24:54.889450Z",
     "shell.execute_reply": "2022-12-07T08:24:54.888341Z"
    },
    "papermill": {
     "duration": 0.105339,
     "end_time": "2022-12-07T08:24:54.892029",
     "exception": false,
     "start_time": "2022-12-07T08:24:54.786690",
     "status": "completed"
    },
    "tags": []
   },
   "outputs": [
    {
     "data": {
      "text/plain": [
       "0.7878915322327538"
      ]
     },
     "execution_count": 56,
     "metadata": {},
     "output_type": "execute_result"
    }
   ],
   "source": [
    "knn = KNeighborsClassifier()\n",
    "cv = cross_val_score(knn, X, y, cv=5)\n",
    "cv_scores.append(cv.mean())\n",
    "cv.mean()"
   ]
  },
  {
   "cell_type": "code",
   "execution_count": 57,
   "id": "e82495d1",
   "metadata": {
    "execution": {
     "iopub.execute_input": "2022-12-07T08:24:54.968071Z",
     "iopub.status.busy": "2022-12-07T08:24:54.967629Z",
     "iopub.status.idle": "2022-12-07T08:24:55.607702Z",
     "shell.execute_reply": "2022-12-07T08:24:55.606410Z"
    },
    "papermill": {
     "duration": 0.6816,
     "end_time": "2022-12-07T08:24:55.610562",
     "exception": false,
     "start_time": "2022-12-07T08:24:54.928962",
     "status": "completed"
    },
    "tags": []
   },
   "outputs": [
    {
     "data": {
      "text/plain": [
       "0.7228297030945955"
      ]
     },
     "execution_count": 57,
     "metadata": {},
     "output_type": "execute_result"
    }
   ],
   "source": [
    "svc = SVC(random_state=r_state, probability=True)\n",
    "cv = cross_val_score(svc, X, y, cv=5)\n",
    "cv_scores.append(cv.mean())\n",
    "cv.mean()"
   ]
  },
  {
   "cell_type": "code",
   "execution_count": 58,
   "id": "74d6215e",
   "metadata": {
    "execution": {
     "iopub.execute_input": "2022-12-07T08:24:55.687336Z",
     "iopub.status.busy": "2022-12-07T08:24:55.686087Z",
     "iopub.status.idle": "2022-12-07T08:24:57.207029Z",
     "shell.execute_reply": "2022-12-07T08:24:57.206041Z"
    },
    "papermill": {
     "duration": 1.561392,
     "end_time": "2022-12-07T08:24:57.209352",
     "exception": false,
     "start_time": "2022-12-07T08:24:55.647960",
     "status": "completed"
    },
    "tags": []
   },
   "outputs": [
    {
     "data": {
      "text/plain": [
       "0.8103634423451131"
      ]
     },
     "execution_count": 58,
     "metadata": {},
     "output_type": "execute_result"
    }
   ],
   "source": [
    "xgb = XGBClassifier(random_state=r_state)\n",
    "cv = cross_val_score(xgb, X, y, cv=5)\n",
    "cv_scores.append(cv.mean())\n",
    "cv.mean()"
   ]
  },
  {
   "cell_type": "code",
   "execution_count": 59,
   "id": "34610a35",
   "metadata": {
    "execution": {
     "iopub.execute_input": "2022-12-07T08:24:57.285736Z",
     "iopub.status.busy": "2022-12-07T08:24:57.285280Z",
     "iopub.status.idle": "2022-12-07T08:25:00.702522Z",
     "shell.execute_reply": "2022-12-07T08:25:00.701153Z"
    },
    "papermill": {
     "duration": 3.458172,
     "end_time": "2022-12-07T08:25:00.705230",
     "exception": false,
     "start_time": "2022-12-07T08:24:57.247058",
     "status": "completed"
    },
    "tags": []
   },
   "outputs": [
    {
     "data": {
      "text/plain": [
       "0.8226916075575922"
      ]
     },
     "execution_count": 59,
     "metadata": {},
     "output_type": "execute_result"
    }
   ],
   "source": [
    "vc = VotingClassifier(estimators = [('lr',lr),('knn',knn),('dtc',dtc),('rfc',rfc),('gnb',gnb),('svc',svc),('xgb',xgb)], voting = 'soft')\n",
    "cv = cross_val_score(vc, X, y, cv=5)\n",
    "cv_scores.append(cv.mean())\n",
    "cv.mean()"
   ]
  },
  {
   "cell_type": "code",
   "execution_count": 60,
   "id": "4fadf6a9",
   "metadata": {
    "execution": {
     "iopub.execute_input": "2022-12-07T08:25:00.781603Z",
     "iopub.status.busy": "2022-12-07T08:25:00.780243Z",
     "iopub.status.idle": "2022-12-07T08:25:00.792879Z",
     "shell.execute_reply": "2022-12-07T08:25:00.791756Z"
    },
    "papermill": {
     "duration": 0.053124,
     "end_time": "2022-12-07T08:25:00.795313",
     "exception": false,
     "start_time": "2022-12-07T08:25:00.742189",
     "status": "completed"
    },
    "tags": []
   },
   "outputs": [
    {
     "data": {
      "text/html": [
       "<div>\n",
       "<style scoped>\n",
       "    .dataframe tbody tr th:only-of-type {\n",
       "        vertical-align: middle;\n",
       "    }\n",
       "\n",
       "    .dataframe tbody tr th {\n",
       "        vertical-align: top;\n",
       "    }\n",
       "\n",
       "    .dataframe thead th {\n",
       "        text-align: right;\n",
       "    }\n",
       "</style>\n",
       "<table border=\"1\" class=\"dataframe\">\n",
       "  <thead>\n",
       "    <tr style=\"text-align: right;\">\n",
       "      <th></th>\n",
       "      <th>Model</th>\n",
       "      <th>Scores</th>\n",
       "    </tr>\n",
       "  </thead>\n",
       "  <tbody>\n",
       "    <tr>\n",
       "      <th>0</th>\n",
       "      <td>gnb</td>\n",
       "      <td>0.782305</td>\n",
       "    </tr>\n",
       "    <tr>\n",
       "      <th>1</th>\n",
       "      <td>lr</td>\n",
       "      <td>0.790139</td>\n",
       "    </tr>\n",
       "    <tr>\n",
       "      <th>2</th>\n",
       "      <td>dtc</td>\n",
       "      <td>0.773360</td>\n",
       "    </tr>\n",
       "    <tr>\n",
       "      <th>3</th>\n",
       "      <td>rfc</td>\n",
       "      <td>0.808110</td>\n",
       "    </tr>\n",
       "    <tr>\n",
       "      <th>4</th>\n",
       "      <td>knn</td>\n",
       "      <td>0.787892</td>\n",
       "    </tr>\n",
       "    <tr>\n",
       "      <th>5</th>\n",
       "      <td>svc</td>\n",
       "      <td>0.722830</td>\n",
       "    </tr>\n",
       "    <tr>\n",
       "      <th>6</th>\n",
       "      <td>xgb</td>\n",
       "      <td>0.810363</td>\n",
       "    </tr>\n",
       "    <tr>\n",
       "      <th>7</th>\n",
       "      <td>vc</td>\n",
       "      <td>0.822692</td>\n",
       "    </tr>\n",
       "  </tbody>\n",
       "</table>\n",
       "</div>"
      ],
      "text/plain": [
       "  Model    Scores\n",
       "0   gnb  0.782305\n",
       "1    lr  0.790139\n",
       "2   dtc  0.773360\n",
       "3   rfc  0.808110\n",
       "4   knn  0.787892\n",
       "5   svc  0.722830\n",
       "6   xgb  0.810363\n",
       "7    vc  0.822692"
      ]
     },
     "execution_count": 60,
     "metadata": {},
     "output_type": "execute_result"
    }
   ],
   "source": [
    "model_scores = pd.DataFrame({'Model': classifiers, 'Scores': cv_scores})\n",
    "model_scores"
   ]
  },
  {
   "cell_type": "markdown",
   "id": "4acec505",
   "metadata": {
    "papermill": {
     "duration": 0.036973,
     "end_time": "2022-12-07T08:25:00.870773",
     "exception": false,
     "start_time": "2022-12-07T08:25:00.833800",
     "status": "completed"
    },
    "tags": []
   },
   "source": [
    "It appears the soft voting classifier performed the best. Let's see if we can improve performance."
   ]
  },
  {
   "cell_type": "markdown",
   "id": "b3aba343",
   "metadata": {
    "papermill": {
     "duration": 0.03654,
     "end_time": "2022-12-07T08:25:00.946493",
     "exception": false,
     "start_time": "2022-12-07T08:25:00.909953",
     "status": "completed"
    },
    "tags": []
   },
   "source": [
    "**Model Tuning**"
   ]
  },
  {
   "cell_type": "code",
   "execution_count": 61,
   "id": "81f28b14",
   "metadata": {
    "execution": {
     "iopub.execute_input": "2022-12-07T08:25:01.021914Z",
     "iopub.status.busy": "2022-12-07T08:25:01.021485Z",
     "iopub.status.idle": "2022-12-07T08:25:01.026241Z",
     "shell.execute_reply": "2022-12-07T08:25:01.025045Z"
    },
    "papermill": {
     "duration": 0.045236,
     "end_time": "2022-12-07T08:25:01.028480",
     "exception": false,
     "start_time": "2022-12-07T08:25:00.983244",
     "status": "completed"
    },
    "tags": []
   },
   "outputs": [],
   "source": [
    "from sklearn.model_selection import GridSearchCV \n",
    "from sklearn.model_selection import RandomizedSearchCV"
   ]
  },
  {
   "cell_type": "code",
   "execution_count": 62,
   "id": "c328ee7f",
   "metadata": {
    "execution": {
     "iopub.execute_input": "2022-12-07T08:25:01.104044Z",
     "iopub.status.busy": "2022-12-07T08:25:01.103245Z",
     "iopub.status.idle": "2022-12-07T08:25:01.108037Z",
     "shell.execute_reply": "2022-12-07T08:25:01.107186Z"
    },
    "papermill": {
     "duration": 0.045035,
     "end_time": "2022-12-07T08:25:01.110305",
     "exception": false,
     "start_time": "2022-12-07T08:25:01.065270",
     "status": "completed"
    },
    "tags": []
   },
   "outputs": [],
   "source": [
    "tuned_scores = []"
   ]
  },
  {
   "cell_type": "markdown",
   "id": "8964fa4b",
   "metadata": {
    "papermill": {
     "duration": 0.036257,
     "end_time": "2022-12-07T08:25:01.184464",
     "exception": false,
     "start_time": "2022-12-07T08:25:01.148207",
     "status": "completed"
    },
    "tags": []
   },
   "source": [
    "Bayesion model doesn't have any significant tuning. "
   ]
  },
  {
   "cell_type": "code",
   "execution_count": 63,
   "id": "6beb8d00",
   "metadata": {
    "execution": {
     "iopub.execute_input": "2022-12-07T08:25:01.260154Z",
     "iopub.status.busy": "2022-12-07T08:25:01.259101Z",
     "iopub.status.idle": "2022-12-07T08:25:01.264603Z",
     "shell.execute_reply": "2022-12-07T08:25:01.263628Z"
    },
    "papermill": {
     "duration": 0.04598,
     "end_time": "2022-12-07T08:25:01.266896",
     "exception": false,
     "start_time": "2022-12-07T08:25:01.220916",
     "status": "completed"
    },
    "tags": []
   },
   "outputs": [],
   "source": [
    "tuned_scores.append('NA')"
   ]
  },
  {
   "cell_type": "markdown",
   "id": "1adc51fa",
   "metadata": {
    "papermill": {
     "duration": 0.036884,
     "end_time": "2022-12-07T08:25:01.341052",
     "exception": false,
     "start_time": "2022-12-07T08:25:01.304168",
     "status": "completed"
    },
    "tags": []
   },
   "source": [
    "Logistic Regression"
   ]
  },
  {
   "cell_type": "code",
   "execution_count": 64,
   "id": "fab0da29",
   "metadata": {
    "execution": {
     "iopub.execute_input": "2022-12-07T08:25:01.417136Z",
     "iopub.status.busy": "2022-12-07T08:25:01.416456Z",
     "iopub.status.idle": "2022-12-07T08:25:03.340735Z",
     "shell.execute_reply": "2022-12-07T08:25:03.339481Z"
    },
    "papermill": {
     "duration": 1.965357,
     "end_time": "2022-12-07T08:25:03.343237",
     "exception": false,
     "start_time": "2022-12-07T08:25:01.377880",
     "status": "completed"
    },
    "tags": []
   },
   "outputs": [
    {
     "data": {
      "text/plain": [
       "LogisticRegression(max_iter=250, random_state=16, solver='liblinear')"
      ]
     },
     "execution_count": 64,
     "metadata": {},
     "output_type": "execute_result"
    }
   ],
   "source": [
    "params = {'max_iter' : [250, 500, 750, 1000, 1500, 2500, 5000],\n",
    "              'penalty' : ['l1', 'l2'],\n",
    "              'solver' : ['liblinear']}\n",
    "\n",
    "lr_gs = GridSearchCV(lr, param_grid = params, cv = 5, verbose = False, n_jobs = -1)\n",
    "lr_gs.fit(X, y)\n",
    "lr_gs.best_estimator_"
   ]
  },
  {
   "cell_type": "code",
   "execution_count": 65,
   "id": "6288c84b",
   "metadata": {
    "_kg_hide-input": true,
    "execution": {
     "iopub.execute_input": "2022-12-07T08:25:03.420062Z",
     "iopub.status.busy": "2022-12-07T08:25:03.419404Z",
     "iopub.status.idle": "2022-12-07T08:25:03.424956Z",
     "shell.execute_reply": "2022-12-07T08:25:03.424101Z"
    },
    "papermill": {
     "duration": 0.046802,
     "end_time": "2022-12-07T08:25:03.427189",
     "exception": false,
     "start_time": "2022-12-07T08:25:03.380387",
     "status": "completed"
    },
    "tags": []
   },
   "outputs": [],
   "source": [
    "best_lr = LogisticRegression(max_iter=500, penalty='l2', random_state=16, solver='liblinear')"
   ]
  },
  {
   "cell_type": "code",
   "execution_count": 66,
   "id": "7c4ffc5f",
   "metadata": {
    "execution": {
     "iopub.execute_input": "2022-12-07T08:25:03.505481Z",
     "iopub.status.busy": "2022-12-07T08:25:03.504793Z",
     "iopub.status.idle": "2022-12-07T08:25:03.512232Z",
     "shell.execute_reply": "2022-12-07T08:25:03.511143Z"
    },
    "papermill": {
     "duration": 0.049686,
     "end_time": "2022-12-07T08:25:03.514714",
     "exception": false,
     "start_time": "2022-12-07T08:25:03.465028",
     "status": "completed"
    },
    "tags": []
   },
   "outputs": [
    {
     "data": {
      "text/plain": [
       "0.7901324461741259"
      ]
     },
     "execution_count": 66,
     "metadata": {},
     "output_type": "execute_result"
    }
   ],
   "source": [
    "tuned_scores.append(lr_gs.best_score_)\n",
    "lr_gs.best_score_"
   ]
  },
  {
   "cell_type": "markdown",
   "id": "e8890e58",
   "metadata": {
    "papermill": {
     "duration": 0.036606,
     "end_time": "2022-12-07T08:25:03.588578",
     "exception": false,
     "start_time": "2022-12-07T08:25:03.551972",
     "status": "completed"
    },
    "tags": []
   },
   "source": [
    "Decision Tree Classifier"
   ]
  },
  {
   "cell_type": "code",
   "execution_count": 67,
   "id": "eff9fd2f",
   "metadata": {
    "execution": {
     "iopub.execute_input": "2022-12-07T08:25:03.665126Z",
     "iopub.status.busy": "2022-12-07T08:25:03.664543Z",
     "iopub.status.idle": "2022-12-07T08:25:04.395500Z",
     "shell.execute_reply": "2022-12-07T08:25:04.394199Z"
    },
    "papermill": {
     "duration": 0.77227,
     "end_time": "2022-12-07T08:25:04.398565",
     "exception": false,
     "start_time": "2022-12-07T08:25:03.626295",
     "status": "completed"
    },
    "tags": []
   },
   "outputs": [
    {
     "data": {
      "text/plain": [
       "DecisionTreeClassifier(criterion='entropy', max_depth=5, max_features=10,\n",
       "                       min_samples_leaf=5, min_samples_split=5,\n",
       "                       random_state=16)"
      ]
     },
     "execution_count": 67,
     "metadata": {},
     "output_type": "execute_result"
    }
   ],
   "source": [
    "params = {'max_depth': [3, 5, 10, 20, 30],\n",
    "          'criterion' : ['gini', 'entropy'],\n",
    "          'min_samples_leaf' : [1, 3, 5, 10],\n",
    "         'min_samples_split' : [2, 5, 10],\n",
    "         'max_features' : ['sqrt', len(X.columns)]}\n",
    "\n",
    "dtc_rs = RandomizedSearchCV(dtc, n_iter = 50, param_distributions = params, cv = 5, verbose = False, n_jobs = -1)\n",
    "\n",
    "dtc_rs.fit(X, y)\n",
    "dtc_rs.best_estimator_"
   ]
  },
  {
   "cell_type": "code",
   "execution_count": 68,
   "id": "3ddc80ea",
   "metadata": {
    "execution": {
     "iopub.execute_input": "2022-12-07T08:25:04.476966Z",
     "iopub.status.busy": "2022-12-07T08:25:04.476070Z",
     "iopub.status.idle": "2022-12-07T08:25:05.312805Z",
     "shell.execute_reply": "2022-12-07T08:25:05.311866Z"
    },
    "papermill": {
     "duration": 0.878105,
     "end_time": "2022-12-07T08:25:05.315290",
     "exception": false,
     "start_time": "2022-12-07T08:25:04.437185",
     "status": "completed"
    },
    "tags": []
   },
   "outputs": [
    {
     "data": {
      "text/plain": [
       "DecisionTreeClassifier(max_depth=6, min_samples_leaf=6, min_samples_split=4,\n",
       "                       random_state=16)"
      ]
     },
     "execution_count": 68,
     "metadata": {},
     "output_type": "execute_result"
    }
   ],
   "source": [
    "params = {'max_depth': [4, 5, 6, 7],\n",
    "          'min_samples_leaf' : [4, 5, 6, 7],\n",
    "         'min_samples_split' : [4, 5, 6]}\n",
    "\n",
    "dtc_gs = GridSearchCV(dtc, param_grid = params, cv = 5, verbose = False, n_jobs = -1)\n",
    "dtc_gs.fit(X, y)\n",
    "dtc_gs.best_estimator_"
   ]
  },
  {
   "cell_type": "code",
   "execution_count": 69,
   "id": "64ec9f56",
   "metadata": {
    "execution": {
     "iopub.execute_input": "2022-12-07T08:25:05.394406Z",
     "iopub.status.busy": "2022-12-07T08:25:05.393184Z",
     "iopub.status.idle": "2022-12-07T08:25:05.399139Z",
     "shell.execute_reply": "2022-12-07T08:25:05.398072Z"
    },
    "papermill": {
     "duration": 0.047,
     "end_time": "2022-12-07T08:25:05.401467",
     "exception": false,
     "start_time": "2022-12-07T08:25:05.354467",
     "status": "completed"
    },
    "tags": []
   },
   "outputs": [],
   "source": [
    "best_dtc = DecisionTreeClassifier(criterion='entropy', max_depth=6, max_features=10,\n",
    "                       min_samples_leaf=6, min_samples_split=4,\n",
    "                       random_state=16)"
   ]
  },
  {
   "cell_type": "code",
   "execution_count": 70,
   "id": "50fa63f6",
   "metadata": {
    "execution": {
     "iopub.execute_input": "2022-12-07T08:25:05.478939Z",
     "iopub.status.busy": "2022-12-07T08:25:05.478511Z",
     "iopub.status.idle": "2022-12-07T08:25:05.485942Z",
     "shell.execute_reply": "2022-12-07T08:25:05.484620Z"
    },
    "papermill": {
     "duration": 0.049198,
     "end_time": "2022-12-07T08:25:05.488438",
     "exception": false,
     "start_time": "2022-12-07T08:25:05.439240",
     "status": "completed"
    },
    "tags": []
   },
   "outputs": [
    {
     "data": {
      "text/plain": [
       "0.8193082669010107"
      ]
     },
     "execution_count": 70,
     "metadata": {},
     "output_type": "execute_result"
    }
   ],
   "source": [
    "tuned_scores.append(dtc_gs.best_score_)\n",
    "dtc_gs.best_score_"
   ]
  },
  {
   "cell_type": "markdown",
   "id": "6c1946f2",
   "metadata": {
    "papermill": {
     "duration": 0.036898,
     "end_time": "2022-12-07T08:25:05.562881",
     "exception": false,
     "start_time": "2022-12-07T08:25:05.525983",
     "status": "completed"
    },
    "tags": []
   },
   "source": [
    "Random Forest"
   ]
  },
  {
   "cell_type": "code",
   "execution_count": 71,
   "id": "4c5cb55a",
   "metadata": {
    "execution": {
     "iopub.execute_input": "2022-12-07T08:25:05.640209Z",
     "iopub.status.busy": "2022-12-07T08:25:05.639764Z",
     "iopub.status.idle": "2022-12-07T08:25:05.647745Z",
     "shell.execute_reply": "2022-12-07T08:25:05.646604Z"
    },
    "papermill": {
     "duration": 0.049464,
     "end_time": "2022-12-07T08:25:05.650021",
     "exception": false,
     "start_time": "2022-12-07T08:25:05.600557",
     "status": "completed"
    },
    "tags": []
   },
   "outputs": [
    {
     "data": {
      "text/plain": [
       "\"params = {'n_estimators' : [100, 250, 500, 750, 1000],\\n          'max_depth': [3, 5, 10, 20],\\n          'criterion' : ['gini', 'entropy'],\\n          'min_samples_split' : [2, 5, 7, 10],\\n          'min_samples_leaf' : [2, 4, 6]}\\n\\nrfc_rs = RandomizedSearchCV(rfc, n_iter = 50, param_distributions = params, cv = 5, verbose = False, n_jobs = -1)\\n\\nrfc_rs.fit(X, y)\\nrfc_rs.best_estimator_ \""
      ]
     },
     "execution_count": 71,
     "metadata": {},
     "output_type": "execute_result"
    }
   ],
   "source": [
    "'''params = {'n_estimators' : [100, 250, 500, 750, 1000],\n",
    "          'max_depth': [3, 5, 10, 20],\n",
    "          'criterion' : ['gini', 'entropy'],\n",
    "          'min_samples_split' : [2, 5, 7, 10],\n",
    "          'min_samples_leaf' : [2, 4, 6]}\n",
    "\n",
    "rfc_rs = RandomizedSearchCV(rfc, n_iter = 50, param_distributions = params, cv = 5, verbose = False, n_jobs = -1)\n",
    "\n",
    "rfc_rs.fit(X, y)\n",
    "rfc_rs.best_estimator_ '''"
   ]
  },
  {
   "cell_type": "code",
   "execution_count": 72,
   "id": "7724bb38",
   "metadata": {
    "execution": {
     "iopub.execute_input": "2022-12-07T08:25:05.728300Z",
     "iopub.status.busy": "2022-12-07T08:25:05.727260Z",
     "iopub.status.idle": "2022-12-07T08:27:45.988036Z",
     "shell.execute_reply": "2022-12-07T08:27:45.986682Z"
    },
    "papermill": {
     "duration": 160.343896,
     "end_time": "2022-12-07T08:27:46.031789",
     "exception": false,
     "start_time": "2022-12-07T08:25:05.687893",
     "status": "completed"
    },
    "tags": []
   },
   "outputs": [
    {
     "data": {
      "text/plain": [
       "RandomForestClassifier(max_depth=11, min_samples_leaf=2, min_samples_split=6,\n",
       "                       n_estimators=900, random_state=16)"
      ]
     },
     "execution_count": 72,
     "metadata": {},
     "output_type": "execute_result"
    }
   ],
   "source": [
    "params = {'n_estimators' : [700, 800, 900],\n",
    "          'max_depth': [9, 10, 11],\n",
    "          'min_samples_split' : [4, 5, 6],\n",
    "          'min_samples_leaf' : [2, 3]}\n",
    "\n",
    "rfc_gs = GridSearchCV(rfc, param_grid = params, cv = 5, verbose = False, n_jobs = -1)\n",
    "rfc_gs.fit(X, y)\n",
    "rfc_gs.best_estimator_"
   ]
  },
  {
   "cell_type": "code",
   "execution_count": 73,
   "id": "a1e03ef9",
   "metadata": {
    "execution": {
     "iopub.execute_input": "2022-12-07T08:27:46.115827Z",
     "iopub.status.busy": "2022-12-07T08:27:46.115402Z",
     "iopub.status.idle": "2022-12-07T08:27:46.120895Z",
     "shell.execute_reply": "2022-12-07T08:27:46.119894Z"
    },
    "papermill": {
     "duration": 0.051623,
     "end_time": "2022-12-07T08:27:46.123288",
     "exception": false,
     "start_time": "2022-12-07T08:27:46.071665",
     "status": "completed"
    },
    "tags": []
   },
   "outputs": [],
   "source": [
    "best_rfc = RandomForestClassifier(max_depth=11, min_samples_leaf=2, min_samples_split=6,\n",
    "                       n_estimators=900, random_state=16)"
   ]
  },
  {
   "cell_type": "code",
   "execution_count": 74,
   "id": "8732bbf0",
   "metadata": {
    "execution": {
     "iopub.execute_input": "2022-12-07T08:27:46.203326Z",
     "iopub.status.busy": "2022-12-07T08:27:46.202863Z",
     "iopub.status.idle": "2022-12-07T08:27:46.210714Z",
     "shell.execute_reply": "2022-12-07T08:27:46.209326Z"
    },
    "papermill": {
     "duration": 0.050509,
     "end_time": "2022-12-07T08:27:46.213248",
     "exception": false,
     "start_time": "2022-12-07T08:27:46.162739",
     "status": "completed"
    },
    "tags": []
   },
   "outputs": [
    {
     "data": {
      "text/plain": [
       "0.8327851358985624"
      ]
     },
     "execution_count": 74,
     "metadata": {},
     "output_type": "execute_result"
    }
   ],
   "source": [
    "tuned_scores.append(rfc_gs.best_score_)\n",
    "rfc_gs.best_score_"
   ]
  },
  {
   "cell_type": "markdown",
   "id": "eab4b897",
   "metadata": {
    "papermill": {
     "duration": 0.03818,
     "end_time": "2022-12-07T08:27:46.291034",
     "exception": false,
     "start_time": "2022-12-07T08:27:46.252854",
     "status": "completed"
    },
    "tags": []
   },
   "source": [
    "K Nearest Neighbors"
   ]
  },
  {
   "cell_type": "code",
   "execution_count": 75,
   "id": "7709361c",
   "metadata": {
    "execution": {
     "iopub.execute_input": "2022-12-07T08:27:46.371739Z",
     "iopub.status.busy": "2022-12-07T08:27:46.371025Z",
     "iopub.status.idle": "2022-12-07T08:27:46.931189Z",
     "shell.execute_reply": "2022-12-07T08:27:46.930217Z"
    },
    "papermill": {
     "duration": 0.603412,
     "end_time": "2022-12-07T08:27:46.933778",
     "exception": false,
     "start_time": "2022-12-07T08:27:46.330366",
     "status": "completed"
    },
    "tags": []
   },
   "outputs": [
    {
     "data": {
      "text/plain": [
       "KNeighborsClassifier(n_neighbors=9, weights='distance')"
      ]
     },
     "execution_count": 75,
     "metadata": {},
     "output_type": "execute_result"
    }
   ],
   "source": [
    "params = {'n_neighbors' : [5,7,9,11],\n",
    "              'weights' : ['uniform', 'distance'],\n",
    "              'algorithm' : ['auto', 'ball_tree','kd_tree']}\n",
    "knn_gs = GridSearchCV(knn, param_grid = params, cv = 5, verbose = False, n_jobs = -1)\n",
    "knn_gs.fit(X, y)\n",
    "knn_gs.best_estimator_"
   ]
  },
  {
   "cell_type": "code",
   "execution_count": 76,
   "id": "49ae2026",
   "metadata": {
    "execution": {
     "iopub.execute_input": "2022-12-07T08:27:47.016205Z",
     "iopub.status.busy": "2022-12-07T08:27:47.015360Z",
     "iopub.status.idle": "2022-12-07T08:27:47.020900Z",
     "shell.execute_reply": "2022-12-07T08:27:47.019682Z"
    },
    "papermill": {
     "duration": 0.049689,
     "end_time": "2022-12-07T08:27:47.023517",
     "exception": false,
     "start_time": "2022-12-07T08:27:46.973828",
     "status": "completed"
    },
    "tags": []
   },
   "outputs": [],
   "source": [
    "best_knn = KNeighborsClassifier(n_neighbors=9, weights='distance')"
   ]
  },
  {
   "cell_type": "code",
   "execution_count": 77,
   "id": "3edcfc60",
   "metadata": {
    "execution": {
     "iopub.execute_input": "2022-12-07T08:27:47.106328Z",
     "iopub.status.busy": "2022-12-07T08:27:47.105826Z",
     "iopub.status.idle": "2022-12-07T08:27:47.113344Z",
     "shell.execute_reply": "2022-12-07T08:27:47.112193Z"
    },
    "papermill": {
     "duration": 0.052659,
     "end_time": "2022-12-07T08:27:47.115985",
     "exception": false,
     "start_time": "2022-12-07T08:27:47.063326",
     "status": "completed"
    },
    "tags": []
   },
   "outputs": [
    {
     "data": {
      "text/plain": [
       "0.7946331052664617"
      ]
     },
     "execution_count": 77,
     "metadata": {},
     "output_type": "execute_result"
    }
   ],
   "source": [
    "tuned_scores.append(knn_gs.best_score_)\n",
    "knn_gs.best_score_"
   ]
  },
  {
   "cell_type": "markdown",
   "id": "6242701e",
   "metadata": {
    "papermill": {
     "duration": 0.040292,
     "end_time": "2022-12-07T08:27:47.195883",
     "exception": false,
     "start_time": "2022-12-07T08:27:47.155591",
     "status": "completed"
    },
    "tags": []
   },
   "source": [
    "Support Vector Classifier"
   ]
  },
  {
   "cell_type": "code",
   "execution_count": 78,
   "id": "742c95b6",
   "metadata": {
    "execution": {
     "iopub.execute_input": "2022-12-07T08:27:47.278995Z",
     "iopub.status.busy": "2022-12-07T08:27:47.278311Z",
     "iopub.status.idle": "2022-12-07T08:27:53.389147Z",
     "shell.execute_reply": "2022-12-07T08:27:53.388016Z"
    },
    "papermill": {
     "duration": 6.156257,
     "end_time": "2022-12-07T08:27:53.392245",
     "exception": false,
     "start_time": "2022-12-07T08:27:47.235988",
     "status": "completed"
    },
    "tags": []
   },
   "outputs": [
    {
     "data": {
      "text/plain": [
       "SVC(C=1, gamma=0.1, probability=True, random_state=16)"
      ]
     },
     "execution_count": 78,
     "metadata": {},
     "output_type": "execute_result"
    }
   ],
   "source": [
    "params = {'kernel': ['rbf'], \n",
    "          'gamma': [.1, .5, 1, 5], \n",
    "          'C': [.1, 1, 10, 100]}\n",
    "                            \n",
    "svc_gs = GridSearchCV(svc, param_grid = params, cv = 5, verbose = False, n_jobs = -1)\n",
    "svc_gs.fit(X, y)\n",
    "svc_gs.best_estimator_"
   ]
  },
  {
   "cell_type": "code",
   "execution_count": 79,
   "id": "766c1c1b",
   "metadata": {
    "execution": {
     "iopub.execute_input": "2022-12-07T08:27:53.482325Z",
     "iopub.status.busy": "2022-12-07T08:27:53.481777Z",
     "iopub.status.idle": "2022-12-07T08:27:53.488391Z",
     "shell.execute_reply": "2022-12-07T08:27:53.487090Z"
    },
    "papermill": {
     "duration": 0.055193,
     "end_time": "2022-12-07T08:27:53.490819",
     "exception": false,
     "start_time": "2022-12-07T08:27:53.435626",
     "status": "completed"
    },
    "tags": []
   },
   "outputs": [],
   "source": [
    "best_svc = SVC(C=1, gamma=0.1, probability=True, random_state=16)"
   ]
  },
  {
   "cell_type": "code",
   "execution_count": 80,
   "id": "a14efd0f",
   "metadata": {
    "execution": {
     "iopub.execute_input": "2022-12-07T08:27:53.573305Z",
     "iopub.status.busy": "2022-12-07T08:27:53.572296Z",
     "iopub.status.idle": "2022-12-07T08:27:53.580724Z",
     "shell.execute_reply": "2022-12-07T08:27:53.579430Z"
    },
    "papermill": {
     "duration": 0.053022,
     "end_time": "2022-12-07T08:27:53.583309",
     "exception": false,
     "start_time": "2022-12-07T08:27:53.530287",
     "status": "completed"
    },
    "tags": []
   },
   "outputs": [
    {
     "data": {
      "text/plain": [
       "0.8125918021467579"
      ]
     },
     "execution_count": 80,
     "metadata": {},
     "output_type": "execute_result"
    }
   ],
   "source": [
    "tuned_scores.append(svc_gs.best_score_)\n",
    "svc_gs.best_score_"
   ]
  },
  {
   "cell_type": "markdown",
   "id": "b3b21783",
   "metadata": {
    "papermill": {
     "duration": 0.040687,
     "end_time": "2022-12-07T08:27:53.665972",
     "exception": false,
     "start_time": "2022-12-07T08:27:53.625285",
     "status": "completed"
    },
    "tags": []
   },
   "source": [
    "XGBoost"
   ]
  },
  {
   "cell_type": "code",
   "execution_count": 81,
   "id": "ac3eff71",
   "metadata": {
    "execution": {
     "iopub.execute_input": "2022-12-07T08:27:53.750035Z",
     "iopub.status.busy": "2022-12-07T08:27:53.749610Z",
     "iopub.status.idle": "2022-12-07T08:27:53.757414Z",
     "shell.execute_reply": "2022-12-07T08:27:53.756201Z"
    },
    "papermill": {
     "duration": 0.052292,
     "end_time": "2022-12-07T08:27:53.759782",
     "exception": false,
     "start_time": "2022-12-07T08:27:53.707490",
     "status": "completed"
    },
    "tags": []
   },
   "outputs": [
    {
     "data": {
      "text/plain": [
       "\"  params = {\\n    'n_estimators': [250, 500, 750, 1000, 1200],\\n    'max_depth': [2, 5, 7, 10],\\n    'learning_rate': [0.05, 0.08, 0.1, 0.15],\\n    'min_child_weight' : [0, .01, 0.1, 1],\\n    'reg_alpha': [0, 0.5, 1],\\n    'reg_lambda': [1, 1.5, 2]\\n}\\n\\nxgb_rs = RandomizedSearchCV(xgb, n_iter = 50, param_distributions = params, cv = 5, verbose = False, n_jobs = -1)\\n\\nxgb_rs.fit(X, y)\\nxgb_rs.best_estimator_ \""
      ]
     },
     "execution_count": 81,
     "metadata": {},
     "output_type": "execute_result"
    }
   ],
   "source": [
    "'''  params = {\n",
    "    'n_estimators': [250, 500, 750, 1000, 1200],\n",
    "    'max_depth': [2, 5, 7, 10],\n",
    "    'learning_rate': [0.05, 0.08, 0.1, 0.15],\n",
    "    'min_child_weight' : [0, .01, 0.1, 1],\n",
    "    'reg_alpha': [0, 0.5, 1],\n",
    "    'reg_lambda': [1, 1.5, 2]\n",
    "}\n",
    "\n",
    "xgb_rs = RandomizedSearchCV(xgb, n_iter = 50, param_distributions = params, cv = 5, verbose = False, n_jobs = -1)\n",
    "\n",
    "xgb_rs.fit(X, y)\n",
    "xgb_rs.best_estimator_ '''"
   ]
  },
  {
   "cell_type": "code",
   "execution_count": 82,
   "id": "ef8c74fc",
   "metadata": {
    "execution": {
     "iopub.execute_input": "2022-12-07T08:27:53.839224Z",
     "iopub.status.busy": "2022-12-07T08:27:53.838750Z",
     "iopub.status.idle": "2022-12-07T08:29:05.656856Z",
     "shell.execute_reply": "2022-12-07T08:29:05.655767Z"
    },
    "papermill": {
     "duration": 71.899804,
     "end_time": "2022-12-07T08:29:05.698305",
     "exception": false,
     "start_time": "2022-12-07T08:27:53.798501",
     "status": "completed"
    },
    "tags": []
   },
   "outputs": [
    {
     "data": {
      "text/plain": [
       "XGBClassifier(base_score=0.5, booster='gbtree', callbacks=None,\n",
       "              colsample_bylevel=1, colsample_bynode=1, colsample_bytree=1,\n",
       "              early_stopping_rounds=None, enable_categorical=False,\n",
       "              eval_metric=None, gamma=0, gpu_id=-1, grow_policy='depthwise',\n",
       "              importance_type=None, interaction_constraints='',\n",
       "              learning_rate=0.01, max_bin=256, max_cat_to_onehot=4,\n",
       "              max_delta_step=0, max_depth=7, max_leaves=0,\n",
       "              min_child_weight=0.01, missing=nan, monotone_constraints='()',\n",
       "              n_estimators=500, n_jobs=0, num_parallel_tree=1, predictor='auto',\n",
       "              random_state=16, reg_alpha=1, reg_lambda=1.5, ...)"
      ]
     },
     "execution_count": 82,
     "metadata": {},
     "output_type": "execute_result"
    }
   ],
   "source": [
    "params = {\n",
    "    'n_estimators': [400, 500, 600],\n",
    "    'max_depth': [5, 7],\n",
    "    'min_child_weight' : [0.01, 0.05],\n",
    "    'learning_rate': [0.01, 0.03],\n",
    "    'reg_alpha': [1],\n",
    "    'reg_lambda':[1.5]\n",
    "}\n",
    "\n",
    "\n",
    "xgb_gs = GridSearchCV(xgb, param_grid = params, cv = 5, verbose = False, n_jobs = -1)\n",
    "xgb_gs.fit(X, y)\n",
    "xgb_gs.best_estimator_"
   ]
  },
  {
   "cell_type": "code",
   "execution_count": 83,
   "id": "76e1b7f4",
   "metadata": {
    "execution": {
     "iopub.execute_input": "2022-12-07T08:29:05.777784Z",
     "iopub.status.busy": "2022-12-07T08:29:05.777347Z",
     "iopub.status.idle": "2022-12-07T08:29:05.783718Z",
     "shell.execute_reply": "2022-12-07T08:29:05.782811Z"
    },
    "papermill": {
     "duration": 0.048831,
     "end_time": "2022-12-07T08:29:05.785909",
     "exception": false,
     "start_time": "2022-12-07T08:29:05.737078",
     "status": "completed"
    },
    "tags": []
   },
   "outputs": [
    {
     "data": {
      "text/plain": [
       "0.839539263071998"
      ]
     },
     "execution_count": 83,
     "metadata": {},
     "output_type": "execute_result"
    }
   ],
   "source": [
    "tuned_scores.append(xgb_gs.best_score_)\n",
    "xgb_gs.best_score_"
   ]
  },
  {
   "cell_type": "code",
   "execution_count": 84,
   "id": "6bbee9f2",
   "metadata": {
    "execution": {
     "iopub.execute_input": "2022-12-07T08:29:05.868393Z",
     "iopub.status.busy": "2022-12-07T08:29:05.867282Z",
     "iopub.status.idle": "2022-12-07T08:29:05.875091Z",
     "shell.execute_reply": "2022-12-07T08:29:05.874189Z"
    },
    "papermill": {
     "duration": 0.051046,
     "end_time": "2022-12-07T08:29:05.877602",
     "exception": false,
     "start_time": "2022-12-07T08:29:05.826556",
     "status": "completed"
    },
    "tags": []
   },
   "outputs": [],
   "source": [
    "best_xgb = XGBClassifier(base_score=0.5, booster='gbtree', callbacks=None,\n",
    "              colsample_bylevel=1, colsample_bynode=1, colsample_bytree=1,\n",
    "              early_stopping_rounds=None, enable_categorical=False,\n",
    "              eval_metric=None, gamma=0, gpu_id=-1, grow_policy='depthwise',\n",
    "              importance_type=None, interaction_constraints='',\n",
    "              learning_rate=0.01, max_bin=256, max_cat_to_onehot=4,\n",
    "              max_delta_step=0, max_depth=7, max_leaves=0,\n",
    "              min_child_weight=0.01, monotone_constraints='()',\n",
    "              n_estimators=500, n_jobs=0, num_parallel_tree=1, predictor='auto',\n",
    "              random_state=16, reg_alpha=1, reg_lambda=1.5)"
   ]
  },
  {
   "cell_type": "markdown",
   "id": "63a6d600",
   "metadata": {
    "papermill": {
     "duration": 0.039229,
     "end_time": "2022-12-07T08:29:05.958014",
     "exception": false,
     "start_time": "2022-12-07T08:29:05.918785",
     "status": "completed"
    },
    "tags": []
   },
   "source": [
    "Voting Classifier"
   ]
  },
  {
   "cell_type": "markdown",
   "id": "7f4da924",
   "metadata": {
    "papermill": {
     "duration": 0.039617,
     "end_time": "2022-12-07T08:29:06.037316",
     "exception": false,
     "start_time": "2022-12-07T08:29:05.997699",
     "status": "completed"
    },
    "tags": []
   },
   "source": [
    "Some models performed better than others perhaps the voting classifier will perform better if some estimators are excluded from the vote. We'll also experiment with hard vs soft classifiers"
   ]
  },
  {
   "cell_type": "code",
   "execution_count": 85,
   "id": "7ecfff6e",
   "metadata": {
    "execution": {
     "iopub.execute_input": "2022-12-07T08:29:06.122207Z",
     "iopub.status.busy": "2022-12-07T08:29:06.121527Z",
     "iopub.status.idle": "2022-12-07T08:29:06.127868Z",
     "shell.execute_reply": "2022-12-07T08:29:06.126893Z"
    },
    "papermill": {
     "duration": 0.053859,
     "end_time": "2022-12-07T08:29:06.130527",
     "exception": false,
     "start_time": "2022-12-07T08:29:06.076668",
     "status": "completed"
    },
    "tags": []
   },
   "outputs": [],
   "source": [
    "tuned_scores.append('NA')\n",
    "model_scores['Tuned Scores'] = tuned_scores"
   ]
  },
  {
   "cell_type": "code",
   "execution_count": 86,
   "id": "97eed162",
   "metadata": {
    "execution": {
     "iopub.execute_input": "2022-12-07T08:29:06.215063Z",
     "iopub.status.busy": "2022-12-07T08:29:06.214193Z",
     "iopub.status.idle": "2022-12-07T08:29:06.228399Z",
     "shell.execute_reply": "2022-12-07T08:29:06.227012Z"
    },
    "papermill": {
     "duration": 0.060035,
     "end_time": "2022-12-07T08:29:06.231697",
     "exception": false,
     "start_time": "2022-12-07T08:29:06.171662",
     "status": "completed"
    },
    "tags": []
   },
   "outputs": [
    {
     "data": {
      "text/html": [
       "<div>\n",
       "<style scoped>\n",
       "    .dataframe tbody tr th:only-of-type {\n",
       "        vertical-align: middle;\n",
       "    }\n",
       "\n",
       "    .dataframe tbody tr th {\n",
       "        vertical-align: top;\n",
       "    }\n",
       "\n",
       "    .dataframe thead th {\n",
       "        text-align: right;\n",
       "    }\n",
       "</style>\n",
       "<table border=\"1\" class=\"dataframe\">\n",
       "  <thead>\n",
       "    <tr style=\"text-align: right;\">\n",
       "      <th></th>\n",
       "      <th>Model</th>\n",
       "      <th>Scores</th>\n",
       "      <th>Tuned Scores</th>\n",
       "    </tr>\n",
       "  </thead>\n",
       "  <tbody>\n",
       "    <tr>\n",
       "      <th>0</th>\n",
       "      <td>gnb</td>\n",
       "      <td>0.782305</td>\n",
       "      <td>NA</td>\n",
       "    </tr>\n",
       "    <tr>\n",
       "      <th>1</th>\n",
       "      <td>lr</td>\n",
       "      <td>0.790139</td>\n",
       "      <td>0.790132</td>\n",
       "    </tr>\n",
       "    <tr>\n",
       "      <th>2</th>\n",
       "      <td>dtc</td>\n",
       "      <td>0.773360</td>\n",
       "      <td>0.819308</td>\n",
       "    </tr>\n",
       "    <tr>\n",
       "      <th>3</th>\n",
       "      <td>rfc</td>\n",
       "      <td>0.808110</td>\n",
       "      <td>0.832785</td>\n",
       "    </tr>\n",
       "    <tr>\n",
       "      <th>4</th>\n",
       "      <td>knn</td>\n",
       "      <td>0.787892</td>\n",
       "      <td>0.794633</td>\n",
       "    </tr>\n",
       "    <tr>\n",
       "      <th>5</th>\n",
       "      <td>svc</td>\n",
       "      <td>0.722830</td>\n",
       "      <td>0.812592</td>\n",
       "    </tr>\n",
       "    <tr>\n",
       "      <th>6</th>\n",
       "      <td>xgb</td>\n",
       "      <td>0.810363</td>\n",
       "      <td>0.839539</td>\n",
       "    </tr>\n",
       "    <tr>\n",
       "      <th>7</th>\n",
       "      <td>vc</td>\n",
       "      <td>0.822692</td>\n",
       "      <td>NA</td>\n",
       "    </tr>\n",
       "  </tbody>\n",
       "</table>\n",
       "</div>"
      ],
      "text/plain": [
       "  Model    Scores Tuned Scores\n",
       "0   gnb  0.782305           NA\n",
       "1    lr  0.790139     0.790132\n",
       "2   dtc  0.773360     0.819308\n",
       "3   rfc  0.808110     0.832785\n",
       "4   knn  0.787892     0.794633\n",
       "5   svc  0.722830     0.812592\n",
       "6   xgb  0.810363     0.839539\n",
       "7    vc  0.822692           NA"
      ]
     },
     "execution_count": 86,
     "metadata": {},
     "output_type": "execute_result"
    }
   ],
   "source": [
    "model_scores"
   ]
  },
  {
   "cell_type": "code",
   "execution_count": 87,
   "id": "f06d011d",
   "metadata": {
    "execution": {
     "iopub.execute_input": "2022-12-07T08:29:06.314283Z",
     "iopub.status.busy": "2022-12-07T08:29:06.313834Z",
     "iopub.status.idle": "2022-12-07T08:29:20.295879Z",
     "shell.execute_reply": "2022-12-07T08:29:20.294991Z"
    },
    "papermill": {
     "duration": 14.026898,
     "end_time": "2022-12-07T08:29:20.299374",
     "exception": false,
     "start_time": "2022-12-07T08:29:06.272476",
     "status": "completed"
    },
    "tags": []
   },
   "outputs": [
    {
     "name": "stdout",
     "output_type": "stream",
     "text": [
      "Soft classifier (all): 0.8226916075575922\n",
      "Hard classifier (all): 0.8249387985688281\n",
      "Soft classifier (best): 0.8238340342728014\n",
      "Hard classifier (best): 0.8260686711443098\n"
     ]
    }
   ],
   "source": [
    "vc_soft_all = VotingClassifier(estimators = [('lr',lr),('knn',knn),('dtc',dtc),('rfc',rfc),('gnb',gnb),('svc',svc),('xgb',xgb)], voting = 'soft')\n",
    "vc_hard_all = VotingClassifier(estimators = [('lr',lr),('knn',knn),('dtc',dtc),('rfc',rfc),('gnb',gnb),('svc',svc),('xgb',xgb)], voting = 'hard')\n",
    "vc_soft_best = VotingClassifier(estimators = [('lr',lr),('knn',knn),('rfc',rfc),('svc',svc),('xgb',xgb)], voting = 'soft')\n",
    "vc_hard_best = VotingClassifier(estimators = [('lr',lr),('dtc',dtc),('rfc',rfc),('svc',svc),('xgb',xgb)], voting = 'hard')\n",
    "\n",
    "print(f'Soft classifier (all): {cross_val_score(vc_soft_all, X, y, cv=5).mean()}')\n",
    "print(f'Hard classifier (all): {cross_val_score(vc_hard_all, X, y, cv=5).mean()}')\n",
    "print(f'Soft classifier (best): {cross_val_score(vc_soft_best, X, y, cv=5).mean()}')\n",
    "print(f'Hard classifier (best): {cross_val_score(vc_hard_best, X, y, cv=5).mean()}')"
   ]
  },
  {
   "cell_type": "markdown",
   "id": "5bdfb1bc",
   "metadata": {
    "papermill": {
     "duration": 0.039563,
     "end_time": "2022-12-07T08:29:20.379441",
     "exception": false,
     "start_time": "2022-12-07T08:29:20.339878",
     "status": "completed"
    },
    "tags": []
   },
   "source": [
    "Suprisingly, after playing around with different estimators it appears the hard voting classifier performs best."
   ]
  },
  {
   "cell_type": "markdown",
   "id": "fe99daf2",
   "metadata": {
    "papermill": {
     "duration": 0.039653,
     "end_time": "2022-12-07T08:29:20.458681",
     "exception": false,
     "start_time": "2022-12-07T08:29:20.419028",
     "status": "completed"
    },
    "tags": []
   },
   "source": [
    "**Predictions**"
   ]
  },
  {
   "cell_type": "markdown",
   "id": "502e14ee",
   "metadata": {
    "papermill": {
     "duration": 0.039302,
     "end_time": "2022-12-07T08:29:20.537775",
     "exception": false,
     "start_time": "2022-12-07T08:29:20.498473",
     "status": "completed"
    },
    "tags": []
   },
   "source": [
    "We'll submit the predictions from all voting classifiers and also xgboost and the random forest model since they performed comparatively well in training. "
   ]
  },
  {
   "cell_type": "code",
   "execution_count": 88,
   "id": "8e69edba",
   "metadata": {
    "execution": {
     "iopub.execute_input": "2022-12-07T08:29:20.620876Z",
     "iopub.status.busy": "2022-12-07T08:29:20.620147Z",
     "iopub.status.idle": "2022-12-07T08:29:26.870621Z",
     "shell.execute_reply": "2022-12-07T08:29:26.869624Z"
    },
    "papermill": {
     "duration": 6.294441,
     "end_time": "2022-12-07T08:29:26.873311",
     "exception": false,
     "start_time": "2022-12-07T08:29:20.578870",
     "status": "completed"
    },
    "tags": []
   },
   "outputs": [
    {
     "data": {
      "text/plain": [
       "RandomForestClassifier(max_depth=11, min_samples_leaf=2, min_samples_split=6,\n",
       "                       n_estimators=900, random_state=16)"
      ]
     },
     "execution_count": 88,
     "metadata": {},
     "output_type": "execute_result"
    }
   ],
   "source": [
    "vc_soft_all.fit(X, y)\n",
    "vc_hard_all.fit(X, y)\n",
    "vc_soft_best.fit(X, y)\n",
    "vc_hard_best.fit(X, y)\n",
    "best_xgb.fit(X, y)\n",
    "best_rfc.fit(X, y)"
   ]
  },
  {
   "cell_type": "code",
   "execution_count": 89,
   "id": "c87f9526",
   "metadata": {
    "execution": {
     "iopub.execute_input": "2022-12-07T08:29:26.957875Z",
     "iopub.status.busy": "2022-12-07T08:29:26.957226Z",
     "iopub.status.idle": "2022-12-07T08:29:27.354457Z",
     "shell.execute_reply": "2022-12-07T08:29:27.353308Z"
    },
    "papermill": {
     "duration": 0.442483,
     "end_time": "2022-12-07T08:29:27.357276",
     "exception": false,
     "start_time": "2022-12-07T08:29:26.914793",
     "status": "completed"
    },
    "tags": []
   },
   "outputs": [],
   "source": [
    "vsa_pred = vc_soft_all.predict(test)\n",
    "vch_pred = vc_hard_all.predict(test)\n",
    "vsb_pred = vc_soft_best.predict(test)\n",
    "vhb_pred = vc_hard_best.predict(test)\n",
    "xgb_pred = best_xgb.predict(test)\n",
    "rfc_pred = best_rfc.predict(test)"
   ]
  },
  {
   "cell_type": "code",
   "execution_count": 90,
   "id": "dc538014",
   "metadata": {
    "execution": {
     "iopub.execute_input": "2022-12-07T08:29:27.444399Z",
     "iopub.status.busy": "2022-12-07T08:29:27.443614Z",
     "iopub.status.idle": "2022-12-07T08:29:27.449305Z",
     "shell.execute_reply": "2022-12-07T08:29:27.448158Z"
    },
    "papermill": {
     "duration": 0.053262,
     "end_time": "2022-12-07T08:29:27.451711",
     "exception": false,
     "start_time": "2022-12-07T08:29:27.398449",
     "status": "completed"
    },
    "tags": []
   },
   "outputs": [],
   "source": [
    "test.index = test.index + 1"
   ]
  },
  {
   "cell_type": "code",
   "execution_count": 91,
   "id": "108c3f0b",
   "metadata": {
    "execution": {
     "iopub.execute_input": "2022-12-07T08:29:27.537035Z",
     "iopub.status.busy": "2022-12-07T08:29:27.535871Z",
     "iopub.status.idle": "2022-12-07T08:29:27.563449Z",
     "shell.execute_reply": "2022-12-07T08:29:27.562414Z"
    },
    "papermill": {
     "duration": 0.073082,
     "end_time": "2022-12-07T08:29:27.566044",
     "exception": false,
     "start_time": "2022-12-07T08:29:27.492962",
     "status": "completed"
    },
    "tags": []
   },
   "outputs": [],
   "source": [
    "vsa_output = pd.DataFrame({'PassengerId': test.index, 'Survived': vsa_pred})\n",
    "vsa_output['Survived'] = vsa_output['Survived'].astype(int)\n",
    "vsa_output.to_csv('vsa.csv', index=False)\n",
    "\n",
    "vch_output = pd.DataFrame({'PassengerId': test.index, 'Survived': vch_pred})\n",
    "vch_output['Survived'] = vch_output['Survived'].astype(int)\n",
    "vch_output.to_csv('vch.csv', index=False)\n",
    "\n",
    "vsb_output = pd.DataFrame({'PassengerId': test.index, 'Survived': vsb_pred})\n",
    "vsb_output['Survived'] = vsb_output['Survived'].astype(int)\n",
    "vsb_output.to_csv('vsb.csv', index=False)\n",
    "\n",
    "vhb_output = pd.DataFrame({'PassengerId': test.index, 'Survived': vhb_pred})\n",
    "vhb_output['Survived'] = vhb_output['Survived'].astype(int)\n",
    "vhb_output.to_csv('vhb.csv', index=False)\n",
    "\n",
    "xgb_output = pd.DataFrame({'PassengerId': test.index, 'Survived': xgb_pred})\n",
    "xgb_output.to_csv('xgb.csv', index=False)\n",
    "\n",
    "rfc_output = pd.DataFrame({'PassengerId': test.index, 'Survived': rfc_pred})\n",
    "rfc_output['Survived'] = rfc_output['Survived'].astype(int)\n",
    "rfc_output.to_csv('rfc.csv', index=False)\n"
   ]
  },
  {
   "cell_type": "code",
   "execution_count": null,
   "id": "35e195ec",
   "metadata": {
    "execution": {
     "iopub.execute_input": "2022-12-07T08:10:41.585019Z",
     "iopub.status.busy": "2022-12-07T08:10:41.583957Z",
     "iopub.status.idle": "2022-12-07T08:10:41.591815Z",
     "shell.execute_reply": "2022-12-07T08:10:41.590592Z",
     "shell.execute_reply.started": "2022-12-07T08:10:41.584969Z"
    },
    "papermill": {
     "duration": 0.039668,
     "end_time": "2022-12-07T08:29:27.647015",
     "exception": false,
     "start_time": "2022-12-07T08:29:27.607347",
     "status": "completed"
    },
    "tags": []
   },
   "outputs": [],
   "source": []
  },
  {
   "cell_type": "code",
   "execution_count": null,
   "id": "d61a6997",
   "metadata": {
    "execution": {
     "iopub.execute_input": "2022-12-07T08:10:49.298636Z",
     "iopub.status.busy": "2022-12-07T08:10:49.298230Z",
     "iopub.status.idle": "2022-12-07T08:10:49.309632Z",
     "shell.execute_reply": "2022-12-07T08:10:49.308589Z",
     "shell.execute_reply.started": "2022-12-07T08:10:49.298600Z"
    },
    "papermill": {
     "duration": 0.042824,
     "end_time": "2022-12-07T08:29:27.730892",
     "exception": false,
     "start_time": "2022-12-07T08:29:27.688068",
     "status": "completed"
    },
    "tags": []
   },
   "outputs": [],
   "source": []
  },
  {
   "cell_type": "code",
   "execution_count": null,
   "id": "368b6944",
   "metadata": {
    "execution": {
     "iopub.execute_input": "2022-12-07T08:10:58.753530Z",
     "iopub.status.busy": "2022-12-07T08:10:58.753110Z",
     "iopub.status.idle": "2022-12-07T08:10:58.765596Z",
     "shell.execute_reply": "2022-12-07T08:10:58.764772Z",
     "shell.execute_reply.started": "2022-12-07T08:10:58.753494Z"
    },
    "papermill": {
     "duration": 0.046664,
     "end_time": "2022-12-07T08:29:27.835028",
     "exception": false,
     "start_time": "2022-12-07T08:29:27.788364",
     "status": "completed"
    },
    "tags": []
   },
   "outputs": [],
   "source": []
  },
  {
   "cell_type": "code",
   "execution_count": null,
   "id": "18b5f5a1",
   "metadata": {
    "papermill": {
     "duration": 0.047142,
     "end_time": "2022-12-07T08:29:27.926469",
     "exception": false,
     "start_time": "2022-12-07T08:29:27.879327",
     "status": "completed"
    },
    "tags": []
   },
   "outputs": [],
   "source": []
  }
 ],
 "metadata": {
  "kernelspec": {
   "display_name": "Python 3",
   "language": "python",
   "name": "python3"
  },
  "language_info": {
   "codemirror_mode": {
    "name": "ipython",
    "version": 3
   },
   "file_extension": ".py",
   "mimetype": "text/x-python",
   "name": "python",
   "nbconvert_exporter": "python",
   "pygments_lexer": "ipython3",
   "version": "3.7.12"
  },
  "papermill": {
   "default_parameters": {},
   "duration": 298.72981,
   "end_time": "2022-12-07T08:29:30.592580",
   "environment_variables": {},
   "exception": null,
   "input_path": "__notebook__.ipynb",
   "output_path": "__notebook__.ipynb",
   "parameters": {},
   "start_time": "2022-12-07T08:24:31.862770",
   "version": "2.3.4"
  }
 },
 "nbformat": 4,
 "nbformat_minor": 5
}
