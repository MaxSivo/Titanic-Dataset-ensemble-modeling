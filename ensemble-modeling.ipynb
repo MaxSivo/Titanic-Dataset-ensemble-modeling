{
 "cells": [
  {
   "cell_type": "code",
   "execution_count": 1,
   "id": "09151252",
   "metadata": {
    "_cell_guid": "b1076dfc-b9ad-4769-8c92-a6c4dae69d19",
    "_uuid": "8f2839f25d086af736a60e9eeb907d3b93b6e0e5",
    "execution": {
     "iopub.execute_input": "2023-01-06T00:37:01.177551Z",
     "iopub.status.busy": "2023-01-06T00:37:01.176918Z",
     "iopub.status.idle": "2023-01-06T00:37:02.112945Z",
     "shell.execute_reply": "2023-01-06T00:37:02.111809Z"
    },
    "papermill": {
     "duration": 0.964988,
     "end_time": "2023-01-06T00:37:02.115444",
     "exception": false,
     "start_time": "2023-01-06T00:37:01.150456",
     "status": "completed"
    },
    "tags": []
   },
   "outputs": [
    {
     "name": "stdout",
     "output_type": "stream",
     "text": [
      "/kaggle/input/titanic/train.csv\n",
      "/kaggle/input/titanic/test.csv\n",
      "/kaggle/input/titanic/gender_submission.csv\n"
     ]
    }
   ],
   "source": [
    "# This Python 3 environment comes with many helpful analytics libraries installed\n",
    "# It is defined by the kaggle/python Docker image: https://github.com/kaggle/docker-python\n",
    "# For example, here's several helpful packages to load\n",
    "\n",
    "import numpy as np # linear algebra\n",
    "import pandas as pd # data processing, CSV file I/O (e.g. pd.read_csv)\n",
    "import seaborn as sns\n",
    "import matplotlib.pyplot as plt\n",
    "\n",
    "# Input data files are available in the read-only \"../input/\" directory\n",
    "# For example, running this (by clicking run or pressing Shift+Enter) will list all files under the input directory\n",
    "\n",
    "import os\n",
    "for dirname, _, filenames in os.walk('/kaggle/input'):\n",
    "    for filename in filenames:\n",
    "        print(os.path.join(dirname, filename))\n",
    "\n",
    "# You can write up to 20GB to the current directory (/kaggle/working/) that gets preserved as output when you create a version using \"Save & Run All\" \n",
    "# You can also write temporary files to /kaggle/temp/, but they won't be saved outside of the current session"
   ]
  },
  {
   "cell_type": "markdown",
   "id": "300f98b6",
   "metadata": {
    "papermill": {
     "duration": 0.02627,
     "end_time": "2023-01-06T00:37:02.167686",
     "exception": false,
     "start_time": "2023-01-06T00:37:02.141416",
     "status": "completed"
    },
    "tags": []
   },
   "source": [
    "**Preliminary Data Exploration**"
   ]
  },
  {
   "cell_type": "code",
   "execution_count": 2,
   "id": "5a293e96",
   "metadata": {
    "execution": {
     "iopub.execute_input": "2023-01-06T00:37:02.217327Z",
     "iopub.status.busy": "2023-01-06T00:37:02.216972Z",
     "iopub.status.idle": "2023-01-06T00:37:02.241884Z",
     "shell.execute_reply": "2023-01-06T00:37:02.241220Z"
    },
    "papermill": {
     "duration": 0.051951,
     "end_time": "2023-01-06T00:37:02.244056",
     "exception": false,
     "start_time": "2023-01-06T00:37:02.192105",
     "status": "completed"
    },
    "tags": []
   },
   "outputs": [],
   "source": [
    "train_df = pd.read_csv(\"../input/titanic/train.csv\")\n",
    "test_df = pd.read_csv(\"../input/titanic/test.csv\")"
   ]
  },
  {
   "cell_type": "code",
   "execution_count": 3,
   "id": "9a39fe64",
   "metadata": {
    "execution": {
     "iopub.execute_input": "2023-01-06T00:37:02.295470Z",
     "iopub.status.busy": "2023-01-06T00:37:02.294240Z",
     "iopub.status.idle": "2023-01-06T00:37:02.302586Z",
     "shell.execute_reply": "2023-01-06T00:37:02.301758Z"
    },
    "papermill": {
     "duration": 0.035127,
     "end_time": "2023-01-06T00:37:02.304363",
     "exception": false,
     "start_time": "2023-01-06T00:37:02.269236",
     "status": "completed"
    },
    "tags": []
   },
   "outputs": [
    {
     "data": {
      "text/plain": [
       "(418, 11)"
      ]
     },
     "execution_count": 3,
     "metadata": {},
     "output_type": "execute_result"
    }
   ],
   "source": [
    "test_df.shape"
   ]
  },
  {
   "cell_type": "code",
   "execution_count": 4,
   "id": "ef04114d",
   "metadata": {
    "execution": {
     "iopub.execute_input": "2023-01-06T00:37:02.353868Z",
     "iopub.status.busy": "2023-01-06T00:37:02.353012Z",
     "iopub.status.idle": "2023-01-06T00:37:02.360022Z",
     "shell.execute_reply": "2023-01-06T00:37:02.359045Z"
    },
    "papermill": {
     "duration": 0.033415,
     "end_time": "2023-01-06T00:37:02.361942",
     "exception": false,
     "start_time": "2023-01-06T00:37:02.328527",
     "status": "completed"
    },
    "tags": []
   },
   "outputs": [
    {
     "data": {
      "text/plain": [
       "(891, 12)"
      ]
     },
     "execution_count": 4,
     "metadata": {},
     "output_type": "execute_result"
    }
   ],
   "source": [
    "train_df.shape"
   ]
  },
  {
   "cell_type": "code",
   "execution_count": 5,
   "id": "d6910c5f",
   "metadata": {
    "execution": {
     "iopub.execute_input": "2023-01-06T00:37:02.411010Z",
     "iopub.status.busy": "2023-01-06T00:37:02.410679Z",
     "iopub.status.idle": "2023-01-06T00:37:02.429100Z",
     "shell.execute_reply": "2023-01-06T00:37:02.428214Z"
    },
    "papermill": {
     "duration": 0.045259,
     "end_time": "2023-01-06T00:37:02.430880",
     "exception": false,
     "start_time": "2023-01-06T00:37:02.385621",
     "status": "completed"
    },
    "tags": []
   },
   "outputs": [
    {
     "data": {
      "text/html": [
       "<div>\n",
       "<style scoped>\n",
       "    .dataframe tbody tr th:only-of-type {\n",
       "        vertical-align: middle;\n",
       "    }\n",
       "\n",
       "    .dataframe tbody tr th {\n",
       "        vertical-align: top;\n",
       "    }\n",
       "\n",
       "    .dataframe thead th {\n",
       "        text-align: right;\n",
       "    }\n",
       "</style>\n",
       "<table border=\"1\" class=\"dataframe\">\n",
       "  <thead>\n",
       "    <tr style=\"text-align: right;\">\n",
       "      <th></th>\n",
       "      <th>PassengerId</th>\n",
       "      <th>Survived</th>\n",
       "      <th>Pclass</th>\n",
       "      <th>Name</th>\n",
       "      <th>Sex</th>\n",
       "      <th>Age</th>\n",
       "      <th>SibSp</th>\n",
       "      <th>Parch</th>\n",
       "      <th>Ticket</th>\n",
       "      <th>Fare</th>\n",
       "      <th>Cabin</th>\n",
       "      <th>Embarked</th>\n",
       "    </tr>\n",
       "  </thead>\n",
       "  <tbody>\n",
       "    <tr>\n",
       "      <th>0</th>\n",
       "      <td>1</td>\n",
       "      <td>0</td>\n",
       "      <td>3</td>\n",
       "      <td>Braund, Mr. Owen Harris</td>\n",
       "      <td>male</td>\n",
       "      <td>22.0</td>\n",
       "      <td>1</td>\n",
       "      <td>0</td>\n",
       "      <td>A/5 21171</td>\n",
       "      <td>7.2500</td>\n",
       "      <td>NaN</td>\n",
       "      <td>S</td>\n",
       "    </tr>\n",
       "    <tr>\n",
       "      <th>1</th>\n",
       "      <td>2</td>\n",
       "      <td>1</td>\n",
       "      <td>1</td>\n",
       "      <td>Cumings, Mrs. John Bradley (Florence Briggs Th...</td>\n",
       "      <td>female</td>\n",
       "      <td>38.0</td>\n",
       "      <td>1</td>\n",
       "      <td>0</td>\n",
       "      <td>PC 17599</td>\n",
       "      <td>71.2833</td>\n",
       "      <td>C85</td>\n",
       "      <td>C</td>\n",
       "    </tr>\n",
       "    <tr>\n",
       "      <th>2</th>\n",
       "      <td>3</td>\n",
       "      <td>1</td>\n",
       "      <td>3</td>\n",
       "      <td>Heikkinen, Miss. Laina</td>\n",
       "      <td>female</td>\n",
       "      <td>26.0</td>\n",
       "      <td>0</td>\n",
       "      <td>0</td>\n",
       "      <td>STON/O2. 3101282</td>\n",
       "      <td>7.9250</td>\n",
       "      <td>NaN</td>\n",
       "      <td>S</td>\n",
       "    </tr>\n",
       "    <tr>\n",
       "      <th>3</th>\n",
       "      <td>4</td>\n",
       "      <td>1</td>\n",
       "      <td>1</td>\n",
       "      <td>Futrelle, Mrs. Jacques Heath (Lily May Peel)</td>\n",
       "      <td>female</td>\n",
       "      <td>35.0</td>\n",
       "      <td>1</td>\n",
       "      <td>0</td>\n",
       "      <td>113803</td>\n",
       "      <td>53.1000</td>\n",
       "      <td>C123</td>\n",
       "      <td>S</td>\n",
       "    </tr>\n",
       "    <tr>\n",
       "      <th>4</th>\n",
       "      <td>5</td>\n",
       "      <td>0</td>\n",
       "      <td>3</td>\n",
       "      <td>Allen, Mr. William Henry</td>\n",
       "      <td>male</td>\n",
       "      <td>35.0</td>\n",
       "      <td>0</td>\n",
       "      <td>0</td>\n",
       "      <td>373450</td>\n",
       "      <td>8.0500</td>\n",
       "      <td>NaN</td>\n",
       "      <td>S</td>\n",
       "    </tr>\n",
       "  </tbody>\n",
       "</table>\n",
       "</div>"
      ],
      "text/plain": [
       "   PassengerId  Survived  Pclass  \\\n",
       "0            1         0       3   \n",
       "1            2         1       1   \n",
       "2            3         1       3   \n",
       "3            4         1       1   \n",
       "4            5         0       3   \n",
       "\n",
       "                                                Name     Sex   Age  SibSp  \\\n",
       "0                            Braund, Mr. Owen Harris    male  22.0      1   \n",
       "1  Cumings, Mrs. John Bradley (Florence Briggs Th...  female  38.0      1   \n",
       "2                             Heikkinen, Miss. Laina  female  26.0      0   \n",
       "3       Futrelle, Mrs. Jacques Heath (Lily May Peel)  female  35.0      1   \n",
       "4                           Allen, Mr. William Henry    male  35.0      0   \n",
       "\n",
       "   Parch            Ticket     Fare Cabin Embarked  \n",
       "0      0         A/5 21171   7.2500   NaN        S  \n",
       "1      0          PC 17599  71.2833   C85        C  \n",
       "2      0  STON/O2. 3101282   7.9250   NaN        S  \n",
       "3      0            113803  53.1000  C123        S  \n",
       "4      0            373450   8.0500   NaN        S  "
      ]
     },
     "execution_count": 5,
     "metadata": {},
     "output_type": "execute_result"
    }
   ],
   "source": [
    "train_df.head()"
   ]
  },
  {
   "cell_type": "code",
   "execution_count": 6,
   "id": "df6aec3a",
   "metadata": {
    "execution": {
     "iopub.execute_input": "2023-01-06T00:37:02.481159Z",
     "iopub.status.busy": "2023-01-06T00:37:02.480182Z",
     "iopub.status.idle": "2023-01-06T00:37:02.519530Z",
     "shell.execute_reply": "2023-01-06T00:37:02.518422Z"
    },
    "papermill": {
     "duration": 0.066606,
     "end_time": "2023-01-06T00:37:02.521370",
     "exception": false,
     "start_time": "2023-01-06T00:37:02.454764",
     "status": "completed"
    },
    "tags": []
   },
   "outputs": [
    {
     "data": {
      "text/html": [
       "<div>\n",
       "<style scoped>\n",
       "    .dataframe tbody tr th:only-of-type {\n",
       "        vertical-align: middle;\n",
       "    }\n",
       "\n",
       "    .dataframe tbody tr th {\n",
       "        vertical-align: top;\n",
       "    }\n",
       "\n",
       "    .dataframe thead th {\n",
       "        text-align: right;\n",
       "    }\n",
       "</style>\n",
       "<table border=\"1\" class=\"dataframe\">\n",
       "  <thead>\n",
       "    <tr style=\"text-align: right;\">\n",
       "      <th></th>\n",
       "      <th>PassengerId</th>\n",
       "      <th>Survived</th>\n",
       "      <th>Pclass</th>\n",
       "      <th>Age</th>\n",
       "      <th>SibSp</th>\n",
       "      <th>Parch</th>\n",
       "      <th>Fare</th>\n",
       "    </tr>\n",
       "  </thead>\n",
       "  <tbody>\n",
       "    <tr>\n",
       "      <th>count</th>\n",
       "      <td>891.000000</td>\n",
       "      <td>891.000000</td>\n",
       "      <td>891.000000</td>\n",
       "      <td>714.000000</td>\n",
       "      <td>891.000000</td>\n",
       "      <td>891.000000</td>\n",
       "      <td>891.000000</td>\n",
       "    </tr>\n",
       "    <tr>\n",
       "      <th>mean</th>\n",
       "      <td>446.000000</td>\n",
       "      <td>0.383838</td>\n",
       "      <td>2.308642</td>\n",
       "      <td>29.699118</td>\n",
       "      <td>0.523008</td>\n",
       "      <td>0.381594</td>\n",
       "      <td>32.204208</td>\n",
       "    </tr>\n",
       "    <tr>\n",
       "      <th>std</th>\n",
       "      <td>257.353842</td>\n",
       "      <td>0.486592</td>\n",
       "      <td>0.836071</td>\n",
       "      <td>14.526497</td>\n",
       "      <td>1.102743</td>\n",
       "      <td>0.806057</td>\n",
       "      <td>49.693429</td>\n",
       "    </tr>\n",
       "    <tr>\n",
       "      <th>min</th>\n",
       "      <td>1.000000</td>\n",
       "      <td>0.000000</td>\n",
       "      <td>1.000000</td>\n",
       "      <td>0.420000</td>\n",
       "      <td>0.000000</td>\n",
       "      <td>0.000000</td>\n",
       "      <td>0.000000</td>\n",
       "    </tr>\n",
       "    <tr>\n",
       "      <th>25%</th>\n",
       "      <td>223.500000</td>\n",
       "      <td>0.000000</td>\n",
       "      <td>2.000000</td>\n",
       "      <td>20.125000</td>\n",
       "      <td>0.000000</td>\n",
       "      <td>0.000000</td>\n",
       "      <td>7.910400</td>\n",
       "    </tr>\n",
       "    <tr>\n",
       "      <th>50%</th>\n",
       "      <td>446.000000</td>\n",
       "      <td>0.000000</td>\n",
       "      <td>3.000000</td>\n",
       "      <td>28.000000</td>\n",
       "      <td>0.000000</td>\n",
       "      <td>0.000000</td>\n",
       "      <td>14.454200</td>\n",
       "    </tr>\n",
       "    <tr>\n",
       "      <th>75%</th>\n",
       "      <td>668.500000</td>\n",
       "      <td>1.000000</td>\n",
       "      <td>3.000000</td>\n",
       "      <td>38.000000</td>\n",
       "      <td>1.000000</td>\n",
       "      <td>0.000000</td>\n",
       "      <td>31.000000</td>\n",
       "    </tr>\n",
       "    <tr>\n",
       "      <th>max</th>\n",
       "      <td>891.000000</td>\n",
       "      <td>1.000000</td>\n",
       "      <td>3.000000</td>\n",
       "      <td>80.000000</td>\n",
       "      <td>8.000000</td>\n",
       "      <td>6.000000</td>\n",
       "      <td>512.329200</td>\n",
       "    </tr>\n",
       "  </tbody>\n",
       "</table>\n",
       "</div>"
      ],
      "text/plain": [
       "       PassengerId    Survived      Pclass         Age       SibSp  \\\n",
       "count   891.000000  891.000000  891.000000  714.000000  891.000000   \n",
       "mean    446.000000    0.383838    2.308642   29.699118    0.523008   \n",
       "std     257.353842    0.486592    0.836071   14.526497    1.102743   \n",
       "min       1.000000    0.000000    1.000000    0.420000    0.000000   \n",
       "25%     223.500000    0.000000    2.000000   20.125000    0.000000   \n",
       "50%     446.000000    0.000000    3.000000   28.000000    0.000000   \n",
       "75%     668.500000    1.000000    3.000000   38.000000    1.000000   \n",
       "max     891.000000    1.000000    3.000000   80.000000    8.000000   \n",
       "\n",
       "            Parch        Fare  \n",
       "count  891.000000  891.000000  \n",
       "mean     0.381594   32.204208  \n",
       "std      0.806057   49.693429  \n",
       "min      0.000000    0.000000  \n",
       "25%      0.000000    7.910400  \n",
       "50%      0.000000   14.454200  \n",
       "75%      0.000000   31.000000  \n",
       "max      6.000000  512.329200  "
      ]
     },
     "execution_count": 6,
     "metadata": {},
     "output_type": "execute_result"
    }
   ],
   "source": [
    "train_df.describe()"
   ]
  },
  {
   "cell_type": "code",
   "execution_count": 7,
   "id": "c6ac538c",
   "metadata": {
    "execution": {
     "iopub.execute_input": "2023-01-06T00:37:02.573649Z",
     "iopub.status.busy": "2023-01-06T00:37:02.572757Z",
     "iopub.status.idle": "2023-01-06T00:37:02.588407Z",
     "shell.execute_reply": "2023-01-06T00:37:02.587449Z"
    },
    "papermill": {
     "duration": 0.045608,
     "end_time": "2023-01-06T00:37:02.592384",
     "exception": false,
     "start_time": "2023-01-06T00:37:02.546776",
     "status": "completed"
    },
    "tags": []
   },
   "outputs": [
    {
     "name": "stdout",
     "output_type": "stream",
     "text": [
      "<class 'pandas.core.frame.DataFrame'>\n",
      "RangeIndex: 891 entries, 0 to 890\n",
      "Data columns (total 12 columns):\n",
      " #   Column       Non-Null Count  Dtype  \n",
      "---  ------       --------------  -----  \n",
      " 0   PassengerId  891 non-null    int64  \n",
      " 1   Survived     891 non-null    int64  \n",
      " 2   Pclass       891 non-null    int64  \n",
      " 3   Name         891 non-null    object \n",
      " 4   Sex          891 non-null    object \n",
      " 5   Age          714 non-null    float64\n",
      " 6   SibSp        891 non-null    int64  \n",
      " 7   Parch        891 non-null    int64  \n",
      " 8   Ticket       891 non-null    object \n",
      " 9   Fare         891 non-null    float64\n",
      " 10  Cabin        204 non-null    object \n",
      " 11  Embarked     889 non-null    object \n",
      "dtypes: float64(2), int64(5), object(5)\n",
      "memory usage: 83.7+ KB\n"
     ]
    }
   ],
   "source": [
    "train_df.info()"
   ]
  },
  {
   "cell_type": "code",
   "execution_count": 8,
   "id": "1d65672f",
   "metadata": {
    "execution": {
     "iopub.execute_input": "2023-01-06T00:37:02.644849Z",
     "iopub.status.busy": "2023-01-06T00:37:02.644287Z",
     "iopub.status.idle": "2023-01-06T00:37:02.655011Z",
     "shell.execute_reply": "2023-01-06T00:37:02.654276Z"
    },
    "papermill": {
     "duration": 0.039692,
     "end_time": "2023-01-06T00:37:02.657913",
     "exception": false,
     "start_time": "2023-01-06T00:37:02.618221",
     "status": "completed"
    },
    "tags": []
   },
   "outputs": [
    {
     "name": "stdout",
     "output_type": "stream",
     "text": [
      "<class 'pandas.core.frame.DataFrame'>\n",
      "RangeIndex: 418 entries, 0 to 417\n",
      "Data columns (total 11 columns):\n",
      " #   Column       Non-Null Count  Dtype  \n",
      "---  ------       --------------  -----  \n",
      " 0   PassengerId  418 non-null    int64  \n",
      " 1   Pclass       418 non-null    int64  \n",
      " 2   Name         418 non-null    object \n",
      " 3   Sex          418 non-null    object \n",
      " 4   Age          332 non-null    float64\n",
      " 5   SibSp        418 non-null    int64  \n",
      " 6   Parch        418 non-null    int64  \n",
      " 7   Ticket       418 non-null    object \n",
      " 8   Fare         417 non-null    float64\n",
      " 9   Cabin        91 non-null     object \n",
      " 10  Embarked     418 non-null    object \n",
      "dtypes: float64(2), int64(4), object(5)\n",
      "memory usage: 36.0+ KB\n"
     ]
    }
   ],
   "source": [
    "test_df.info()"
   ]
  },
  {
   "cell_type": "code",
   "execution_count": 9,
   "id": "9d938ec8",
   "metadata": {
    "execution": {
     "iopub.execute_input": "2023-01-06T00:37:02.710763Z",
     "iopub.status.busy": "2023-01-06T00:37:02.710207Z",
     "iopub.status.idle": "2023-01-06T00:37:02.721470Z",
     "shell.execute_reply": "2023-01-06T00:37:02.720356Z"
    },
    "papermill": {
     "duration": 0.039758,
     "end_time": "2023-01-06T00:37:02.723364",
     "exception": false,
     "start_time": "2023-01-06T00:37:02.683606",
     "status": "completed"
    },
    "tags": []
   },
   "outputs": [
    {
     "data": {
      "text/plain": [
       "0"
      ]
     },
     "execution_count": 9,
     "metadata": {},
     "output_type": "execute_result"
    }
   ],
   "source": [
    "train_df.duplicated().sum()"
   ]
  },
  {
   "cell_type": "markdown",
   "id": "96ba2cbe",
   "metadata": {
    "papermill": {
     "duration": 0.025427,
     "end_time": "2023-01-06T00:37:02.773293",
     "exception": false,
     "start_time": "2023-01-06T00:37:02.747866",
     "status": "completed"
    },
    "tags": []
   },
   "source": [
    "Looking at the data we can drop the ticket, name and cabin columns. The name and ticket numbers do not help us predict survivability while the cabin column consists of over 75% NaN values."
   ]
  },
  {
   "cell_type": "code",
   "execution_count": 10,
   "id": "7cbd4aef",
   "metadata": {
    "execution": {
     "iopub.execute_input": "2023-01-06T00:37:02.826297Z",
     "iopub.status.busy": "2023-01-06T00:37:02.825661Z",
     "iopub.status.idle": "2023-01-06T00:37:02.831965Z",
     "shell.execute_reply": "2023-01-06T00:37:02.830791Z"
    },
    "papermill": {
     "duration": 0.034981,
     "end_time": "2023-01-06T00:37:02.834041",
     "exception": false,
     "start_time": "2023-01-06T00:37:02.799060",
     "status": "completed"
    },
    "tags": []
   },
   "outputs": [],
   "source": [
    "bad_cols = ['Cabin', 'Name', 'Ticket']\n",
    "train_df.drop(axis=1, inplace=True, columns=bad_cols)\n",
    "test_df.drop(axis=1, inplace=True, columns=bad_cols)"
   ]
  },
  {
   "cell_type": "markdown",
   "id": "7e9fab98",
   "metadata": {
    "papermill": {
     "duration": 0.024113,
     "end_time": "2023-01-06T00:37:02.882810",
     "exception": false,
     "start_time": "2023-01-06T00:37:02.858697",
     "status": "completed"
    },
    "tags": []
   },
   "source": [
    "**Seperating Categorical and Numerical Columns**"
   ]
  },
  {
   "cell_type": "code",
   "execution_count": 11,
   "id": "c45e39bf",
   "metadata": {
    "execution": {
     "iopub.execute_input": "2023-01-06T00:37:02.933887Z",
     "iopub.status.busy": "2023-01-06T00:37:02.933185Z",
     "iopub.status.idle": "2023-01-06T00:37:02.939987Z",
     "shell.execute_reply": "2023-01-06T00:37:02.939403Z"
    },
    "papermill": {
     "duration": 0.035372,
     "end_time": "2023-01-06T00:37:02.942349",
     "exception": false,
     "start_time": "2023-01-06T00:37:02.906977",
     "status": "completed"
    },
    "tags": []
   },
   "outputs": [
    {
     "data": {
      "text/plain": [
       "['PassengerId', 'Survived', 'Pclass', 'Age', 'SibSp', 'Parch', 'Fare']"
      ]
     },
     "execution_count": 11,
     "metadata": {},
     "output_type": "execute_result"
    }
   ],
   "source": [
    "num_cols = []\n",
    "\n",
    "for col in train_df.columns:\n",
    "    if train_df.dtypes[col] != 'object':\n",
    "        num_cols.append(col)\n",
    "\n",
    "num_cols"
   ]
  },
  {
   "cell_type": "code",
   "execution_count": 12,
   "id": "ce82de2a",
   "metadata": {
    "execution": {
     "iopub.execute_input": "2023-01-06T00:37:02.993452Z",
     "iopub.status.busy": "2023-01-06T00:37:02.992875Z",
     "iopub.status.idle": "2023-01-06T00:37:03.000298Z",
     "shell.execute_reply": "2023-01-06T00:37:02.999149Z"
    },
    "papermill": {
     "duration": 0.035476,
     "end_time": "2023-01-06T00:37:03.002429",
     "exception": false,
     "start_time": "2023-01-06T00:37:02.966953",
     "status": "completed"
    },
    "tags": []
   },
   "outputs": [
    {
     "data": {
      "text/plain": [
       "['Sex', 'Embarked']"
      ]
     },
     "execution_count": 12,
     "metadata": {},
     "output_type": "execute_result"
    }
   ],
   "source": [
    "cat_cols = []\n",
    "\n",
    "for col in train_df.columns:\n",
    "    if train_df.dtypes[col] == 'object':\n",
    "        cat_cols.append(col)\n",
    "\n",
    "cat_cols"
   ]
  },
  {
   "cell_type": "markdown",
   "id": "a9c0ad11",
   "metadata": {
    "papermill": {
     "duration": 0.024558,
     "end_time": "2023-01-06T00:37:03.051924",
     "exception": false,
     "start_time": "2023-01-06T00:37:03.027366",
     "status": "completed"
    },
    "tags": []
   },
   "source": [
    "**Exploring distributions**"
   ]
  },
  {
   "cell_type": "code",
   "execution_count": 13,
   "id": "4dd949b8",
   "metadata": {
    "execution": {
     "iopub.execute_input": "2023-01-06T00:37:03.103079Z",
     "iopub.status.busy": "2023-01-06T00:37:03.102770Z",
     "iopub.status.idle": "2023-01-06T00:37:03.973426Z",
     "shell.execute_reply": "2023-01-06T00:37:03.972675Z"
    },
    "papermill": {
     "duration": 0.898733,
     "end_time": "2023-01-06T00:37:03.975339",
     "exception": false,
     "start_time": "2023-01-06T00:37:03.076606",
     "status": "completed"
    },
    "tags": []
   },
   "outputs": [
    {
     "data": {
      "image/png": "[encoded data removed]",
      "text/plain": [
       "<Figure size 432x288 with 1 Axes>"
      ]
     },
     "metadata": {
      "needs_background": "light"
     },
     "output_type": "display_data"
    },
    {
     "data": {
      "image/png": "[encoded data removed]",
      "text/plain": [
       "<Figure size 432x288 with 1 Axes>"
      ]
     },
     "metadata": {
      "needs_background": "light"
     },
     "output_type": "display_data"
    },
    {
     "data": {
      "image/png": "[encoded data removed]",
      "text/plain": [
       "<Figure size 432x288 with 1 Axes>"
      ]
     },
     "metadata": {
      "needs_background": "light"
     },
     "output_type": "display_data"
    },
    {
     "data": {
      "image/png": "[encoded data removed]",
      "text/plain": [
       "<Figure size 432x288 with 1 Axes>"
      ]
     },
     "metadata": {
      "needs_background": "light"
     },
     "output_type": "display_data"
    }
   ],
   "source": [
    "for item in ['Age', 'SibSp', 'Parch', 'Fare']:\n",
    "    sns.histplot(data=train_df, x=item)\n",
    "    plt.title(item)\n",
    "    plt.show()"
   ]
  },
  {
   "cell_type": "code",
   "execution_count": 14,
   "id": "56df2768",
   "metadata": {
    "execution": {
     "iopub.execute_input": "2023-01-06T00:37:04.028290Z",
     "iopub.status.busy": "2023-01-06T00:37:04.027685Z",
     "iopub.status.idle": "2023-01-06T00:37:04.448706Z",
     "shell.execute_reply": "2023-01-06T00:37:04.447720Z"
    },
    "papermill": {
     "duration": 0.450183,
     "end_time": "2023-01-06T00:37:04.450987",
     "exception": false,
     "start_time": "2023-01-06T00:37:04.000804",
     "status": "completed"
    },
    "tags": []
   },
   "outputs": [
    {
     "data": {
      "image/png": "[encoded data removed]",
      "text/plain": [
       "<Figure size 432x288 with 1 Axes>"
      ]
     },
     "metadata": {
      "needs_background": "light"
     },
     "output_type": "display_data"
    },
    {
     "data": {
      "image/png": "[encoded data removed]",
      "text/plain": [
       "<Figure size 432x288 with 1 Axes>"
      ]
     },
     "metadata": {
      "needs_background": "light"
     },
     "output_type": "display_data"
    },
    {
     "data": {
      "image/png": "[encoded data removed]",
      "text/plain": [
       "<Figure size 432x288 with 1 Axes>"
      ]
     },
     "metadata": {
      "needs_background": "light"
     },
     "output_type": "display_data"
    },
    {
     "data": {
      "image/png": "[encoded data removed]",
      "text/plain": [
       "<Figure size 432x288 with 1 Axes>"
      ]
     },
     "metadata": {
      "needs_background": "light"
     },
     "output_type": "display_data"
    }
   ],
   "source": [
    "for item in ['Pclass', 'Sex', 'Embarked', 'Survived']:\n",
    "    sns.countplot(data=train_df, x=item)\n",
    "    plt.title(item)\n",
    "    plt.show()"
   ]
  },
  {
   "cell_type": "markdown",
   "id": "e69a18f1",
   "metadata": {
    "papermill": {
     "duration": 0.027217,
     "end_time": "2023-01-06T00:37:04.511769",
     "exception": false,
     "start_time": "2023-01-06T00:37:04.484552",
     "status": "completed"
    },
    "tags": []
   },
   "source": [
    "**Interpreting Numerical Data**"
   ]
  },
  {
   "cell_type": "code",
   "execution_count": 15,
   "id": "ea700973",
   "metadata": {
    "execution": {
     "iopub.execute_input": "2023-01-06T00:37:04.565534Z",
     "iopub.status.busy": "2023-01-06T00:37:04.565152Z",
     "iopub.status.idle": "2023-01-06T00:37:04.574278Z",
     "shell.execute_reply": "2023-01-06T00:37:04.573076Z"
    },
    "papermill": {
     "duration": 0.038371,
     "end_time": "2023-01-06T00:37:04.576059",
     "exception": false,
     "start_time": "2023-01-06T00:37:04.537688",
     "status": "completed"
    },
    "tags": []
   },
   "outputs": [
    {
     "data": {
      "text/plain": [
       "Age     28.343690\n",
       "Fare    48.395408\n",
       "dtype: float64"
      ]
     },
     "execution_count": 15,
     "metadata": {},
     "output_type": "execute_result"
    }
   ],
   "source": [
    "df_survived = train_df[train_df['Survived'] == 1]\n",
    "df_survived[['Age', 'Fare']].mean()"
   ]
  },
  {
   "cell_type": "code",
   "execution_count": 16,
   "id": "e2f670ae",
   "metadata": {
    "execution": {
     "iopub.execute_input": "2023-01-06T00:37:04.629070Z",
     "iopub.status.busy": "2023-01-06T00:37:04.628712Z",
     "iopub.status.idle": "2023-01-06T00:37:04.636804Z",
     "shell.execute_reply": "2023-01-06T00:37:04.636207Z"
    },
    "papermill": {
     "duration": 0.036607,
     "end_time": "2023-01-06T00:37:04.638379",
     "exception": false,
     "start_time": "2023-01-06T00:37:04.601772",
     "status": "completed"
    },
    "tags": []
   },
   "outputs": [
    {
     "data": {
      "text/plain": [
       "Age     30.626179\n",
       "Fare    22.117887\n",
       "dtype: float64"
      ]
     },
     "execution_count": 16,
     "metadata": {},
     "output_type": "execute_result"
    }
   ],
   "source": [
    "df_died = train_df[train_df['Survived'] == 0]\n",
    "df_died[['Age', 'Fare']].mean()"
   ]
  },
  {
   "cell_type": "markdown",
   "id": "c455ad0f",
   "metadata": {
    "papermill": {
     "duration": 0.025569,
     "end_time": "2023-01-06T00:37:04.689884",
     "exception": false,
     "start_time": "2023-01-06T00:37:04.664315",
     "status": "completed"
    },
    "tags": []
   },
   "source": [
    "It looks as though fare price plays a large role in determining whether a passenger survives or not. Despite similar averages between the age of those who survived and those who did not does not mean that the variable is arbitrary. Lets take a closer look. "
   ]
  },
  {
   "cell_type": "markdown",
   "id": "2e4e9877",
   "metadata": {
    "papermill": {
     "duration": 0.025692,
     "end_time": "2023-01-06T00:37:04.741050",
     "exception": false,
     "start_time": "2023-01-06T00:37:04.715358",
     "status": "completed"
    },
    "tags": []
   },
   "source": [
    "**Age**"
   ]
  },
  {
   "cell_type": "code",
   "execution_count": 17,
   "id": "8fd52c3f",
   "metadata": {
    "execution": {
     "iopub.execute_input": "2023-01-06T00:37:04.795318Z",
     "iopub.status.busy": "2023-01-06T00:37:04.794791Z",
     "iopub.status.idle": "2023-01-06T00:37:04.998247Z",
     "shell.execute_reply": "2023-01-06T00:37:04.997365Z"
    },
    "papermill": {
     "duration": 0.23302,
     "end_time": "2023-01-06T00:37:04.999986",
     "exception": false,
     "start_time": "2023-01-06T00:37:04.766966",
     "status": "completed"
    },
    "tags": []
   },
   "outputs": [
    {
     "data": {
      "image/png": "[encoded data removed]",
      "text/plain": [
       "<Figure size 1008x576 with 1 Axes>"
      ]
     },
     "metadata": {
      "needs_background": "light"
     },
     "output_type": "display_data"
    }
   ],
   "source": [
    "plt.figure(figsize=(14,8))\n",
    "sns.kdeplot(data=df_survived, x='Age', shade=True, alpha=0.5, multiple='stack', label='Survived')\n",
    "sns.kdeplot(data=df_died, x='Age', alpha=0.5,shade=True, multiple='stack', label='Died')\n",
    "plt.xlabel(\"Age\",color='red')\n",
    "plt.ylabel(\"Density\",color='red')\n",
    "plt.legend()\n",
    "plt.show()"
   ]
  },
  {
   "cell_type": "markdown",
   "id": "f2953fd7",
   "metadata": {
    "papermill": {
     "duration": 0.025731,
     "end_time": "2023-01-06T00:37:05.051848",
     "exception": false,
     "start_time": "2023-01-06T00:37:05.026117",
     "status": "completed"
    },
    "tags": []
   },
   "source": [
    "This plot shows that young children, <5 years of age have a proportionally higher rate of survival while individuals aged over 60 are less likely to live."
   ]
  },
  {
   "cell_type": "markdown",
   "id": "0a120753",
   "metadata": {
    "papermill": {
     "duration": 0.026193,
     "end_time": "2023-01-06T00:37:05.103959",
     "exception": false,
     "start_time": "2023-01-06T00:37:05.077766",
     "status": "completed"
    },
    "tags": []
   },
   "source": [
    "**Fare**"
   ]
  },
  {
   "cell_type": "code",
   "execution_count": 18,
   "id": "19210e69",
   "metadata": {
    "execution": {
     "iopub.execute_input": "2023-01-06T00:37:05.160300Z",
     "iopub.status.busy": "2023-01-06T00:37:05.159880Z",
     "iopub.status.idle": "2023-01-06T00:37:05.551882Z",
     "shell.execute_reply": "2023-01-06T00:37:05.551003Z"
    },
    "papermill": {
     "duration": 0.423051,
     "end_time": "2023-01-06T00:37:05.553751",
     "exception": false,
     "start_time": "2023-01-06T00:37:05.130700",
     "status": "completed"
    },
    "tags": []
   },
   "outputs": [
    {
     "data": {
      "image/png": "[encoded data removed]",
      "text/plain": [
       "<Figure size 360x360 with 1 Axes>"
      ]
     },
     "metadata": {
      "needs_background": "light"
     },
     "output_type": "display_data"
    }
   ],
   "source": [
    "sns.displot(train_df.Fare, kde=True, label=\"Skewness : %.2f\"%(train_df.Fare.skew()))\n",
    "plt.legend()\n",
    "plt.show()"
   ]
  },
  {
   "cell_type": "markdown",
   "id": "0c55b07f",
   "metadata": {
    "papermill": {
     "duration": 0.027265,
     "end_time": "2023-01-06T00:37:05.608016",
     "exception": false,
     "start_time": "2023-01-06T00:37:05.580751",
     "status": "completed"
    },
    "tags": []
   },
   "source": [
    "The skew for the distribution of the fare variable is pretty large which may cause higher values to be disproportionately weighted. In order to amend this we will transform the fare values with the log function. There is also 1 NaN value in the test dataset that we will convert to the mean using the passenger class of the individual. "
   ]
  },
  {
   "cell_type": "code",
   "execution_count": 19,
   "id": "3a52331d",
   "metadata": {
    "execution": {
     "iopub.execute_input": "2023-01-06T00:37:05.663762Z",
     "iopub.status.busy": "2023-01-06T00:37:05.663242Z",
     "iopub.status.idle": "2023-01-06T00:37:05.675043Z",
     "shell.execute_reply": "2023-01-06T00:37:05.674206Z"
    },
    "papermill": {
     "duration": 0.041556,
     "end_time": "2023-01-06T00:37:05.676842",
     "exception": false,
     "start_time": "2023-01-06T00:37:05.635286",
     "status": "completed"
    },
    "tags": []
   },
   "outputs": [
    {
     "data": {
      "text/html": [
       "<div>\n",
       "<style scoped>\n",
       "    .dataframe tbody tr th:only-of-type {\n",
       "        vertical-align: middle;\n",
       "    }\n",
       "\n",
       "    .dataframe tbody tr th {\n",
       "        vertical-align: top;\n",
       "    }\n",
       "\n",
       "    .dataframe thead th {\n",
       "        text-align: right;\n",
       "    }\n",
       "</style>\n",
       "<table border=\"1\" class=\"dataframe\">\n",
       "  <thead>\n",
       "    <tr style=\"text-align: right;\">\n",
       "      <th></th>\n",
       "      <th>PassengerId</th>\n",
       "      <th>Pclass</th>\n",
       "      <th>Sex</th>\n",
       "      <th>Age</th>\n",
       "      <th>SibSp</th>\n",
       "      <th>Parch</th>\n",
       "      <th>Fare</th>\n",
       "      <th>Embarked</th>\n",
       "    </tr>\n",
       "  </thead>\n",
       "  <tbody>\n",
       "    <tr>\n",
       "      <th>152</th>\n",
       "      <td>1044</td>\n",
       "      <td>3</td>\n",
       "      <td>male</td>\n",
       "      <td>60.5</td>\n",
       "      <td>0</td>\n",
       "      <td>0</td>\n",
       "      <td>NaN</td>\n",
       "      <td>S</td>\n",
       "    </tr>\n",
       "  </tbody>\n",
       "</table>\n",
       "</div>"
      ],
      "text/plain": [
       "     PassengerId  Pclass   Sex   Age  SibSp  Parch  Fare Embarked\n",
       "152         1044       3  male  60.5      0      0   NaN        S"
      ]
     },
     "execution_count": 19,
     "metadata": {},
     "output_type": "execute_result"
    }
   ],
   "source": [
    "test_df[test_df.Fare.isnull() == True]"
   ]
  },
  {
   "cell_type": "code",
   "execution_count": 20,
   "id": "238dd181",
   "metadata": {
    "execution": {
     "iopub.execute_input": "2023-01-06T00:37:05.732249Z",
     "iopub.status.busy": "2023-01-06T00:37:05.731875Z",
     "iopub.status.idle": "2023-01-06T00:37:05.744941Z",
     "shell.execute_reply": "2023-01-06T00:37:05.743908Z"
    },
    "papermill": {
     "duration": 0.042977,
     "end_time": "2023-01-06T00:37:05.746845",
     "exception": false,
     "start_time": "2023-01-06T00:37:05.703868",
     "status": "completed"
    },
    "tags": []
   },
   "outputs": [
    {
     "data": {
      "text/html": [
       "<div>\n",
       "<style scoped>\n",
       "    .dataframe tbody tr th:only-of-type {\n",
       "        vertical-align: middle;\n",
       "    }\n",
       "\n",
       "    .dataframe tbody tr th {\n",
       "        vertical-align: top;\n",
       "    }\n",
       "\n",
       "    .dataframe thead th {\n",
       "        text-align: right;\n",
       "    }\n",
       "</style>\n",
       "<table border=\"1\" class=\"dataframe\">\n",
       "  <thead>\n",
       "    <tr style=\"text-align: right;\">\n",
       "      <th></th>\n",
       "      <th>Fare</th>\n",
       "    </tr>\n",
       "    <tr>\n",
       "      <th>Pclass</th>\n",
       "      <th></th>\n",
       "    </tr>\n",
       "  </thead>\n",
       "  <tbody>\n",
       "    <tr>\n",
       "      <th>1</th>\n",
       "      <td>84.154687</td>\n",
       "    </tr>\n",
       "    <tr>\n",
       "      <th>2</th>\n",
       "      <td>20.662183</td>\n",
       "    </tr>\n",
       "    <tr>\n",
       "      <th>3</th>\n",
       "      <td>13.675550</td>\n",
       "    </tr>\n",
       "  </tbody>\n",
       "</table>\n",
       "</div>"
      ],
      "text/plain": [
       "             Fare\n",
       "Pclass           \n",
       "1       84.154687\n",
       "2       20.662183\n",
       "3       13.675550"
      ]
     },
     "execution_count": 20,
     "metadata": {},
     "output_type": "execute_result"
    }
   ],
   "source": [
    "train_df[['Pclass', 'Fare']].groupby('Pclass').mean()"
   ]
  },
  {
   "cell_type": "code",
   "execution_count": 21,
   "id": "0757e261",
   "metadata": {
    "execution": {
     "iopub.execute_input": "2023-01-06T00:37:05.803455Z",
     "iopub.status.busy": "2023-01-06T00:37:05.803034Z",
     "iopub.status.idle": "2023-01-06T00:37:05.813996Z",
     "shell.execute_reply": "2023-01-06T00:37:05.813447Z"
    },
    "papermill": {
     "duration": 0.041864,
     "end_time": "2023-01-06T00:37:05.815716",
     "exception": false,
     "start_time": "2023-01-06T00:37:05.773852",
     "status": "completed"
    },
    "tags": []
   },
   "outputs": [
    {
     "data": {
      "text/html": [
       "<div>\n",
       "<style scoped>\n",
       "    .dataframe tbody tr th:only-of-type {\n",
       "        vertical-align: middle;\n",
       "    }\n",
       "\n",
       "    .dataframe tbody tr th {\n",
       "        vertical-align: top;\n",
       "    }\n",
       "\n",
       "    .dataframe thead th {\n",
       "        text-align: right;\n",
       "    }\n",
       "</style>\n",
       "<table border=\"1\" class=\"dataframe\">\n",
       "  <thead>\n",
       "    <tr style=\"text-align: right;\">\n",
       "      <th></th>\n",
       "      <th>PassengerId</th>\n",
       "      <th>Pclass</th>\n",
       "      <th>Sex</th>\n",
       "      <th>Age</th>\n",
       "      <th>SibSp</th>\n",
       "      <th>Parch</th>\n",
       "      <th>Fare</th>\n",
       "      <th>Embarked</th>\n",
       "    </tr>\n",
       "  </thead>\n",
       "  <tbody>\n",
       "    <tr>\n",
       "      <th>152</th>\n",
       "      <td>1044</td>\n",
       "      <td>3</td>\n",
       "      <td>male</td>\n",
       "      <td>60.5</td>\n",
       "      <td>0</td>\n",
       "      <td>0</td>\n",
       "      <td>13.68</td>\n",
       "      <td>S</td>\n",
       "    </tr>\n",
       "  </tbody>\n",
       "</table>\n",
       "</div>"
      ],
      "text/plain": [
       "     PassengerId  Pclass   Sex   Age  SibSp  Parch   Fare Embarked\n",
       "152         1044       3  male  60.5      0      0  13.68        S"
      ]
     },
     "execution_count": 21,
     "metadata": {},
     "output_type": "execute_result"
    }
   ],
   "source": [
    "test_df.Fare.fillna(13.68, inplace=True)\n",
    "test_df[test_df.PassengerId == 1044]"
   ]
  },
  {
   "cell_type": "code",
   "execution_count": 22,
   "id": "4c3dc27a",
   "metadata": {
    "execution": {
     "iopub.execute_input": "2023-01-06T00:37:05.872746Z",
     "iopub.status.busy": "2023-01-06T00:37:05.871694Z",
     "iopub.status.idle": "2023-01-06T00:37:05.878555Z",
     "shell.execute_reply": "2023-01-06T00:37:05.877946Z"
    },
    "papermill": {
     "duration": 0.037289,
     "end_time": "2023-01-06T00:37:05.880297",
     "exception": false,
     "start_time": "2023-01-06T00:37:05.843008",
     "status": "completed"
    },
    "tags": []
   },
   "outputs": [],
   "source": [
    "train_df.Fare = train_df.Fare.map(lambda i: np.log(i) if i > 0 else 0)\n",
    "test_df.Fare = test_df.Fare.map(lambda i: np.log(i) if i > 0 else 0)"
   ]
  },
  {
   "cell_type": "code",
   "execution_count": 23,
   "id": "e2f05212",
   "metadata": {
    "execution": {
     "iopub.execute_input": "2023-01-06T00:37:05.937026Z",
     "iopub.status.busy": "2023-01-06T00:37:05.936051Z",
     "iopub.status.idle": "2023-01-06T00:37:06.175040Z",
     "shell.execute_reply": "2023-01-06T00:37:06.174112Z"
    },
    "papermill": {
     "duration": 0.2701,
     "end_time": "2023-01-06T00:37:06.177513",
     "exception": false,
     "start_time": "2023-01-06T00:37:05.907413",
     "status": "completed"
    },
    "tags": []
   },
   "outputs": [
    {
     "data": {
      "image/png": "[encoded data removed]",
      "text/plain": [
       "<Figure size 360x360 with 1 Axes>"
      ]
     },
     "metadata": {
      "needs_background": "light"
     },
     "output_type": "display_data"
    }
   ],
   "source": [
    "sns.displot(train_df.Fare, color='red', kde=True, label=\"Skewness : %.2f\"%(train_df.Fare.skew()))\n",
    "plt.legend()\n",
    "plt.show()"
   ]
  },
  {
   "cell_type": "markdown",
   "id": "065d1943",
   "metadata": {
    "papermill": {
     "duration": 0.029447,
     "end_time": "2023-01-06T00:37:06.235141",
     "exception": false,
     "start_time": "2023-01-06T00:37:06.205694",
     "status": "completed"
    },
    "tags": []
   },
   "source": [
    "**Interpreting Categorical Variables**"
   ]
  },
  {
   "cell_type": "markdown",
   "id": "05166a77",
   "metadata": {
    "papermill": {
     "duration": 0.027297,
     "end_time": "2023-01-06T00:37:06.290010",
     "exception": false,
     "start_time": "2023-01-06T00:37:06.262713",
     "status": "completed"
    },
    "tags": []
   },
   "source": [
    "**Sex**"
   ]
  },
  {
   "cell_type": "code",
   "execution_count": 24,
   "id": "77bf9c9d",
   "metadata": {
    "execution": {
     "iopub.execute_input": "2023-01-06T00:37:06.348420Z",
     "iopub.status.busy": "2023-01-06T00:37:06.347854Z",
     "iopub.status.idle": "2023-01-06T00:37:06.512705Z",
     "shell.execute_reply": "2023-01-06T00:37:06.511849Z"
    },
    "papermill": {
     "duration": 0.196523,
     "end_time": "2023-01-06T00:37:06.514774",
     "exception": false,
     "start_time": "2023-01-06T00:37:06.318251",
     "status": "completed"
    },
    "tags": []
   },
   "outputs": [
    {
     "data": {
      "image/png": "[encoded data removed]",
      "text/plain": [
       "<Figure size 432x288 with 1 Axes>"
      ]
     },
     "metadata": {
      "needs_background": "light"
     },
     "output_type": "display_data"
    }
   ],
   "source": [
    "sns.barplot(data=train_df, x=\"Sex\",y=\"Survived\")\n",
    "plt.title('Ratio of male and female survival')\n",
    "plt.show()\n"
   ]
  },
  {
   "cell_type": "markdown",
   "id": "9b61ae05",
   "metadata": {
    "papermill": {
     "duration": 0.028308,
     "end_time": "2023-01-06T00:37:06.577123",
     "exception": false,
     "start_time": "2023-01-06T00:37:06.548815",
     "status": "completed"
    },
    "tags": []
   },
   "source": [
    "There is a clear trend that females have a higher likelihood of surviving than males and that sex plays and important role in predicting survival. "
   ]
  },
  {
   "cell_type": "markdown",
   "id": "2efc1560",
   "metadata": {
    "papermill": {
     "duration": 0.029156,
     "end_time": "2023-01-06T00:37:06.634292",
     "exception": false,
     "start_time": "2023-01-06T00:37:06.605136",
     "status": "completed"
    },
    "tags": []
   },
   "source": [
    "**Passenger Class**"
   ]
  },
  {
   "cell_type": "code",
   "execution_count": 25,
   "id": "13ba8e3c",
   "metadata": {
    "execution": {
     "iopub.execute_input": "2023-01-06T00:37:06.691630Z",
     "iopub.status.busy": "2023-01-06T00:37:06.691284Z",
     "iopub.status.idle": "2023-01-06T00:37:07.031700Z",
     "shell.execute_reply": "2023-01-06T00:37:07.030834Z"
    },
    "papermill": {
     "duration": 0.371359,
     "end_time": "2023-01-06T00:37:07.033715",
     "exception": false,
     "start_time": "2023-01-06T00:37:06.662356",
     "status": "completed"
    },
    "tags": []
   },
   "outputs": [
    {
     "data": {
      "image/png": "[encoded data removed]",
      "text/plain": [
       "<Figure size 432x288 with 1 Axes>"
      ]
     },
     "metadata": {
      "needs_background": "light"
     },
     "output_type": "display_data"
    }
   ],
   "source": [
    "sns.barplot(data=train_df, x=\"Pclass\",y=\"Survived\")\n",
    "plt.title('Survival rate by passenger class')\n",
    "plt.show()\n"
   ]
  },
  {
   "cell_type": "code",
   "execution_count": 26,
   "id": "81257391",
   "metadata": {
    "execution": {
     "iopub.execute_input": "2023-01-06T00:37:07.096300Z",
     "iopub.status.busy": "2023-01-06T00:37:07.095695Z",
     "iopub.status.idle": "2023-01-06T00:37:07.106135Z",
     "shell.execute_reply": "2023-01-06T00:37:07.105050Z"
    },
    "papermill": {
     "duration": 0.041576,
     "end_time": "2023-01-06T00:37:07.108139",
     "exception": false,
     "start_time": "2023-01-06T00:37:07.066563",
     "status": "completed"
    },
    "tags": []
   },
   "outputs": [
    {
     "data": {
      "text/html": [
       "<div>\n",
       "<style scoped>\n",
       "    .dataframe tbody tr th:only-of-type {\n",
       "        vertical-align: middle;\n",
       "    }\n",
       "\n",
       "    .dataframe tbody tr th {\n",
       "        vertical-align: top;\n",
       "    }\n",
       "\n",
       "    .dataframe thead th {\n",
       "        text-align: right;\n",
       "    }\n",
       "</style>\n",
       "<table border=\"1\" class=\"dataframe\">\n",
       "  <thead>\n",
       "    <tr style=\"text-align: right;\">\n",
       "      <th></th>\n",
       "      <th>Survived</th>\n",
       "    </tr>\n",
       "    <tr>\n",
       "      <th>Pclass</th>\n",
       "      <th></th>\n",
       "    </tr>\n",
       "  </thead>\n",
       "  <tbody>\n",
       "    <tr>\n",
       "      <th>1</th>\n",
       "      <td>0.629630</td>\n",
       "    </tr>\n",
       "    <tr>\n",
       "      <th>2</th>\n",
       "      <td>0.472826</td>\n",
       "    </tr>\n",
       "    <tr>\n",
       "      <th>3</th>\n",
       "      <td>0.242363</td>\n",
       "    </tr>\n",
       "  </tbody>\n",
       "</table>\n",
       "</div>"
      ],
      "text/plain": [
       "        Survived\n",
       "Pclass          \n",
       "1       0.629630\n",
       "2       0.472826\n",
       "3       0.242363"
      ]
     },
     "execution_count": 26,
     "metadata": {},
     "output_type": "execute_result"
    }
   ],
   "source": [
    "train_df[['Pclass', 'Survived']].groupby(\"Pclass\").mean()"
   ]
  },
  {
   "cell_type": "markdown",
   "id": "b5304297",
   "metadata": {
    "papermill": {
     "duration": 0.02848,
     "end_time": "2023-01-06T00:37:07.165568",
     "exception": false,
     "start_time": "2023-01-06T00:37:07.137088",
     "status": "completed"
    },
    "tags": []
   },
   "source": [
    "First class passengers have a higher likelihood of surviving. This is makes sense as we have already shown that paying higher fares is correlated with higher survival rate."
   ]
  },
  {
   "cell_type": "markdown",
   "id": "1d0483e1",
   "metadata": {
    "papermill": {
     "duration": 0.028219,
     "end_time": "2023-01-06T00:37:07.222286",
     "exception": false,
     "start_time": "2023-01-06T00:37:07.194067",
     "status": "completed"
    },
    "tags": []
   },
   "source": [
    "**Embarked**"
   ]
  },
  {
   "cell_type": "code",
   "execution_count": 27,
   "id": "bd09eac1",
   "metadata": {
    "execution": {
     "iopub.execute_input": "2023-01-06T00:37:07.281346Z",
     "iopub.status.busy": "2023-01-06T00:37:07.280098Z",
     "iopub.status.idle": "2023-01-06T00:37:07.459576Z",
     "shell.execute_reply": "2023-01-06T00:37:07.458765Z"
    },
    "papermill": {
     "duration": 0.211531,
     "end_time": "2023-01-06T00:37:07.461548",
     "exception": false,
     "start_time": "2023-01-06T00:37:07.250017",
     "status": "completed"
    },
    "tags": []
   },
   "outputs": [
    {
     "data": {
      "image/png": "[encoded data removed]",
      "text/plain": [
       "<Figure size 432x288 with 1 Axes>"
      ]
     },
     "metadata": {
      "needs_background": "light"
     },
     "output_type": "display_data"
    }
   ],
   "source": [
    "sns.barplot(data=train_df, x=\"Embarked\",y=\"Survived\")\n",
    "plt.title('Survival rate by passenger class')\n",
    "plt.show()"
   ]
  },
  {
   "cell_type": "markdown",
   "id": "b59b546a",
   "metadata": {
    "papermill": {
     "duration": 0.027151,
     "end_time": "2023-01-06T00:37:07.523458",
     "exception": false,
     "start_time": "2023-01-06T00:37:07.496307",
     "status": "completed"
    },
    "tags": []
   },
   "source": [
    "Interestingly, it looks as though individuals who embarked from Cherbourg have a higher likelihood of surviving than those who embarked from either Southampton or Queenstown. This is potentially because Cherbourg is where a higher ratio of first class passengers embarked. Lets see."
   ]
  },
  {
   "cell_type": "code",
   "execution_count": 28,
   "id": "5cbb2ed4",
   "metadata": {
    "execution": {
     "iopub.execute_input": "2023-01-06T00:37:07.580603Z",
     "iopub.status.busy": "2023-01-06T00:37:07.579972Z",
     "iopub.status.idle": "2023-01-06T00:37:07.756596Z",
     "shell.execute_reply": "2023-01-06T00:37:07.755758Z"
    },
    "papermill": {
     "duration": 0.207438,
     "end_time": "2023-01-06T00:37:07.758369",
     "exception": false,
     "start_time": "2023-01-06T00:37:07.550931",
     "status": "completed"
    },
    "tags": []
   },
   "outputs": [
    {
     "data": {
      "image/png": "[encoded data removed]",
      "text/plain": [
       "<Figure size 432x288 with 1 Axes>"
      ]
     },
     "metadata": {
      "needs_background": "light"
     },
     "output_type": "display_data"
    }
   ],
   "source": [
    "sns.barplot(data=train_df, x=\"Embarked\",y=\"Pclass\")\n",
    "plt.title('Average class of different boarding sites')\n",
    "plt.show()"
   ]
  },
  {
   "cell_type": "code",
   "execution_count": 29,
   "id": "ebc39360",
   "metadata": {
    "execution": {
     "iopub.execute_input": "2023-01-06T00:37:07.824384Z",
     "iopub.status.busy": "2023-01-06T00:37:07.823785Z",
     "iopub.status.idle": "2023-01-06T00:37:07.833507Z",
     "shell.execute_reply": "2023-01-06T00:37:07.832902Z"
    },
    "papermill": {
     "duration": 0.041125,
     "end_time": "2023-01-06T00:37:07.835235",
     "exception": false,
     "start_time": "2023-01-06T00:37:07.794110",
     "status": "completed"
    },
    "tags": []
   },
   "outputs": [
    {
     "data": {
      "text/html": [
       "<div>\n",
       "<style scoped>\n",
       "    .dataframe tbody tr th:only-of-type {\n",
       "        vertical-align: middle;\n",
       "    }\n",
       "\n",
       "    .dataframe tbody tr th {\n",
       "        vertical-align: top;\n",
       "    }\n",
       "\n",
       "    .dataframe thead th {\n",
       "        text-align: right;\n",
       "    }\n",
       "</style>\n",
       "<table border=\"1\" class=\"dataframe\">\n",
       "  <thead>\n",
       "    <tr style=\"text-align: right;\">\n",
       "      <th></th>\n",
       "      <th>Pclass</th>\n",
       "    </tr>\n",
       "    <tr>\n",
       "      <th>Embarked</th>\n",
       "      <th></th>\n",
       "    </tr>\n",
       "  </thead>\n",
       "  <tbody>\n",
       "    <tr>\n",
       "      <th>C</th>\n",
       "      <td>1.886905</td>\n",
       "    </tr>\n",
       "    <tr>\n",
       "      <th>Q</th>\n",
       "      <td>2.909091</td>\n",
       "    </tr>\n",
       "    <tr>\n",
       "      <th>S</th>\n",
       "      <td>2.350932</td>\n",
       "    </tr>\n",
       "  </tbody>\n",
       "</table>\n",
       "</div>"
      ],
      "text/plain": [
       "            Pclass\n",
       "Embarked          \n",
       "C         1.886905\n",
       "Q         2.909091\n",
       "S         2.350932"
      ]
     },
     "execution_count": 29,
     "metadata": {},
     "output_type": "execute_result"
    }
   ],
   "source": [
    "train_df[['Pclass', 'Embarked']].groupby(\"Embarked\").mean()"
   ]
  },
  {
   "cell_type": "markdown",
   "id": "babb04a8",
   "metadata": {
    "papermill": {
     "duration": 0.028114,
     "end_time": "2023-01-06T00:37:07.891571",
     "exception": false,
     "start_time": "2023-01-06T00:37:07.863457",
     "status": "completed"
    },
    "tags": []
   },
   "source": [
    "It seems that this theory is confirmed as the average Passenger class of Cherbourg is lower than either Queenstown or Southampton. Interestingly Queenstown consists of almost entirely third class passengers yet has a higher survival rate than those who embarked from Southampton. This may be due to Queenstown having more children (aged 0 - 5), more men, or perhaps other factors. "
   ]
  },
  {
   "cell_type": "markdown",
   "id": "c736e693",
   "metadata": {
    "papermill": {
     "duration": 0.027843,
     "end_time": "2023-01-06T00:37:07.947748",
     "exception": false,
     "start_time": "2023-01-06T00:37:07.919905",
     "status": "completed"
    },
    "tags": []
   },
   "source": [
    "**Number of Parents/Children aboard**"
   ]
  },
  {
   "cell_type": "code",
   "execution_count": 30,
   "id": "53e57601",
   "metadata": {
    "execution": {
     "iopub.execute_input": "2023-01-06T00:37:08.006116Z",
     "iopub.status.busy": "2023-01-06T00:37:08.005754Z",
     "iopub.status.idle": "2023-01-06T00:37:08.264910Z",
     "shell.execute_reply": "2023-01-06T00:37:08.264125Z"
    },
    "papermill": {
     "duration": 0.290736,
     "end_time": "2023-01-06T00:37:08.266681",
     "exception": false,
     "start_time": "2023-01-06T00:37:07.975945",
     "status": "completed"
    },
    "tags": []
   },
   "outputs": [
    {
     "data": {
      "image/png": "[encoded data removed]",
      "text/plain": [
       "<Figure size 432x288 with 1 Axes>"
      ]
     },
     "metadata": {
      "needs_background": "light"
     },
     "output_type": "display_data"
    }
   ],
   "source": [
    "sns.barplot(data=train_df, x=\"Parch\",y=\"Survived\")\n",
    "plt.title('Survival rate by # of children/parents aboard')\n",
    "plt.show()"
   ]
  },
  {
   "cell_type": "markdown",
   "id": "79d8c8e7",
   "metadata": {
    "papermill": {
     "duration": 0.02912,
     "end_time": "2023-01-06T00:37:08.327938",
     "exception": false,
     "start_time": "2023-01-06T00:37:08.298818",
     "status": "completed"
    },
    "tags": []
   },
   "source": [
    "Having a medium sized family appears to more beneficial than traveling alone or with a large family. Notice a large standard deviation for families with 3 children/parents."
   ]
  },
  {
   "cell_type": "markdown",
   "id": "a7fdf5c3",
   "metadata": {
    "papermill": {
     "duration": 0.028603,
     "end_time": "2023-01-06T00:37:08.385710",
     "exception": false,
     "start_time": "2023-01-06T00:37:08.357107",
     "status": "completed"
    },
    "tags": []
   },
   "source": [
    "**Number of Siblings/Spouses**"
   ]
  },
  {
   "cell_type": "code",
   "execution_count": 31,
   "id": "6a1d0c5c",
   "metadata": {
    "execution": {
     "iopub.execute_input": "2023-01-06T00:37:08.445922Z",
     "iopub.status.busy": "2023-01-06T00:37:08.445254Z",
     "iopub.status.idle": "2023-01-06T00:37:08.720206Z",
     "shell.execute_reply": "2023-01-06T00:37:08.719458Z"
    },
    "papermill": {
     "duration": 0.307391,
     "end_time": "2023-01-06T00:37:08.722157",
     "exception": false,
     "start_time": "2023-01-06T00:37:08.414766",
     "status": "completed"
    },
    "tags": []
   },
   "outputs": [
    {
     "data": {
      "image/png": "[encoded data removed]",
      "text/plain": [
       "<Figure size 432x288 with 1 Axes>"
      ]
     },
     "metadata": {
      "needs_background": "light"
     },
     "output_type": "display_data"
    }
   ],
   "source": [
    "sns.barplot(data=train_df, x=\"SibSp\",y=\"Survived\")\n",
    "plt.title('Survival rate by # of siblings/spouses aboard')\n",
    "plt.show()"
   ]
  },
  {
   "cell_type": "markdown",
   "id": "9cdc87f6",
   "metadata": {
    "papermill": {
     "duration": 0.028748,
     "end_time": "2023-01-06T00:37:08.782588",
     "exception": false,
     "start_time": "2023-01-06T00:37:08.753840",
     "status": "completed"
    },
    "tags": []
   },
   "source": [
    "Having many siblings decreases survival rate. Traveling with 1 sibling/spouse is the most beneficial.  "
   ]
  },
  {
   "cell_type": "markdown",
   "id": "8d1c04ad",
   "metadata": {
    "papermill": {
     "duration": 0.028596,
     "end_time": "2023-01-06T00:37:08.840297",
     "exception": false,
     "start_time": "2023-01-06T00:37:08.811701",
     "status": "completed"
    },
    "tags": []
   },
   "source": [
    "**Filling Missing Values**"
   ]
  },
  {
   "cell_type": "code",
   "execution_count": 32,
   "id": "e52ac645",
   "metadata": {
    "execution": {
     "iopub.execute_input": "2023-01-06T00:37:08.899120Z",
     "iopub.status.busy": "2023-01-06T00:37:08.898529Z",
     "iopub.status.idle": "2023-01-06T00:37:08.905800Z",
     "shell.execute_reply": "2023-01-06T00:37:08.905090Z"
    },
    "papermill": {
     "duration": 0.038815,
     "end_time": "2023-01-06T00:37:08.907582",
     "exception": false,
     "start_time": "2023-01-06T00:37:08.868767",
     "status": "completed"
    },
    "tags": []
   },
   "outputs": [
    {
     "data": {
      "text/plain": [
       "PassengerId      0\n",
       "Survived         0\n",
       "Pclass           0\n",
       "Sex              0\n",
       "Age            177\n",
       "SibSp            0\n",
       "Parch            0\n",
       "Fare             0\n",
       "Embarked         2\n",
       "dtype: int64"
      ]
     },
     "execution_count": 32,
     "metadata": {},
     "output_type": "execute_result"
    }
   ],
   "source": [
    "train_df.isnull().sum()"
   ]
  },
  {
   "cell_type": "code",
   "execution_count": 33,
   "id": "793bef09",
   "metadata": {
    "execution": {
     "iopub.execute_input": "2023-01-06T00:37:08.969068Z",
     "iopub.status.busy": "2023-01-06T00:37:08.968569Z",
     "iopub.status.idle": "2023-01-06T00:37:08.976688Z",
     "shell.execute_reply": "2023-01-06T00:37:08.975317Z"
    },
    "papermill": {
     "duration": 0.042292,
     "end_time": "2023-01-06T00:37:08.979405",
     "exception": false,
     "start_time": "2023-01-06T00:37:08.937113",
     "status": "completed"
    },
    "tags": []
   },
   "outputs": [
    {
     "data": {
      "text/plain": [
       "PassengerId     0\n",
       "Pclass          0\n",
       "Sex             0\n",
       "Age            86\n",
       "SibSp           0\n",
       "Parch           0\n",
       "Fare            0\n",
       "Embarked        0\n",
       "dtype: int64"
      ]
     },
     "execution_count": 33,
     "metadata": {},
     "output_type": "execute_result"
    }
   ],
   "source": [
    "test_df.isnull().sum()"
   ]
  },
  {
   "cell_type": "markdown",
   "id": "745e15d0",
   "metadata": {
    "papermill": {
     "duration": 0.029287,
     "end_time": "2023-01-06T00:37:09.038412",
     "exception": false,
     "start_time": "2023-01-06T00:37:09.009125",
     "status": "completed"
    },
    "tags": []
   },
   "source": [
    "**We'll replace embarked with the most common value**"
   ]
  },
  {
   "cell_type": "code",
   "execution_count": 34,
   "id": "8bada4db",
   "metadata": {
    "execution": {
     "iopub.execute_input": "2023-01-06T00:37:09.098532Z",
     "iopub.status.busy": "2023-01-06T00:37:09.097949Z",
     "iopub.status.idle": "2023-01-06T00:37:09.105758Z",
     "shell.execute_reply": "2023-01-06T00:37:09.104977Z"
    },
    "papermill": {
     "duration": 0.040585,
     "end_time": "2023-01-06T00:37:09.108060",
     "exception": false,
     "start_time": "2023-01-06T00:37:09.067475",
     "status": "completed"
    },
    "tags": []
   },
   "outputs": [
    {
     "data": {
      "text/plain": [
       "0    S\n",
       "dtype: object"
      ]
     },
     "execution_count": 34,
     "metadata": {},
     "output_type": "execute_result"
    }
   ],
   "source": [
    "train_df.Embarked.mode()"
   ]
  },
  {
   "cell_type": "code",
   "execution_count": 35,
   "id": "8b551edb",
   "metadata": {
    "execution": {
     "iopub.execute_input": "2023-01-06T00:37:09.170484Z",
     "iopub.status.busy": "2023-01-06T00:37:09.170060Z",
     "iopub.status.idle": "2023-01-06T00:37:09.175776Z",
     "shell.execute_reply": "2023-01-06T00:37:09.174749Z"
    },
    "papermill": {
     "duration": 0.040139,
     "end_time": "2023-01-06T00:37:09.178569",
     "exception": false,
     "start_time": "2023-01-06T00:37:09.138430",
     "status": "completed"
    },
    "tags": []
   },
   "outputs": [],
   "source": [
    "train_df.Embarked.fillna('S', inplace=True)"
   ]
  },
  {
   "cell_type": "markdown",
   "id": "a586ca88",
   "metadata": {
    "papermill": {
     "duration": 0.029249,
     "end_time": "2023-01-06T00:37:09.237198",
     "exception": false,
     "start_time": "2023-01-06T00:37:09.207949",
     "status": "completed"
    },
    "tags": []
   },
   "source": [
    "**Age**"
   ]
  },
  {
   "cell_type": "markdown",
   "id": "b73e7f51",
   "metadata": {
    "papermill": {
     "duration": 0.028778,
     "end_time": "2023-01-06T00:37:09.294761",
     "exception": false,
     "start_time": "2023-01-06T00:37:09.265983",
     "status": "completed"
    },
    "tags": []
   },
   "source": [
    "Filling values for age is a bit more difficult than just filling in the average as there are factors that could be correlated to one's age group. Let's one hot encode to take a deeper look. "
   ]
  },
  {
   "cell_type": "markdown",
   "id": "7b331cb0",
   "metadata": {
    "papermill": {
     "duration": 0.02967,
     "end_time": "2023-01-06T00:37:09.354757",
     "exception": false,
     "start_time": "2023-01-06T00:37:09.325087",
     "status": "completed"
    },
    "tags": []
   },
   "source": [
    "**One Hot Encoding**"
   ]
  },
  {
   "cell_type": "code",
   "execution_count": 36,
   "id": "ab030c59",
   "metadata": {
    "execution": {
     "iopub.execute_input": "2023-01-06T00:37:09.417620Z",
     "iopub.status.busy": "2023-01-06T00:37:09.416044Z",
     "iopub.status.idle": "2023-01-06T00:37:09.431544Z",
     "shell.execute_reply": "2023-01-06T00:37:09.430219Z"
    },
    "papermill": {
     "duration": 0.049352,
     "end_time": "2023-01-06T00:37:09.434001",
     "exception": false,
     "start_time": "2023-01-06T00:37:09.384649",
     "status": "completed"
    },
    "tags": []
   },
   "outputs": [
    {
     "data": {
      "text/plain": [
       "(418, 11)"
      ]
     },
     "execution_count": 36,
     "metadata": {},
     "output_type": "execute_result"
    }
   ],
   "source": [
    "ohe_train_df = pd.get_dummies(train_df)\n",
    "ohe_test_df = pd.get_dummies(test_df)\n",
    "ohe_test_df.shape"
   ]
  },
  {
   "cell_type": "code",
   "execution_count": 37,
   "id": "c7ff2f0f",
   "metadata": {
    "execution": {
     "iopub.execute_input": "2023-01-06T00:37:09.494060Z",
     "iopub.status.busy": "2023-01-06T00:37:09.493701Z",
     "iopub.status.idle": "2023-01-06T00:37:09.498991Z",
     "shell.execute_reply": "2023-01-06T00:37:09.498341Z"
    },
    "papermill": {
     "duration": 0.037379,
     "end_time": "2023-01-06T00:37:09.500590",
     "exception": false,
     "start_time": "2023-01-06T00:37:09.463211",
     "status": "completed"
    },
    "tags": []
   },
   "outputs": [
    {
     "data": {
      "text/plain": [
       "(891, 12)"
      ]
     },
     "execution_count": 37,
     "metadata": {},
     "output_type": "execute_result"
    }
   ],
   "source": [
    "ohe_train_df.shape"
   ]
  },
  {
   "cell_type": "markdown",
   "id": "954b9b8b",
   "metadata": {
    "papermill": {
     "duration": 0.029009,
     "end_time": "2023-01-06T00:37:09.559521",
     "exception": false,
     "start_time": "2023-01-06T00:37:09.530512",
     "status": "completed"
    },
    "tags": []
   },
   "source": [
    "We will also merge the training and testing datasets in order to gain more information about the age category. This is not common practice in a real production model. However, it is beneficial in the case of a Kaggle competition where our model will never be used on truly unseen data. "
   ]
  },
  {
   "cell_type": "code",
   "execution_count": 38,
   "id": "84d9a59a",
   "metadata": {
    "execution": {
     "iopub.execute_input": "2023-01-06T00:37:09.618445Z",
     "iopub.status.busy": "2023-01-06T00:37:09.618073Z",
     "iopub.status.idle": "2023-01-06T00:37:09.635918Z",
     "shell.execute_reply": "2023-01-06T00:37:09.634869Z"
    },
    "papermill": {
     "duration": 0.049406,
     "end_time": "2023-01-06T00:37:09.637664",
     "exception": false,
     "start_time": "2023-01-06T00:37:09.588258",
     "status": "completed"
    },
    "tags": []
   },
   "outputs": [
    {
     "data": {
      "text/html": [
       "<div>\n",
       "<style scoped>\n",
       "    .dataframe tbody tr th:only-of-type {\n",
       "        vertical-align: middle;\n",
       "    }\n",
       "\n",
       "    .dataframe tbody tr th {\n",
       "        vertical-align: top;\n",
       "    }\n",
       "\n",
       "    .dataframe thead th {\n",
       "        text-align: right;\n",
       "    }\n",
       "</style>\n",
       "<table border=\"1\" class=\"dataframe\">\n",
       "  <thead>\n",
       "    <tr style=\"text-align: right;\">\n",
       "      <th></th>\n",
       "      <th>PassengerId</th>\n",
       "      <th>Survived</th>\n",
       "      <th>Pclass</th>\n",
       "      <th>Age</th>\n",
       "      <th>SibSp</th>\n",
       "      <th>Parch</th>\n",
       "      <th>Fare</th>\n",
       "      <th>Sex_female</th>\n",
       "      <th>Sex_male</th>\n",
       "      <th>Embarked_C</th>\n",
       "      <th>Embarked_Q</th>\n",
       "      <th>Embarked_S</th>\n",
       "    </tr>\n",
       "  </thead>\n",
       "  <tbody>\n",
       "    <tr>\n",
       "      <th>272</th>\n",
       "      <td>273</td>\n",
       "      <td>1.0</td>\n",
       "      <td>2</td>\n",
       "      <td>41.0</td>\n",
       "      <td>0</td>\n",
       "      <td>1</td>\n",
       "      <td>2.970414</td>\n",
       "      <td>1</td>\n",
       "      <td>0</td>\n",
       "      <td>0</td>\n",
       "      <td>0</td>\n",
       "      <td>1</td>\n",
       "    </tr>\n",
       "  </tbody>\n",
       "</table>\n",
       "</div>"
      ],
      "text/plain": [
       "     PassengerId  Survived  Pclass   Age  SibSp  Parch      Fare  Sex_female  \\\n",
       "272          273       1.0       2  41.0      0      1  2.970414           1   \n",
       "\n",
       "     Sex_male  Embarked_C  Embarked_Q  Embarked_S  \n",
       "272         0           0           0           1  "
      ]
     },
     "execution_count": 38,
     "metadata": {},
     "output_type": "execute_result"
    }
   ],
   "source": [
    "df_all =  pd.concat(objs=[ohe_train_df, ohe_test_df], axis=0).reset_index(drop=True)\n",
    "df_all.sample()"
   ]
  },
  {
   "cell_type": "code",
   "execution_count": 39,
   "id": "a8a2acd7",
   "metadata": {
    "execution": {
     "iopub.execute_input": "2023-01-06T00:37:09.697455Z",
     "iopub.status.busy": "2023-01-06T00:37:09.697079Z",
     "iopub.status.idle": "2023-01-06T00:37:09.992661Z",
     "shell.execute_reply": "2023-01-06T00:37:09.991590Z"
    },
    "papermill": {
     "duration": 0.327918,
     "end_time": "2023-01-06T00:37:09.994796",
     "exception": false,
     "start_time": "2023-01-06T00:37:09.666878",
     "status": "completed"
    },
    "tags": []
   },
   "outputs": [
    {
     "data": {
      "image/png": "[encoded data removed]",
      "text/plain": [
       "<Figure size 432x288 with 2 Axes>"
      ]
     },
     "metadata": {
      "needs_background": "light"
     },
     "output_type": "display_data"
    }
   ],
   "source": [
    "sns.heatmap(df_all[[\"Age\", \"Sex_female\",\"Sex_male\", \"SibSp\",\"Parch\",\"Pclass\"]].corr(), annot=True)\n",
    "plt.show()"
   ]
  },
  {
   "cell_type": "markdown",
   "id": "1954ae8b",
   "metadata": {
    "papermill": {
     "duration": 0.029946,
     "end_time": "2023-01-06T00:37:10.058008",
     "exception": false,
     "start_time": "2023-01-06T00:37:10.028062",
     "status": "completed"
    },
    "tags": []
   },
   "source": [
    "Parch, Pclass and SibSp seem to affect age to the greatest degree so we will use those factors to impute the age of the missing population. "
   ]
  },
  {
   "cell_type": "code",
   "execution_count": 40,
   "id": "b44c51ec",
   "metadata": {
    "execution": {
     "iopub.execute_input": "2023-01-06T00:37:10.119598Z",
     "iopub.status.busy": "2023-01-06T00:37:10.119287Z",
     "iopub.status.idle": "2023-01-06T00:37:10.127660Z",
     "shell.execute_reply": "2023-01-06T00:37:10.126577Z"
    },
    "papermill": {
     "duration": 0.041709,
     "end_time": "2023-01-06T00:37:10.129629",
     "exception": false,
     "start_time": "2023-01-06T00:37:10.087920",
     "status": "completed"
    },
    "tags": []
   },
   "outputs": [],
   "source": [
    "df_all['Age'] = df_all['Age'].fillna(df_all.groupby(['Pclass', 'Parch', 'SibSp'])['Age'].transform('mean'))"
   ]
  },
  {
   "cell_type": "code",
   "execution_count": 41,
   "id": "a40d1c85",
   "metadata": {
    "execution": {
     "iopub.execute_input": "2023-01-06T00:37:10.191219Z",
     "iopub.status.busy": "2023-01-06T00:37:10.190800Z",
     "iopub.status.idle": "2023-01-06T00:37:10.198733Z",
     "shell.execute_reply": "2023-01-06T00:37:10.198061Z"
    },
    "papermill": {
     "duration": 0.040648,
     "end_time": "2023-01-06T00:37:10.200313",
     "exception": false,
     "start_time": "2023-01-06T00:37:10.159665",
     "status": "completed"
    },
    "tags": []
   },
   "outputs": [
    {
     "data": {
      "text/plain": [
       "PassengerId      0\n",
       "Survived       418\n",
       "Pclass           0\n",
       "Age              2\n",
       "SibSp            0\n",
       "Parch            0\n",
       "Fare             0\n",
       "Sex_female       0\n",
       "Sex_male         0\n",
       "Embarked_C       0\n",
       "Embarked_Q       0\n",
       "Embarked_S       0\n",
       "dtype: int64"
      ]
     },
     "execution_count": 41,
     "metadata": {},
     "output_type": "execute_result"
    }
   ],
   "source": [
    "df_all.isna().sum()"
   ]
  },
  {
   "cell_type": "code",
   "execution_count": 42,
   "id": "2401e0d5",
   "metadata": {
    "execution": {
     "iopub.execute_input": "2023-01-06T00:37:10.262405Z",
     "iopub.status.busy": "2023-01-06T00:37:10.261537Z",
     "iopub.status.idle": "2023-01-06T00:37:10.273828Z",
     "shell.execute_reply": "2023-01-06T00:37:10.272920Z"
    },
    "papermill": {
     "duration": 0.045448,
     "end_time": "2023-01-06T00:37:10.275732",
     "exception": false,
     "start_time": "2023-01-06T00:37:10.230284",
     "status": "completed"
    },
    "tags": []
   },
   "outputs": [
    {
     "data": {
      "text/html": [
       "<div>\n",
       "<style scoped>\n",
       "    .dataframe tbody tr th:only-of-type {\n",
       "        vertical-align: middle;\n",
       "    }\n",
       "\n",
       "    .dataframe tbody tr th {\n",
       "        vertical-align: top;\n",
       "    }\n",
       "\n",
       "    .dataframe thead th {\n",
       "        text-align: right;\n",
       "    }\n",
       "</style>\n",
       "<table border=\"1\" class=\"dataframe\">\n",
       "  <thead>\n",
       "    <tr style=\"text-align: right;\">\n",
       "      <th></th>\n",
       "      <th>PassengerId</th>\n",
       "      <th>Survived</th>\n",
       "      <th>Pclass</th>\n",
       "      <th>Age</th>\n",
       "      <th>SibSp</th>\n",
       "      <th>Parch</th>\n",
       "      <th>Fare</th>\n",
       "      <th>Sex_female</th>\n",
       "      <th>Sex_male</th>\n",
       "      <th>Embarked_C</th>\n",
       "      <th>Embarked_Q</th>\n",
       "      <th>Embarked_S</th>\n",
       "    </tr>\n",
       "  </thead>\n",
       "  <tbody>\n",
       "    <tr>\n",
       "      <th>1233</th>\n",
       "      <td>1234</td>\n",
       "      <td>NaN</td>\n",
       "      <td>3</td>\n",
       "      <td>NaN</td>\n",
       "      <td>1</td>\n",
       "      <td>9</td>\n",
       "      <td>4.242046</td>\n",
       "      <td>0</td>\n",
       "      <td>1</td>\n",
       "      <td>0</td>\n",
       "      <td>0</td>\n",
       "      <td>1</td>\n",
       "    </tr>\n",
       "    <tr>\n",
       "      <th>1256</th>\n",
       "      <td>1257</td>\n",
       "      <td>NaN</td>\n",
       "      <td>3</td>\n",
       "      <td>NaN</td>\n",
       "      <td>1</td>\n",
       "      <td>9</td>\n",
       "      <td>4.242046</td>\n",
       "      <td>1</td>\n",
       "      <td>0</td>\n",
       "      <td>0</td>\n",
       "      <td>0</td>\n",
       "      <td>1</td>\n",
       "    </tr>\n",
       "  </tbody>\n",
       "</table>\n",
       "</div>"
      ],
      "text/plain": [
       "      PassengerId  Survived  Pclass  Age  SibSp  Parch      Fare  Sex_female  \\\n",
       "1233         1234       NaN       3  NaN      1      9  4.242046           0   \n",
       "1256         1257       NaN       3  NaN      1      9  4.242046           1   \n",
       "\n",
       "      Sex_male  Embarked_C  Embarked_Q  Embarked_S  \n",
       "1233         1           0           0           1  \n",
       "1256         0           0           0           1  "
      ]
     },
     "execution_count": 42,
     "metadata": {},
     "output_type": "execute_result"
    }
   ],
   "source": [
    "df_all[df_all['Age'].isna()]"
   ]
  },
  {
   "cell_type": "markdown",
   "id": "84f56c8d",
   "metadata": {
    "papermill": {
     "duration": 0.030106,
     "end_time": "2023-01-06T00:37:10.336025",
     "exception": false,
     "start_time": "2023-01-06T00:37:10.305919",
     "status": "completed"
    },
    "tags": []
   },
   "source": [
    "There are still two Nan values for age. This is due to the fact that there are no mean values for a family with a Parch of 9. We cannot drop these rows since they are part of the final testing dataset. Therefore we will will it with the age of 14.5 since that is the average age of the population with the closest approximate features."
   ]
  },
  {
   "cell_type": "code",
   "execution_count": 43,
   "id": "01da1547",
   "metadata": {
    "execution": {
     "iopub.execute_input": "2023-01-06T00:37:10.396853Z",
     "iopub.status.busy": "2023-01-06T00:37:10.396490Z",
     "iopub.status.idle": "2023-01-06T00:37:10.408822Z",
     "shell.execute_reply": "2023-01-06T00:37:10.408216Z"
    },
    "papermill": {
     "duration": 0.044474,
     "end_time": "2023-01-06T00:37:10.410383",
     "exception": false,
     "start_time": "2023-01-06T00:37:10.365909",
     "status": "completed"
    },
    "tags": []
   },
   "outputs": [
    {
     "data": {
      "text/html": [
       "<div>\n",
       "<style scoped>\n",
       "    .dataframe tbody tr th:only-of-type {\n",
       "        vertical-align: middle;\n",
       "    }\n",
       "\n",
       "    .dataframe tbody tr th {\n",
       "        vertical-align: top;\n",
       "    }\n",
       "\n",
       "    .dataframe thead th {\n",
       "        text-align: right;\n",
       "    }\n",
       "</style>\n",
       "<table border=\"1\" class=\"dataframe\">\n",
       "  <thead>\n",
       "    <tr style=\"text-align: right;\">\n",
       "      <th></th>\n",
       "      <th></th>\n",
       "      <th>Age</th>\n",
       "    </tr>\n",
       "    <tr>\n",
       "      <th>Pclass</th>\n",
       "      <th>SibSp</th>\n",
       "      <th></th>\n",
       "    </tr>\n",
       "  </thead>\n",
       "  <tbody>\n",
       "    <tr>\n",
       "      <th rowspan=\"4\" valign=\"top\">1</th>\n",
       "      <th>0</th>\n",
       "      <td>39.257042</td>\n",
       "    </tr>\n",
       "    <tr>\n",
       "      <th>1</th>\n",
       "      <td>39.878888</td>\n",
       "    </tr>\n",
       "    <tr>\n",
       "      <th>2</th>\n",
       "      <td>39.125000</td>\n",
       "    </tr>\n",
       "    <tr>\n",
       "      <th>3</th>\n",
       "      <td>23.500000</td>\n",
       "    </tr>\n",
       "    <tr>\n",
       "      <th rowspan=\"4\" valign=\"top\">2</th>\n",
       "      <th>0</th>\n",
       "      <td>31.202324</td>\n",
       "    </tr>\n",
       "    <tr>\n",
       "      <th>1</th>\n",
       "      <td>27.767317</td>\n",
       "    </tr>\n",
       "    <tr>\n",
       "      <th>2</th>\n",
       "      <td>19.250000</td>\n",
       "    </tr>\n",
       "    <tr>\n",
       "      <th>3</th>\n",
       "      <td>30.000000</td>\n",
       "    </tr>\n",
       "    <tr>\n",
       "      <th rowspan=\"7\" valign=\"top\">3</th>\n",
       "      <th>0</th>\n",
       "      <td>27.186932</td>\n",
       "    </tr>\n",
       "    <tr>\n",
       "      <th>1</th>\n",
       "      <td>23.535183</td>\n",
       "    </tr>\n",
       "    <tr>\n",
       "      <th>2</th>\n",
       "      <td>20.659091</td>\n",
       "    </tr>\n",
       "    <tr>\n",
       "      <th>3</th>\n",
       "      <td>11.693333</td>\n",
       "    </tr>\n",
       "    <tr>\n",
       "      <th>4</th>\n",
       "      <td>8.772727</td>\n",
       "    </tr>\n",
       "    <tr>\n",
       "      <th>5</th>\n",
       "      <td>10.166667</td>\n",
       "    </tr>\n",
       "    <tr>\n",
       "      <th>8</th>\n",
       "      <td>14.500000</td>\n",
       "    </tr>\n",
       "  </tbody>\n",
       "</table>\n",
       "</div>"
      ],
      "text/plain": [
       "                    Age\n",
       "Pclass SibSp           \n",
       "1      0      39.257042\n",
       "       1      39.878888\n",
       "       2      39.125000\n",
       "       3      23.500000\n",
       "2      0      31.202324\n",
       "       1      27.767317\n",
       "       2      19.250000\n",
       "       3      30.000000\n",
       "3      0      27.186932\n",
       "       1      23.535183\n",
       "       2      20.659091\n",
       "       3      11.693333\n",
       "       4       8.772727\n",
       "       5      10.166667\n",
       "       8      14.500000"
      ]
     },
     "execution_count": 43,
     "metadata": {},
     "output_type": "execute_result"
    }
   ],
   "source": [
    "df_all[['Age', 'Pclass', 'SibSp']].groupby(['Pclass', 'SibSp']).mean()"
   ]
  },
  {
   "cell_type": "code",
   "execution_count": 44,
   "id": "faef3dbb",
   "metadata": {
    "execution": {
     "iopub.execute_input": "2023-01-06T00:37:10.471602Z",
     "iopub.status.busy": "2023-01-06T00:37:10.470966Z",
     "iopub.status.idle": "2023-01-06T00:37:10.475104Z",
     "shell.execute_reply": "2023-01-06T00:37:10.474518Z"
    },
    "papermill": {
     "duration": 0.037264,
     "end_time": "2023-01-06T00:37:10.477539",
     "exception": false,
     "start_time": "2023-01-06T00:37:10.440275",
     "status": "completed"
    },
    "tags": []
   },
   "outputs": [],
   "source": [
    "df_all['Age'].fillna(14.5, inplace=True)"
   ]
  },
  {
   "cell_type": "code",
   "execution_count": 45,
   "id": "392f0a85",
   "metadata": {
    "execution": {
     "iopub.execute_input": "2023-01-06T00:37:10.541342Z",
     "iopub.status.busy": "2023-01-06T00:37:10.540940Z",
     "iopub.status.idle": "2023-01-06T00:37:10.547853Z",
     "shell.execute_reply": "2023-01-06T00:37:10.546863Z"
    },
    "papermill": {
     "duration": 0.041212,
     "end_time": "2023-01-06T00:37:10.550058",
     "exception": false,
     "start_time": "2023-01-06T00:37:10.508846",
     "status": "completed"
    },
    "tags": []
   },
   "outputs": [
    {
     "data": {
      "text/plain": [
       "0"
      ]
     },
     "execution_count": 45,
     "metadata": {},
     "output_type": "execute_result"
    }
   ],
   "source": [
    "df_all.Age.isna().sum()"
   ]
  },
  {
   "cell_type": "markdown",
   "id": "de16a453",
   "metadata": {
    "papermill": {
     "duration": 0.030057,
     "end_time": "2023-01-06T00:37:10.611566",
     "exception": false,
     "start_time": "2023-01-06T00:37:10.581509",
     "status": "completed"
    },
    "tags": []
   },
   "source": [
    "We can split the dataset back into training and testing with the imputed values now. "
   ]
  },
  {
   "cell_type": "code",
   "execution_count": 46,
   "id": "5ed3134d",
   "metadata": {
    "execution": {
     "iopub.execute_input": "2023-01-06T00:37:10.674749Z",
     "iopub.status.busy": "2023-01-06T00:37:10.673734Z",
     "iopub.status.idle": "2023-01-06T00:37:10.678715Z",
     "shell.execute_reply": "2023-01-06T00:37:10.677462Z"
    },
    "papermill": {
     "duration": 0.038405,
     "end_time": "2023-01-06T00:37:10.680495",
     "exception": false,
     "start_time": "2023-01-06T00:37:10.642090",
     "status": "completed"
    },
    "tags": []
   },
   "outputs": [],
   "source": [
    "train = df_all[:len(train_df)]\n",
    "test = df_all[len(train_df):]"
   ]
  },
  {
   "cell_type": "code",
   "execution_count": 47,
   "id": "05bbe11f",
   "metadata": {
    "execution": {
     "iopub.execute_input": "2023-01-06T00:37:10.744437Z",
     "iopub.status.busy": "2023-01-06T00:37:10.743650Z",
     "iopub.status.idle": "2023-01-06T00:37:10.755787Z",
     "shell.execute_reply": "2023-01-06T00:37:10.754689Z"
    },
    "papermill": {
     "duration": 0.046455,
     "end_time": "2023-01-06T00:37:10.758044",
     "exception": false,
     "start_time": "2023-01-06T00:37:10.711589",
     "status": "completed"
    },
    "tags": []
   },
   "outputs": [
    {
     "name": "stderr",
     "output_type": "stream",
     "text": [
      "/opt/conda/lib/python3.7/site-packages/pandas/core/frame.py:4913: SettingWithCopyWarning: \n",
      "A value is trying to be set on a copy of a slice from a DataFrame\n",
      "\n",
      "See the caveats in the documentation: https://pandas.pydata.org/pandas-docs/stable/user_guide/indexing.html#returning-a-view-versus-a-copy\n",
      "  errors=errors,\n"
     ]
    }
   ],
   "source": [
    "test.drop(columns='Survived', inplace=True, axis=1)\n",
    "train.drop(columns='PassengerId', inplace=True, axis=1)\n",
    "test.drop(columns='PassengerId', inplace=True, axis=1)"
   ]
  },
  {
   "cell_type": "markdown",
   "id": "402c4808",
   "metadata": {
    "papermill": {
     "duration": 0.030189,
     "end_time": "2023-01-06T00:37:10.819261",
     "exception": false,
     "start_time": "2023-01-06T00:37:10.789072",
     "status": "completed"
    },
    "tags": []
   },
   "source": [
    "**Modeling**"
   ]
  },
  {
   "cell_type": "markdown",
   "id": "f3251601",
   "metadata": {
    "papermill": {
     "duration": 0.031463,
     "end_time": "2023-01-06T00:37:10.881284",
     "exception": false,
     "start_time": "2023-01-06T00:37:10.849821",
     "status": "completed"
    },
    "tags": []
   },
   "source": [
    "We'll use several popular models and evaluat their accuracy using cross validation. "
   ]
  },
  {
   "cell_type": "code",
   "execution_count": 48,
   "id": "29844536",
   "metadata": {
    "execution": {
     "iopub.execute_input": "2023-01-06T00:37:10.944355Z",
     "iopub.status.busy": "2023-01-06T00:37:10.943245Z",
     "iopub.status.idle": "2023-01-06T00:37:11.362792Z",
     "shell.execute_reply": "2023-01-06T00:37:11.361911Z"
    },
    "papermill": {
     "duration": 0.453776,
     "end_time": "2023-01-06T00:37:11.365083",
     "exception": false,
     "start_time": "2023-01-06T00:37:10.911307",
     "status": "completed"
    },
    "tags": []
   },
   "outputs": [],
   "source": [
    "from sklearn.model_selection import cross_val_score\n",
    "from sklearn.naive_bayes import GaussianNB\n",
    "from sklearn.linear_model import LogisticRegression\n",
    "from sklearn.tree import DecisionTreeClassifier\n",
    "from sklearn.ensemble import RandomForestClassifier, VotingClassifier\n",
    "from sklearn.neighbors import KNeighborsClassifier\n",
    "from sklearn.svm import SVC\n",
    "from xgboost import XGBClassifier\n"
   ]
  },
  {
   "cell_type": "code",
   "execution_count": 49,
   "id": "0cecb466",
   "metadata": {
    "execution": {
     "iopub.execute_input": "2023-01-06T00:37:11.431969Z",
     "iopub.status.busy": "2023-01-06T00:37:11.431001Z",
     "iopub.status.idle": "2023-01-06T00:37:11.436695Z",
     "shell.execute_reply": "2023-01-06T00:37:11.436099Z"
    },
    "papermill": {
     "duration": 0.042126,
     "end_time": "2023-01-06T00:37:11.438278",
     "exception": false,
     "start_time": "2023-01-06T00:37:11.396152",
     "status": "completed"
    },
    "tags": []
   },
   "outputs": [],
   "source": [
    "X = train.drop(columns='Survived', axis=1)\n",
    "y = train.Survived"
   ]
  },
  {
   "cell_type": "code",
   "execution_count": 50,
   "id": "9fe177be",
   "metadata": {
    "execution": {
     "iopub.execute_input": "2023-01-06T00:37:11.501259Z",
     "iopub.status.busy": "2023-01-06T00:37:11.500660Z",
     "iopub.status.idle": "2023-01-06T00:37:11.504041Z",
     "shell.execute_reply": "2023-01-06T00:37:11.503461Z"
    },
    "papermill": {
     "duration": 0.036767,
     "end_time": "2023-01-06T00:37:11.505649",
     "exception": false,
     "start_time": "2023-01-06T00:37:11.468882",
     "status": "completed"
    },
    "tags": []
   },
   "outputs": [],
   "source": [
    "r_state = 16"
   ]
  },
  {
   "cell_type": "code",
   "execution_count": 51,
   "id": "747fb1e8",
   "metadata": {
    "execution": {
     "iopub.execute_input": "2023-01-06T00:37:11.617825Z",
     "iopub.status.busy": "2023-01-06T00:37:11.616752Z",
     "iopub.status.idle": "2023-01-06T00:37:11.620936Z",
     "shell.execute_reply": "2023-01-06T00:37:11.620358Z"
    },
    "papermill": {
     "duration": 0.086344,
     "end_time": "2023-01-06T00:37:11.622496",
     "exception": false,
     "start_time": "2023-01-06T00:37:11.536152",
     "status": "completed"
    },
    "tags": []
   },
   "outputs": [],
   "source": [
    "classifiers = ['gnb', 'lr', 'dtc', 'rfc', 'knn', 'svc', 'xgb', 'vc']\n",
    "cv_scores = []"
   ]
  },
  {
   "cell_type": "code",
   "execution_count": 52,
   "id": "b696118e",
   "metadata": {
    "execution": {
     "iopub.execute_input": "2023-01-06T00:37:11.684247Z",
     "iopub.status.busy": "2023-01-06T00:37:11.683888Z",
     "iopub.status.idle": "2023-01-06T00:37:11.714869Z",
     "shell.execute_reply": "2023-01-06T00:37:11.713780Z"
    },
    "papermill": {
     "duration": 0.064225,
     "end_time": "2023-01-06T00:37:11.716992",
     "exception": false,
     "start_time": "2023-01-06T00:37:11.652767",
     "status": "completed"
    },
    "tags": []
   },
   "outputs": [
    {
     "data": {
      "text/plain": [
       "0.7823049400539828"
      ]
     },
     "execution_count": 52,
     "metadata": {},
     "output_type": "execute_result"
    }
   ],
   "source": [
    "gnb = GaussianNB()\n",
    "cv = cross_val_score(gnb, X, y, cv=5)\n",
    "cv_scores.append(cv.mean())\n",
    "cv.mean()"
   ]
  },
  {
   "cell_type": "code",
   "execution_count": 53,
   "id": "6fd30d78",
   "metadata": {
    "execution": {
     "iopub.execute_input": "2023-01-06T00:37:11.781957Z",
     "iopub.status.busy": "2023-01-06T00:37:11.781635Z",
     "iopub.status.idle": "2023-01-06T00:37:11.961943Z",
     "shell.execute_reply": "2023-01-06T00:37:11.961061Z"
    },
    "papermill": {
     "duration": 0.216168,
     "end_time": "2023-01-06T00:37:11.963854",
     "exception": false,
     "start_time": "2023-01-06T00:37:11.747686",
     "status": "completed"
    },
    "tags": []
   },
   "outputs": [
    {
     "data": {
      "text/plain": [
       "0.7901387232439896"
      ]
     },
     "execution_count": 53,
     "metadata": {},
     "output_type": "execute_result"
    }
   ],
   "source": [
    "lr = LogisticRegression(random_state=r_state, max_iter=2500)\n",
    "cv = cross_val_score(lr, X, y, cv=5)\n",
    "cv_scores.append(cv.mean())\n",
    "cv.mean()"
   ]
  },
  {
   "cell_type": "code",
   "execution_count": 54,
   "id": "e6b4e7fc",
   "metadata": {
    "execution": {
     "iopub.execute_input": "2023-01-06T00:37:12.025742Z",
     "iopub.status.busy": "2023-01-06T00:37:12.025418Z",
     "iopub.status.idle": "2023-01-06T00:37:12.061942Z",
     "shell.execute_reply": "2023-01-06T00:37:12.061049Z"
    },
    "papermill": {
     "duration": 0.069782,
     "end_time": "2023-01-06T00:37:12.064060",
     "exception": false,
     "start_time": "2023-01-06T00:37:11.994278",
     "status": "completed"
    },
    "tags": []
   },
   "outputs": [
    {
     "data": {
      "text/plain": [
       "0.7733601154980855"
      ]
     },
     "execution_count": 54,
     "metadata": {},
     "output_type": "execute_result"
    }
   ],
   "source": [
    "dtc = DecisionTreeClassifier(random_state=r_state)\n",
    "cv = cross_val_score(dtc, X, y, cv=5)\n",
    "cv_scores.append(cv.mean())\n",
    "cv.mean()"
   ]
  },
  {
   "cell_type": "code",
   "execution_count": 55,
   "id": "3a18c09d",
   "metadata": {
    "execution": {
     "iopub.execute_input": "2023-01-06T00:37:12.128106Z",
     "iopub.status.busy": "2023-01-06T00:37:12.127738Z",
     "iopub.status.idle": "2023-01-06T00:37:12.939844Z",
     "shell.execute_reply": "2023-01-06T00:37:12.938404Z"
    },
    "papermill": {
     "duration": 0.847774,
     "end_time": "2023-01-06T00:37:12.942663",
     "exception": false,
     "start_time": "2023-01-06T00:37:12.094889",
     "status": "completed"
    },
    "tags": []
   },
   "outputs": [
    {
     "data": {
      "text/plain": [
       "0.8081099742640134"
      ]
     },
     "execution_count": 55,
     "metadata": {},
     "output_type": "execute_result"
    }
   ],
   "source": [
    "rfc = RandomForestClassifier(random_state=r_state)\n",
    "cv = cross_val_score(rfc, X, y, cv=5)\n",
    "cv_scores.append(cv.mean())\n",
    "cv.mean()"
   ]
  },
  {
   "cell_type": "code",
   "execution_count": 56,
   "id": "6ccdc3b0",
   "metadata": {
    "execution": {
     "iopub.execute_input": "2023-01-06T00:37:13.005152Z",
     "iopub.status.busy": "2023-01-06T00:37:13.004193Z",
     "iopub.status.idle": "2023-01-06T00:37:13.057417Z",
     "shell.execute_reply": "2023-01-06T00:37:13.056471Z"
    },
    "papermill": {
     "duration": 0.086324,
     "end_time": "2023-01-06T00:37:13.059408",
     "exception": false,
     "start_time": "2023-01-06T00:37:12.973084",
     "status": "completed"
    },
    "tags": []
   },
   "outputs": [
    {
     "data": {
      "text/plain": [
       "0.7878915322327538"
      ]
     },
     "execution_count": 56,
     "metadata": {},
     "output_type": "execute_result"
    }
   ],
   "source": [
    "knn = KNeighborsClassifier()\n",
    "cv = cross_val_score(knn, X, y, cv=5)\n",
    "cv_scores.append(cv.mean())\n",
    "cv.mean()"
   ]
  },
  {
   "cell_type": "code",
   "execution_count": 57,
   "id": "4e0fbc04",
   "metadata": {
    "execution": {
     "iopub.execute_input": "2023-01-06T00:37:13.123525Z",
     "iopub.status.busy": "2023-01-06T00:37:13.122569Z",
     "iopub.status.idle": "2023-01-06T00:37:13.563439Z",
     "shell.execute_reply": "2023-01-06T00:37:13.562138Z"
    },
    "papermill": {
     "duration": 0.475147,
     "end_time": "2023-01-06T00:37:13.565567",
     "exception": false,
     "start_time": "2023-01-06T00:37:13.090420",
     "status": "completed"
    },
    "tags": []
   },
   "outputs": [
    {
     "data": {
      "text/plain": [
       "0.7228297030945955"
      ]
     },
     "execution_count": 57,
     "metadata": {},
     "output_type": "execute_result"
    }
   ],
   "source": [
    "svc = SVC(random_state=r_state, probability=True)\n",
    "cv = cross_val_score(svc, X, y, cv=5)\n",
    "cv_scores.append(cv.mean())\n",
    "cv.mean()"
   ]
  },
  {
   "cell_type": "code",
   "execution_count": 58,
   "id": "7f03ca64",
   "metadata": {
    "execution": {
     "iopub.execute_input": "2023-01-06T00:37:13.629602Z",
     "iopub.status.busy": "2023-01-06T00:37:13.629226Z",
     "iopub.status.idle": "2023-01-06T00:37:14.567731Z",
     "shell.execute_reply": "2023-01-06T00:37:14.567076Z"
    },
    "papermill": {
     "duration": 0.973005,
     "end_time": "2023-01-06T00:37:14.569733",
     "exception": false,
     "start_time": "2023-01-06T00:37:13.596728",
     "status": "completed"
    },
    "tags": []
   },
   "outputs": [
    {
     "data": {
      "text/plain": [
       "0.8103634423451131"
      ]
     },
     "execution_count": 58,
     "metadata": {},
     "output_type": "execute_result"
    }
   ],
   "source": [
    "xgb = XGBClassifier(random_state=r_state)\n",
    "cv = cross_val_score(xgb, X, y, cv=5)\n",
    "cv_scores.append(cv.mean())\n",
    "cv.mean()"
   ]
  },
  {
   "cell_type": "code",
   "execution_count": 59,
   "id": "09eb591c",
   "metadata": {
    "execution": {
     "iopub.execute_input": "2023-01-06T00:37:14.633959Z",
     "iopub.status.busy": "2023-01-06T00:37:14.633393Z",
     "iopub.status.idle": "2023-01-06T00:37:17.043340Z",
     "shell.execute_reply": "2023-01-06T00:37:17.042624Z"
    },
    "papermill": {
     "duration": 2.444228,
     "end_time": "2023-01-06T00:37:17.045553",
     "exception": false,
     "start_time": "2023-01-06T00:37:14.601325",
     "status": "completed"
    },
    "tags": []
   },
   "outputs": [
    {
     "data": {
      "text/plain": [
       "0.8226916075575922"
      ]
     },
     "execution_count": 59,
     "metadata": {},
     "output_type": "execute_result"
    }
   ],
   "source": [
    "vc = VotingClassifier(estimators = [('lr',lr),('knn',knn),('dtc',dtc),('rfc',rfc),('gnb',gnb),('svc',svc),('xgb',xgb)], voting = 'soft')\n",
    "cv = cross_val_score(vc, X, y, cv=5)\n",
    "cv_scores.append(cv.mean())\n",
    "cv.mean()"
   ]
  },
  {
   "cell_type": "code",
   "execution_count": 60,
   "id": "93c8ce5e",
   "metadata": {
    "execution": {
     "iopub.execute_input": "2023-01-06T00:37:17.111956Z",
     "iopub.status.busy": "2023-01-06T00:37:17.111095Z",
     "iopub.status.idle": "2023-01-06T00:37:17.120008Z",
     "shell.execute_reply": "2023-01-06T00:37:17.119450Z"
    },
    "papermill": {
     "duration": 0.044112,
     "end_time": "2023-01-06T00:37:17.121847",
     "exception": false,
     "start_time": "2023-01-06T00:37:17.077735",
     "status": "completed"
    },
    "tags": []
   },
   "outputs": [
    {
     "data": {
      "text/html": [
       "<div>\n",
       "<style scoped>\n",
       "    .dataframe tbody tr th:only-of-type {\n",
       "        vertical-align: middle;\n",
       "    }\n",
       "\n",
       "    .dataframe tbody tr th {\n",
       "        vertical-align: top;\n",
       "    }\n",
       "\n",
       "    .dataframe thead th {\n",
       "        text-align: right;\n",
       "    }\n",
       "</style>\n",
       "<table border=\"1\" class=\"dataframe\">\n",
       "  <thead>\n",
       "    <tr style=\"text-align: right;\">\n",
       "      <th></th>\n",
       "      <th>Model</th>\n",
       "      <th>Scores</th>\n",
       "    </tr>\n",
       "  </thead>\n",
       "  <tbody>\n",
       "    <tr>\n",
       "      <th>0</th>\n",
       "      <td>gnb</td>\n",
       "      <td>0.782305</td>\n",
       "    </tr>\n",
       "    <tr>\n",
       "      <th>1</th>\n",
       "      <td>lr</td>\n",
       "      <td>0.790139</td>\n",
       "    </tr>\n",
       "    <tr>\n",
       "      <th>2</th>\n",
       "      <td>dtc</td>\n",
       "      <td>0.773360</td>\n",
       "    </tr>\n",
       "    <tr>\n",
       "      <th>3</th>\n",
       "      <td>rfc</td>\n",
       "      <td>0.808110</td>\n",
       "    </tr>\n",
       "    <tr>\n",
       "      <th>4</th>\n",
       "      <td>knn</td>\n",
       "      <td>0.787892</td>\n",
       "    </tr>\n",
       "    <tr>\n",
       "      <th>5</th>\n",
       "      <td>svc</td>\n",
       "      <td>0.722830</td>\n",
       "    </tr>\n",
       "    <tr>\n",
       "      <th>6</th>\n",
       "      <td>xgb</td>\n",
       "      <td>0.810363</td>\n",
       "    </tr>\n",
       "    <tr>\n",
       "      <th>7</th>\n",
       "      <td>vc</td>\n",
       "      <td>0.822692</td>\n",
       "    </tr>\n",
       "  </tbody>\n",
       "</table>\n",
       "</div>"
      ],
      "text/plain": [
       "  Model    Scores\n",
       "0   gnb  0.782305\n",
       "1    lr  0.790139\n",
       "2   dtc  0.773360\n",
       "3   rfc  0.808110\n",
       "4   knn  0.787892\n",
       "5   svc  0.722830\n",
       "6   xgb  0.810363\n",
       "7    vc  0.822692"
      ]
     },
     "execution_count": 60,
     "metadata": {},
     "output_type": "execute_result"
    }
   ],
   "source": [
    "model_scores = pd.DataFrame({'Model': classifiers, 'Scores': cv_scores})\n",
    "model_scores"
   ]
  },
  {
   "cell_type": "markdown",
   "id": "0e26498f",
   "metadata": {
    "papermill": {
     "duration": 0.034848,
     "end_time": "2023-01-06T00:37:17.189281",
     "exception": false,
     "start_time": "2023-01-06T00:37:17.154433",
     "status": "completed"
    },
    "tags": []
   },
   "source": [
    "It appears the soft voting classifier performed the best. Let's see if we can improve performance."
   ]
  },
  {
   "cell_type": "markdown",
   "id": "f91006c4",
   "metadata": {
    "papermill": {
     "duration": 0.03198,
     "end_time": "2023-01-06T00:37:17.254092",
     "exception": false,
     "start_time": "2023-01-06T00:37:17.222112",
     "status": "completed"
    },
    "tags": []
   },
   "source": [
    "**Model Tuning**"
   ]
  },
  {
   "cell_type": "code",
   "execution_count": 61,
   "id": "99d041a3",
   "metadata": {
    "execution": {
     "iopub.execute_input": "2023-01-06T00:37:17.322106Z",
     "iopub.status.busy": "2023-01-06T00:37:17.321560Z",
     "iopub.status.idle": "2023-01-06T00:37:17.325746Z",
     "shell.execute_reply": "2023-01-06T00:37:17.324467Z"
    },
    "papermill": {
     "duration": 0.040595,
     "end_time": "2023-01-06T00:37:17.327731",
     "exception": false,
     "start_time": "2023-01-06T00:37:17.287136",
     "status": "completed"
    },
    "tags": []
   },
   "outputs": [],
   "source": [
    "from sklearn.model_selection import GridSearchCV \n",
    "from sklearn.model_selection import RandomizedSearchCV"
   ]
  },
  {
   "cell_type": "code",
   "execution_count": 62,
   "id": "994a7255",
   "metadata": {
    "execution": {
     "iopub.execute_input": "2023-01-06T00:37:17.393666Z",
     "iopub.status.busy": "2023-01-06T00:37:17.393269Z",
     "iopub.status.idle": "2023-01-06T00:37:17.397110Z",
     "shell.execute_reply": "2023-01-06T00:37:17.396487Z"
    },
    "papermill": {
     "duration": 0.038382,
     "end_time": "2023-01-06T00:37:17.398837",
     "exception": false,
     "start_time": "2023-01-06T00:37:17.360455",
     "status": "completed"
    },
    "tags": []
   },
   "outputs": [],
   "source": [
    "tuned_scores = []"
   ]
  },
  {
   "cell_type": "markdown",
   "id": "c4291784",
   "metadata": {
    "papermill": {
     "duration": 0.031341,
     "end_time": "2023-01-06T00:37:17.462830",
     "exception": false,
     "start_time": "2023-01-06T00:37:17.431489",
     "status": "completed"
    },
    "tags": []
   },
   "source": [
    "Bayesion model doesn't have any significant tuning. "
   ]
  },
  {
   "cell_type": "code",
   "execution_count": 63,
   "id": "1bc1322f",
   "metadata": {
    "execution": {
     "iopub.execute_input": "2023-01-06T00:37:17.526728Z",
     "iopub.status.busy": "2023-01-06T00:37:17.526376Z",
     "iopub.status.idle": "2023-01-06T00:37:17.530955Z",
     "shell.execute_reply": "2023-01-06T00:37:17.529942Z"
    },
    "papermill": {
     "duration": 0.038619,
     "end_time": "2023-01-06T00:37:17.532722",
     "exception": false,
     "start_time": "2023-01-06T00:37:17.494103",
     "status": "completed"
    },
    "tags": []
   },
   "outputs": [],
   "source": [
    "tuned_scores.append('NA')"
   ]
  },
  {
   "cell_type": "markdown",
   "id": "070d433a",
   "metadata": {
    "papermill": {
     "duration": 0.030878,
     "end_time": "2023-01-06T00:37:17.595375",
     "exception": false,
     "start_time": "2023-01-06T00:37:17.564497",
     "status": "completed"
    },
    "tags": []
   },
   "source": [
    "Logistic Regression"
   ]
  },
  {
   "cell_type": "code",
   "execution_count": 64,
   "id": "5e50a208",
   "metadata": {
    "execution": {
     "iopub.execute_input": "2023-01-06T00:37:17.660899Z",
     "iopub.status.busy": "2023-01-06T00:37:17.660263Z",
     "iopub.status.idle": "2023-01-06T00:37:17.666025Z",
     "shell.execute_reply": "2023-01-06T00:37:17.665225Z"
    },
    "papermill": {
     "duration": 0.04106,
     "end_time": "2023-01-06T00:37:17.668001",
     "exception": false,
     "start_time": "2023-01-06T00:37:17.626941",
     "status": "completed"
    },
    "tags": []
   },
   "outputs": [
    {
     "data": {
      "text/plain": [
       "\"params = {'max_iter' : [250, 500, 750, 1000, 1500, 2500, 5000],\\n              'penalty' : ['l1', 'l2'],\\n              'solver' : ['liblinear']}\\n\\nlr_gs = GridSearchCV(lr, param_grid = params, cv = 5, verbose = False, n_jobs = -1)\\nlr_gs.fit(X, y)\\nlr_gs.best_estimator_\""
      ]
     },
     "execution_count": 64,
     "metadata": {},
     "output_type": "execute_result"
    }
   ],
   "source": [
    "'''params = {'max_iter' : [250, 500, 750, 1000, 1500, 2500, 5000],\n",
    "              'penalty' : ['l1', 'l2'],\n",
    "              'solver' : ['liblinear']}\n",
    "\n",
    "lr_gs = GridSearchCV(lr, param_grid = params, cv = 5, verbose = False, n_jobs = -1)\n",
    "lr_gs.fit(X, y)\n",
    "lr_gs.best_estimator_'''"
   ]
  },
  {
   "cell_type": "code",
   "execution_count": 65,
   "id": "52b70285",
   "metadata": {
    "_kg_hide-input": true,
    "execution": {
     "iopub.execute_input": "2023-01-06T00:37:17.736293Z",
     "iopub.status.busy": "2023-01-06T00:37:17.735688Z",
     "iopub.status.idle": "2023-01-06T00:37:17.740015Z",
     "shell.execute_reply": "2023-01-06T00:37:17.739425Z"
    },
    "papermill": {
     "duration": 0.041174,
     "end_time": "2023-01-06T00:37:17.741865",
     "exception": false,
     "start_time": "2023-01-06T00:37:17.700691",
     "status": "completed"
    },
    "tags": []
   },
   "outputs": [],
   "source": [
    "best_lr = LogisticRegression(max_iter=500, penalty='l2', random_state=16, solver='liblinear')"
   ]
  },
  {
   "cell_type": "code",
   "execution_count": 66,
   "id": "a1ef967b",
   "metadata": {
    "execution": {
     "iopub.execute_input": "2023-01-06T00:37:17.809202Z",
     "iopub.status.busy": "2023-01-06T00:37:17.808557Z",
     "iopub.status.idle": "2023-01-06T00:37:17.845120Z",
     "shell.execute_reply": "2023-01-06T00:37:17.843736Z"
    },
    "papermill": {
     "duration": 0.072944,
     "end_time": "2023-01-06T00:37:17.847474",
     "exception": false,
     "start_time": "2023-01-06T00:37:17.774530",
     "status": "completed"
    },
    "tags": []
   },
   "outputs": [],
   "source": [
    "tuned_scores.append(cross_val_score(best_lr, X, y, cv=5).mean())"
   ]
  },
  {
   "cell_type": "markdown",
   "id": "210745df",
   "metadata": {
    "papermill": {
     "duration": 0.037419,
     "end_time": "2023-01-06T00:37:17.917374",
     "exception": false,
     "start_time": "2023-01-06T00:37:17.879955",
     "status": "completed"
    },
    "tags": []
   },
   "source": [
    "Decision Tree Classifier"
   ]
  },
  {
   "cell_type": "code",
   "execution_count": 67,
   "id": "d7d7f6f2",
   "metadata": {
    "execution": {
     "iopub.execute_input": "2023-01-06T00:37:18.002154Z",
     "iopub.status.busy": "2023-01-06T00:37:18.001839Z",
     "iopub.status.idle": "2023-01-06T00:37:18.007792Z",
     "shell.execute_reply": "2023-01-06T00:37:18.006942Z"
    },
    "papermill": {
     "duration": 0.049813,
     "end_time": "2023-01-06T00:37:18.009558",
     "exception": false,
     "start_time": "2023-01-06T00:37:17.959745",
     "status": "completed"
    },
    "tags": []
   },
   "outputs": [
    {
     "data": {
      "text/plain": [
       "\"params = {'max_depth': [3, 5, 10, 20, 30],\\n          'criterion' : ['gini', 'entropy'],\\n          'min_samples_leaf' : [1, 3, 5, 10],\\n         'min_samples_split' : [2, 5, 10],\\n         'max_features' : ['sqrt', len(X.columns)]}\\n\\ndtc_rs = RandomizedSearchCV(dtc, n_iter = 50, param_distributions = params, cv = 5, verbose = False, n_jobs = -1)\\n\\ndtc_rs.fit(X, y)\\ndtc_rs.best_estimator_\""
      ]
     },
     "execution_count": 67,
     "metadata": {},
     "output_type": "execute_result"
    }
   ],
   "source": [
    "'''params = {'max_depth': [3, 5, 10, 20, 30],\n",
    "          'criterion' : ['gini', 'entropy'],\n",
    "          'min_samples_leaf' : [1, 3, 5, 10],\n",
    "         'min_samples_split' : [2, 5, 10],\n",
    "         'max_features' : ['sqrt', len(X.columns)]}\n",
    "\n",
    "dtc_rs = RandomizedSearchCV(dtc, n_iter = 50, param_distributions = params, cv = 5, verbose = False, n_jobs = -1)\n",
    "\n",
    "dtc_rs.fit(X, y)\n",
    "dtc_rs.best_estimator_'''"
   ]
  },
  {
   "cell_type": "code",
   "execution_count": 68,
   "id": "db298483",
   "metadata": {
    "execution": {
     "iopub.execute_input": "2023-01-06T00:37:18.077252Z",
     "iopub.status.busy": "2023-01-06T00:37:18.076066Z",
     "iopub.status.idle": "2023-01-06T00:37:18.082053Z",
     "shell.execute_reply": "2023-01-06T00:37:18.081391Z"
    },
    "papermill": {
     "duration": 0.042246,
     "end_time": "2023-01-06T00:37:18.083746",
     "exception": false,
     "start_time": "2023-01-06T00:37:18.041500",
     "status": "completed"
    },
    "tags": []
   },
   "outputs": [
    {
     "data": {
      "text/plain": [
       "\"params = {'max_depth': [4, 5, 6, 7],\\n          'min_samples_leaf' : [4, 5, 6, 7],\\n         'min_samples_split' : [4, 5, 6]}\\n\\ndtc_gs = GridSearchCV(dtc, param_grid = params, cv = 5, verbose = False, n_jobs = -1)\\ndtc_gs.fit(X, y)\\ndtc_gs.best_estimator_\""
      ]
     },
     "execution_count": 68,
     "metadata": {},
     "output_type": "execute_result"
    }
   ],
   "source": [
    "'''params = {'max_depth': [4, 5, 6, 7],\n",
    "          'min_samples_leaf' : [4, 5, 6, 7],\n",
    "         'min_samples_split' : [4, 5, 6]}\n",
    "\n",
    "dtc_gs = GridSearchCV(dtc, param_grid = params, cv = 5, verbose = False, n_jobs = -1)\n",
    "dtc_gs.fit(X, y)\n",
    "dtc_gs.best_estimator_'''"
   ]
  },
  {
   "cell_type": "code",
   "execution_count": 69,
   "id": "0706cb2d",
   "metadata": {
    "execution": {
     "iopub.execute_input": "2023-01-06T00:37:18.148454Z",
     "iopub.status.busy": "2023-01-06T00:37:18.147886Z",
     "iopub.status.idle": "2023-01-06T00:37:18.152057Z",
     "shell.execute_reply": "2023-01-06T00:37:18.151496Z"
    },
    "papermill": {
     "duration": 0.038706,
     "end_time": "2023-01-06T00:37:18.153727",
     "exception": false,
     "start_time": "2023-01-06T00:37:18.115021",
     "status": "completed"
    },
    "tags": []
   },
   "outputs": [],
   "source": [
    "best_dtc = DecisionTreeClassifier(criterion='entropy', max_depth=6, max_features=10,\n",
    "                       min_samples_leaf=6, min_samples_split=4,\n",
    "                       random_state=16)"
   ]
  },
  {
   "cell_type": "code",
   "execution_count": 70,
   "id": "ee5ab3d4",
   "metadata": {
    "execution": {
     "iopub.execute_input": "2023-01-06T00:37:18.224258Z",
     "iopub.status.busy": "2023-01-06T00:37:18.223573Z",
     "iopub.status.idle": "2023-01-06T00:37:18.256681Z",
     "shell.execute_reply": "2023-01-06T00:37:18.255958Z"
    },
    "papermill": {
     "duration": 0.072789,
     "end_time": "2023-01-06T00:37:18.258893",
     "exception": false,
     "start_time": "2023-01-06T00:37:18.186104",
     "status": "completed"
    },
    "tags": []
   },
   "outputs": [],
   "source": [
    "tuned_scores.append(cross_val_score(best_dtc, X, y, cv=5).mean())\n"
   ]
  },
  {
   "cell_type": "markdown",
   "id": "c7d554b0",
   "metadata": {
    "papermill": {
     "duration": 0.032611,
     "end_time": "2023-01-06T00:37:18.324525",
     "exception": false,
     "start_time": "2023-01-06T00:37:18.291914",
     "status": "completed"
    },
    "tags": []
   },
   "source": [
    "Random Forest"
   ]
  },
  {
   "cell_type": "code",
   "execution_count": 71,
   "id": "f2bec89f",
   "metadata": {
    "execution": {
     "iopub.execute_input": "2023-01-06T00:37:18.390808Z",
     "iopub.status.busy": "2023-01-06T00:37:18.390259Z",
     "iopub.status.idle": "2023-01-06T00:37:18.396481Z",
     "shell.execute_reply": "2023-01-06T00:37:18.395405Z"
    },
    "papermill": {
     "duration": 0.041454,
     "end_time": "2023-01-06T00:37:18.398273",
     "exception": false,
     "start_time": "2023-01-06T00:37:18.356819",
     "status": "completed"
    },
    "tags": []
   },
   "outputs": [
    {
     "data": {
      "text/plain": [
       "\"params = {'n_estimators' : [100, 250, 500, 750, 1000],\\n          'max_depth': [3, 5, 10, 20],\\n          'criterion' : ['gini', 'entropy'],\\n          'min_samples_split' : [2, 5, 7, 10],\\n          'min_samples_leaf' : [2, 4, 6]}\\n\\nrfc_rs = RandomizedSearchCV(rfc, n_iter = 50, param_distributions = params, cv = 5, verbose = False, n_jobs = -1)\\n\\nrfc_rs.fit(X, y)\\nrfc_rs.best_estimator_ \""
      ]
     },
     "execution_count": 71,
     "metadata": {},
     "output_type": "execute_result"
    }
   ],
   "source": [
    "'''params = {'n_estimators' : [100, 250, 500, 750, 1000],\n",
    "          'max_depth': [3, 5, 10, 20],\n",
    "          'criterion' : ['gini', 'entropy'],\n",
    "          'min_samples_split' : [2, 5, 7, 10],\n",
    "          'min_samples_leaf' : [2, 4, 6]}\n",
    "\n",
    "rfc_rs = RandomizedSearchCV(rfc, n_iter = 50, param_distributions = params, cv = 5, verbose = False, n_jobs = -1)\n",
    "\n",
    "rfc_rs.fit(X, y)\n",
    "rfc_rs.best_estimator_ '''"
   ]
  },
  {
   "cell_type": "code",
   "execution_count": 72,
   "id": "9102ab38",
   "metadata": {
    "execution": {
     "iopub.execute_input": "2023-01-06T00:37:18.463850Z",
     "iopub.status.busy": "2023-01-06T00:37:18.463510Z",
     "iopub.status.idle": "2023-01-06T00:37:18.470102Z",
     "shell.execute_reply": "2023-01-06T00:37:18.468938Z"
    },
    "papermill": {
     "duration": 0.041965,
     "end_time": "2023-01-06T00:37:18.472113",
     "exception": false,
     "start_time": "2023-01-06T00:37:18.430148",
     "status": "completed"
    },
    "tags": []
   },
   "outputs": [
    {
     "data": {
      "text/plain": [
       "\"params = {'n_estimators' : [700, 800, 900],\\n          'max_depth': [9, 10, 11],\\n          'min_samples_split' : [4, 5, 6],\\n          'min_samples_leaf' : [2, 3]}\\n\\nrfc_gs = GridSearchCV(rfc, param_grid = params, cv = 5, verbose = False, n_jobs = -1)\\nrfc_gs.fit(X, y)\\nrfc_gs.best_estimator_\""
      ]
     },
     "execution_count": 72,
     "metadata": {},
     "output_type": "execute_result"
    }
   ],
   "source": [
    "'''params = {'n_estimators' : [700, 800, 900],\n",
    "          'max_depth': [9, 10, 11],\n",
    "          'min_samples_split' : [4, 5, 6],\n",
    "          'min_samples_leaf' : [2, 3]}\n",
    "\n",
    "rfc_gs = GridSearchCV(rfc, param_grid = params, cv = 5, verbose = False, n_jobs = -1)\n",
    "rfc_gs.fit(X, y)\n",
    "rfc_gs.best_estimator_'''"
   ]
  },
  {
   "cell_type": "code",
   "execution_count": 73,
   "id": "701faa93",
   "metadata": {
    "execution": {
     "iopub.execute_input": "2023-01-06T00:37:18.541882Z",
     "iopub.status.busy": "2023-01-06T00:37:18.541554Z",
     "iopub.status.idle": "2023-01-06T00:37:18.546082Z",
     "shell.execute_reply": "2023-01-06T00:37:18.545209Z"
    },
    "papermill": {
     "duration": 0.043191,
     "end_time": "2023-01-06T00:37:18.547987",
     "exception": false,
     "start_time": "2023-01-06T00:37:18.504796",
     "status": "completed"
    },
    "tags": []
   },
   "outputs": [],
   "source": [
    "best_rfc = RandomForestClassifier(max_depth=11, min_samples_leaf=2, min_samples_split=6,\n",
    "                       n_estimators=900, random_state=16)"
   ]
  },
  {
   "cell_type": "code",
   "execution_count": 74,
   "id": "b0588efc",
   "metadata": {
    "execution": {
     "iopub.execute_input": "2023-01-06T00:37:18.616729Z",
     "iopub.status.busy": "2023-01-06T00:37:18.616390Z",
     "iopub.status.idle": "2023-01-06T00:37:25.338452Z",
     "shell.execute_reply": "2023-01-06T00:37:25.337514Z"
    },
    "papermill": {
     "duration": 6.758784,
     "end_time": "2023-01-06T00:37:25.340799",
     "exception": false,
     "start_time": "2023-01-06T00:37:18.582015",
     "status": "completed"
    },
    "tags": []
   },
   "outputs": [],
   "source": [
    "tuned_scores.append(cross_val_score(best_rfc, X, y, cv=5).mean())"
   ]
  },
  {
   "cell_type": "markdown",
   "id": "3bee39d8",
   "metadata": {
    "papermill": {
     "duration": 0.031685,
     "end_time": "2023-01-06T00:37:25.404842",
     "exception": false,
     "start_time": "2023-01-06T00:37:25.373157",
     "status": "completed"
    },
    "tags": []
   },
   "source": [
    "K Nearest Neighbors"
   ]
  },
  {
   "cell_type": "code",
   "execution_count": 75,
   "id": "da1d7398",
   "metadata": {
    "execution": {
     "iopub.execute_input": "2023-01-06T00:37:25.469677Z",
     "iopub.status.busy": "2023-01-06T00:37:25.469366Z",
     "iopub.status.idle": "2023-01-06T00:37:25.474820Z",
     "shell.execute_reply": "2023-01-06T00:37:25.473902Z"
    },
    "papermill": {
     "duration": 0.039799,
     "end_time": "2023-01-06T00:37:25.476443",
     "exception": false,
     "start_time": "2023-01-06T00:37:25.436644",
     "status": "completed"
    },
    "tags": []
   },
   "outputs": [
    {
     "data": {
      "text/plain": [
       "\"params = {'n_neighbors' : [5,7,9,11],\\n              'weights' : ['uniform', 'distance'],\\n              'algorithm' : ['auto', 'ball_tree','kd_tree']}\\nknn_gs = GridSearchCV(knn, param_grid = params, cv = 5, verbose = False, n_jobs = -1)\\nknn_gs.fit(X, y)\\nknn_gs.best_estimator_\""
      ]
     },
     "execution_count": 75,
     "metadata": {},
     "output_type": "execute_result"
    }
   ],
   "source": [
    "'''params = {'n_neighbors' : [5,7,9,11],\n",
    "              'weights' : ['uniform', 'distance'],\n",
    "              'algorithm' : ['auto', 'ball_tree','kd_tree']}\n",
    "knn_gs = GridSearchCV(knn, param_grid = params, cv = 5, verbose = False, n_jobs = -1)\n",
    "knn_gs.fit(X, y)\n",
    "knn_gs.best_estimator_'''"
   ]
  },
  {
   "cell_type": "code",
   "execution_count": 76,
   "id": "4ac0b731",
   "metadata": {
    "execution": {
     "iopub.execute_input": "2023-01-06T00:37:25.541717Z",
     "iopub.status.busy": "2023-01-06T00:37:25.541358Z",
     "iopub.status.idle": "2023-01-06T00:37:25.547054Z",
     "shell.execute_reply": "2023-01-06T00:37:25.546086Z"
    },
    "papermill": {
     "duration": 0.04056,
     "end_time": "2023-01-06T00:37:25.548965",
     "exception": false,
     "start_time": "2023-01-06T00:37:25.508405",
     "status": "completed"
    },
    "tags": []
   },
   "outputs": [],
   "source": [
    "best_knn = KNeighborsClassifier(n_neighbors=9, weights='distance')"
   ]
  },
  {
   "cell_type": "code",
   "execution_count": 77,
   "id": "79cc3ac6",
   "metadata": {
    "execution": {
     "iopub.execute_input": "2023-01-06T00:37:25.614726Z",
     "iopub.status.busy": "2023-01-06T00:37:25.614399Z",
     "iopub.status.idle": "2023-01-06T00:37:25.649059Z",
     "shell.execute_reply": "2023-01-06T00:37:25.648185Z"
    },
    "papermill": {
     "duration": 0.069933,
     "end_time": "2023-01-06T00:37:25.651251",
     "exception": false,
     "start_time": "2023-01-06T00:37:25.581318",
     "status": "completed"
    },
    "tags": []
   },
   "outputs": [],
   "source": [
    "tuned_scores.append(cross_val_score(best_knn, X, y, cv=5).mean())"
   ]
  },
  {
   "cell_type": "markdown",
   "id": "6064f82e",
   "metadata": {
    "papermill": {
     "duration": 0.031953,
     "end_time": "2023-01-06T00:37:25.715028",
     "exception": false,
     "start_time": "2023-01-06T00:37:25.683075",
     "status": "completed"
    },
    "tags": []
   },
   "source": [
    "Support Vector Classifier"
   ]
  },
  {
   "cell_type": "code",
   "execution_count": 78,
   "id": "92e327cf",
   "metadata": {
    "execution": {
     "iopub.execute_input": "2023-01-06T00:37:25.786984Z",
     "iopub.status.busy": "2023-01-06T00:37:25.786403Z",
     "iopub.status.idle": "2023-01-06T00:37:25.792954Z",
     "shell.execute_reply": "2023-01-06T00:37:25.792071Z"
    },
    "papermill": {
     "duration": 0.047925,
     "end_time": "2023-01-06T00:37:25.794812",
     "exception": false,
     "start_time": "2023-01-06T00:37:25.746887",
     "status": "completed"
    },
    "tags": []
   },
   "outputs": [
    {
     "data": {
      "text/plain": [
       "\"params = {'kernel': ['rbf'], \\n          'gamma': [.1, .5, 1, 5], \\n          'C': [.1, 1, 10, 100]}\\n                            \\nsvc_gs = GridSearchCV(svc, param_grid = params, cv = 5, verbose = False, n_jobs = -1)\\nsvc_gs.fit(X, y)\\nsvc_gs.best_estimator_\""
      ]
     },
     "execution_count": 78,
     "metadata": {},
     "output_type": "execute_result"
    }
   ],
   "source": [
    "'''params = {'kernel': ['rbf'], \n",
    "          'gamma': [.1, .5, 1, 5], \n",
    "          'C': [.1, 1, 10, 100]}\n",
    "                            \n",
    "svc_gs = GridSearchCV(svc, param_grid = params, cv = 5, verbose = False, n_jobs = -1)\n",
    "svc_gs.fit(X, y)\n",
    "svc_gs.best_estimator_'''"
   ]
  },
  {
   "cell_type": "code",
   "execution_count": 79,
   "id": "8d7e4cef",
   "metadata": {
    "execution": {
     "iopub.execute_input": "2023-01-06T00:37:25.875375Z",
     "iopub.status.busy": "2023-01-06T00:37:25.875003Z",
     "iopub.status.idle": "2023-01-06T00:37:25.879806Z",
     "shell.execute_reply": "2023-01-06T00:37:25.878702Z"
    },
    "papermill": {
     "duration": 0.044793,
     "end_time": "2023-01-06T00:37:25.882186",
     "exception": false,
     "start_time": "2023-01-06T00:37:25.837393",
     "status": "completed"
    },
    "tags": []
   },
   "outputs": [],
   "source": [
    "best_svc = SVC(C=1, gamma=0.1, probability=True, random_state=16)"
   ]
  },
  {
   "cell_type": "code",
   "execution_count": 80,
   "id": "26cadac6",
   "metadata": {
    "execution": {
     "iopub.execute_input": "2023-01-06T00:37:25.949844Z",
     "iopub.status.busy": "2023-01-06T00:37:25.949525Z",
     "iopub.status.idle": "2023-01-06T00:37:26.349983Z",
     "shell.execute_reply": "2023-01-06T00:37:26.349102Z"
    },
    "papermill": {
     "duration": 0.436648,
     "end_time": "2023-01-06T00:37:26.352308",
     "exception": false,
     "start_time": "2023-01-06T00:37:25.915660",
     "status": "completed"
    },
    "tags": []
   },
   "outputs": [],
   "source": [
    "tuned_scores.append(cross_val_score(best_svc, X, y, cv=5).mean())"
   ]
  },
  {
   "cell_type": "markdown",
   "id": "5dd7170a",
   "metadata": {
    "papermill": {
     "duration": 0.032451,
     "end_time": "2023-01-06T00:37:26.416989",
     "exception": false,
     "start_time": "2023-01-06T00:37:26.384538",
     "status": "completed"
    },
    "tags": []
   },
   "source": [
    "XGBoost"
   ]
  },
  {
   "cell_type": "code",
   "execution_count": 81,
   "id": "45f6a8e3",
   "metadata": {
    "execution": {
     "iopub.execute_input": "2023-01-06T00:37:26.483060Z",
     "iopub.status.busy": "2023-01-06T00:37:26.482573Z",
     "iopub.status.idle": "2023-01-06T00:37:26.487460Z",
     "shell.execute_reply": "2023-01-06T00:37:26.486744Z"
    },
    "papermill": {
     "duration": 0.039982,
     "end_time": "2023-01-06T00:37:26.489227",
     "exception": false,
     "start_time": "2023-01-06T00:37:26.449245",
     "status": "completed"
    },
    "tags": []
   },
   "outputs": [
    {
     "data": {
      "text/plain": [
       "\"  params = {\\n    'n_estimators': [250, 500, 750, 1000, 1200],\\n    'max_depth': [2, 5, 7, 10],\\n    'learning_rate': [0.05, 0.08, 0.1, 0.15],\\n    'min_child_weight' : [0, .01, 0.1, 1],\\n    'reg_alpha': [0, 0.5, 1],\\n    'reg_lambda': [1, 1.5, 2]\\n}\\n\\nxgb_rs = RandomizedSearchCV(xgb, n_iter = 50, param_distributions = params, cv = 5, verbose = False, n_jobs = -1)\\n\\nxgb_rs.fit(X, y)\\nxgb_rs.best_estimator_ \""
      ]
     },
     "execution_count": 81,
     "metadata": {},
     "output_type": "execute_result"
    }
   ],
   "source": [
    "'''  params = {\n",
    "    'n_estimators': [250, 500, 750, 1000, 1200],\n",
    "    'max_depth': [2, 5, 7, 10],\n",
    "    'learning_rate': [0.05, 0.08, 0.1, 0.15],\n",
    "    'min_child_weight' : [0, .01, 0.1, 1],\n",
    "    'reg_alpha': [0, 0.5, 1],\n",
    "    'reg_lambda': [1, 1.5, 2]\n",
    "}\n",
    "\n",
    "xgb_rs = RandomizedSearchCV(xgb, n_iter = 50, param_distributions = params, cv = 5, verbose = False, n_jobs = -1)\n",
    "\n",
    "xgb_rs.fit(X, y)\n",
    "xgb_rs.best_estimator_ '''"
   ]
  },
  {
   "cell_type": "code",
   "execution_count": 82,
   "id": "eec5bd94",
   "metadata": {
    "execution": {
     "iopub.execute_input": "2023-01-06T00:37:26.556241Z",
     "iopub.status.busy": "2023-01-06T00:37:26.555847Z",
     "iopub.status.idle": "2023-01-06T00:37:26.561097Z",
     "shell.execute_reply": "2023-01-06T00:37:26.560407Z"
    },
    "papermill": {
     "duration": 0.041118,
     "end_time": "2023-01-06T00:37:26.562835",
     "exception": false,
     "start_time": "2023-01-06T00:37:26.521717",
     "status": "completed"
    },
    "tags": []
   },
   "outputs": [
    {
     "data": {
      "text/plain": [
       "\"params = {\\n    'n_estimators': [400, 500, 600],\\n    'max_depth': [5, 7],\\n    'min_child_weight' : [0.01, 0.05],\\n    'learning_rate': [0.01, 0.03],\\n    'reg_alpha': [1],\\n    'reg_lambda':[1.5]\\n}\\n\\n\\nxgb_gs = GridSearchCV(xgb, param_grid = params, cv = 5, verbose = False, n_jobs = -1)\\nxgb_gs.fit(X, y)\\nxgb_gs.best_estimator_\""
      ]
     },
     "execution_count": 82,
     "metadata": {},
     "output_type": "execute_result"
    }
   ],
   "source": [
    "'''params = {\n",
    "    'n_estimators': [400, 500, 600],\n",
    "    'max_depth': [5, 7],\n",
    "    'min_child_weight' : [0.01, 0.05],\n",
    "    'learning_rate': [0.01, 0.03],\n",
    "    'reg_alpha': [1],\n",
    "    'reg_lambda':[1.5]\n",
    "}\n",
    "\n",
    "\n",
    "xgb_gs = GridSearchCV(xgb, param_grid = params, cv = 5, verbose = False, n_jobs = -1)\n",
    "xgb_gs.fit(X, y)\n",
    "xgb_gs.best_estimator_'''"
   ]
  },
  {
   "cell_type": "code",
   "execution_count": 83,
   "id": "ac6555ef",
   "metadata": {
    "execution": {
     "iopub.execute_input": "2023-01-06T00:37:26.631290Z",
     "iopub.status.busy": "2023-01-06T00:37:26.630719Z",
     "iopub.status.idle": "2023-01-06T00:37:26.637563Z",
     "shell.execute_reply": "2023-01-06T00:37:26.636303Z"
    },
    "papermill": {
     "duration": 0.042732,
     "end_time": "2023-01-06T00:37:26.639491",
     "exception": false,
     "start_time": "2023-01-06T00:37:26.596759",
     "status": "completed"
    },
    "tags": []
   },
   "outputs": [],
   "source": [
    "best_xgb = XGBClassifier(base_score=0.5, booster='gbtree', callbacks=None,\n",
    "              colsample_bylevel=1, colsample_bynode=1, colsample_bytree=1,\n",
    "              early_stopping_rounds=None, enable_categorical=False,\n",
    "              eval_metric=None, gamma=0, gpu_id=-1, grow_policy='depthwise',\n",
    "              importance_type=None, interaction_constraints='',\n",
    "              learning_rate=0.01, max_bin=256, max_cat_to_onehot=4,\n",
    "              max_delta_step=0, max_depth=7, max_leaves=0,\n",
    "              min_child_weight=0.01, monotone_constraints='()',\n",
    "              n_estimators=500, n_jobs=0, num_parallel_tree=1, predictor='auto',\n",
    "              random_state=16, reg_alpha=1, reg_lambda=1.5)"
   ]
  },
  {
   "cell_type": "code",
   "execution_count": 84,
   "id": "bc3d9c55",
   "metadata": {
    "execution": {
     "iopub.execute_input": "2023-01-06T00:37:26.706182Z",
     "iopub.status.busy": "2023-01-06T00:37:26.705690Z",
     "iopub.status.idle": "2023-01-06T00:37:31.501565Z",
     "shell.execute_reply": "2023-01-06T00:37:31.500865Z"
    },
    "papermill": {
     "duration": 4.831662,
     "end_time": "2023-01-06T00:37:31.503754",
     "exception": false,
     "start_time": "2023-01-06T00:37:26.672092",
     "status": "completed"
    },
    "tags": []
   },
   "outputs": [],
   "source": [
    "tuned_scores.append(cross_val_score(best_xgb, X, y, cv=5).mean())"
   ]
  },
  {
   "cell_type": "markdown",
   "id": "89efbf29",
   "metadata": {
    "papermill": {
     "duration": 0.031339,
     "end_time": "2023-01-06T00:37:31.567466",
     "exception": false,
     "start_time": "2023-01-06T00:37:31.536127",
     "status": "completed"
    },
    "tags": []
   },
   "source": [
    "Voting Classifier"
   ]
  },
  {
   "cell_type": "markdown",
   "id": "79a8df24",
   "metadata": {
    "papermill": {
     "duration": 0.031567,
     "end_time": "2023-01-06T00:37:31.630623",
     "exception": false,
     "start_time": "2023-01-06T00:37:31.599056",
     "status": "completed"
    },
    "tags": []
   },
   "source": [
    "Some models performed better than others perhaps the voting classifier will perform better if some estimators are excluded from the vote. We'll also experiment with hard vs soft classifiers"
   ]
  },
  {
   "cell_type": "code",
   "execution_count": 85,
   "id": "93b10369",
   "metadata": {
    "execution": {
     "iopub.execute_input": "2023-01-06T00:37:31.697114Z",
     "iopub.status.busy": "2023-01-06T00:37:31.696631Z",
     "iopub.status.idle": "2023-01-06T00:37:31.701061Z",
     "shell.execute_reply": "2023-01-06T00:37:31.700477Z"
    },
    "papermill": {
     "duration": 0.039938,
     "end_time": "2023-01-06T00:37:31.702813",
     "exception": false,
     "start_time": "2023-01-06T00:37:31.662875",
     "status": "completed"
    },
    "tags": []
   },
   "outputs": [],
   "source": [
    "tuned_scores.append('NA')\n",
    "model_scores['Tuned Scores'] = tuned_scores"
   ]
  },
  {
   "cell_type": "code",
   "execution_count": 86,
   "id": "4d26739f",
   "metadata": {
    "execution": {
     "iopub.execute_input": "2023-01-06T00:37:31.771729Z",
     "iopub.status.busy": "2023-01-06T00:37:31.770028Z",
     "iopub.status.idle": "2023-01-06T00:37:31.781504Z",
     "shell.execute_reply": "2023-01-06T00:37:31.780284Z"
    },
    "papermill": {
     "duration": 0.048337,
     "end_time": "2023-01-06T00:37:31.783980",
     "exception": false,
     "start_time": "2023-01-06T00:37:31.735643",
     "status": "completed"
    },
    "tags": []
   },
   "outputs": [
    {
     "data": {
      "text/html": [
       "<div>\n",
       "<style scoped>\n",
       "    .dataframe tbody tr th:only-of-type {\n",
       "        vertical-align: middle;\n",
       "    }\n",
       "\n",
       "    .dataframe tbody tr th {\n",
       "        vertical-align: top;\n",
       "    }\n",
       "\n",
       "    .dataframe thead th {\n",
       "        text-align: right;\n",
       "    }\n",
       "</style>\n",
       "<table border=\"1\" class=\"dataframe\">\n",
       "  <thead>\n",
       "    <tr style=\"text-align: right;\">\n",
       "      <th></th>\n",
       "      <th>Model</th>\n",
       "      <th>Scores</th>\n",
       "      <th>Tuned Scores</th>\n",
       "    </tr>\n",
       "  </thead>\n",
       "  <tbody>\n",
       "    <tr>\n",
       "      <th>0</th>\n",
       "      <td>gnb</td>\n",
       "      <td>0.782305</td>\n",
       "      <td>NA</td>\n",
       "    </tr>\n",
       "    <tr>\n",
       "      <th>1</th>\n",
       "      <td>lr</td>\n",
       "      <td>0.790139</td>\n",
       "      <td>0.790132</td>\n",
       "    </tr>\n",
       "    <tr>\n",
       "      <th>2</th>\n",
       "      <td>dtc</td>\n",
       "      <td>0.773360</td>\n",
       "      <td>0.809259</td>\n",
       "    </tr>\n",
       "    <tr>\n",
       "      <th>3</th>\n",
       "      <td>rfc</td>\n",
       "      <td>0.808110</td>\n",
       "      <td>0.832785</td>\n",
       "    </tr>\n",
       "    <tr>\n",
       "      <th>4</th>\n",
       "      <td>knn</td>\n",
       "      <td>0.787892</td>\n",
       "      <td>0.794633</td>\n",
       "    </tr>\n",
       "    <tr>\n",
       "      <th>5</th>\n",
       "      <td>svc</td>\n",
       "      <td>0.722830</td>\n",
       "      <td>0.812592</td>\n",
       "    </tr>\n",
       "    <tr>\n",
       "      <th>6</th>\n",
       "      <td>xgb</td>\n",
       "      <td>0.810363</td>\n",
       "      <td>0.839539</td>\n",
       "    </tr>\n",
       "    <tr>\n",
       "      <th>7</th>\n",
       "      <td>vc</td>\n",
       "      <td>0.822692</td>\n",
       "      <td>NA</td>\n",
       "    </tr>\n",
       "  </tbody>\n",
       "</table>\n",
       "</div>"
      ],
      "text/plain": [
       "  Model    Scores Tuned Scores\n",
       "0   gnb  0.782305           NA\n",
       "1    lr  0.790139     0.790132\n",
       "2   dtc  0.773360     0.809259\n",
       "3   rfc  0.808110     0.832785\n",
       "4   knn  0.787892     0.794633\n",
       "5   svc  0.722830     0.812592\n",
       "6   xgb  0.810363     0.839539\n",
       "7    vc  0.822692           NA"
      ]
     },
     "execution_count": 86,
     "metadata": {},
     "output_type": "execute_result"
    }
   ],
   "source": [
    "model_scores"
   ]
  },
  {
   "cell_type": "code",
   "execution_count": 87,
   "id": "b7514422",
   "metadata": {
    "execution": {
     "iopub.execute_input": "2023-01-06T00:37:31.853740Z",
     "iopub.status.busy": "2023-01-06T00:37:31.853183Z",
     "iopub.status.idle": "2023-01-06T00:38:20.694155Z",
     "shell.execute_reply": "2023-01-06T00:38:20.692846Z"
    },
    "papermill": {
     "duration": 48.878489,
     "end_time": "2023-01-06T00:38:20.696354",
     "exception": false,
     "start_time": "2023-01-06T00:37:31.817865",
     "status": "completed"
    },
    "tags": []
   },
   "outputs": [
    {
     "name": "stdout",
     "output_type": "stream",
     "text": [
      "Soft classifier (all): 0.8226853304877284\n",
      "Hard classifier (all): 0.8372732408511707\n",
      "Soft classifier (best): 0.8316678174628084\n",
      "Hard classifier (best): 0.8339024543343166\n"
     ]
    }
   ],
   "source": [
    "vc_soft_all = VotingClassifier(estimators = [('best_lr',best_lr),('best_knn',best_knn),('best_dtc',dtc),('best_rfc',best_rfc),('gnb',gnb),('best_svc',best_svc),('best_xgb',best_xgb)], voting = 'soft')\n",
    "vc_hard_all = VotingClassifier(estimators = [('best_lr',best_lr),('best_knn',best_knn),('best_dtc',dtc),('best_rfc',best_rfc),('gnb',gnb),('best_svc',best_svc),('best_xgb',best_xgb)], voting = 'hard')\n",
    "vc_soft_best = VotingClassifier(estimators = [('best_lr',best_lr),('best_knn',best_knn),('best_rfc',best_rfc),('best_svc',best_svc),('best_xgb',best_xgb)], voting = 'soft')\n",
    "vc_hard_best = VotingClassifier(estimators = [('best_lr',best_lr),('best_dtc',best_dtc),('best_rfc',best_rfc),('best_svc',best_svc),('best_xgb',best_xgb)], voting = 'hard')\n",
    "\n",
    "print(f'Soft classifier (all): {cross_val_score(vc_soft_all, X, y, cv=5).mean()}')\n",
    "print(f'Hard classifier (all): {cross_val_score(vc_hard_all, X, y, cv=5).mean()}')\n",
    "print(f'Soft classifier (best): {cross_val_score(vc_soft_best, X, y, cv=5).mean()}')\n",
    "print(f'Hard classifier (best): {cross_val_score(vc_hard_best, X, y, cv=5).mean()}')"
   ]
  },
  {
   "cell_type": "markdown",
   "id": "897b0925",
   "metadata": {
    "papermill": {
     "duration": 0.0332,
     "end_time": "2023-01-06T00:38:20.762938",
     "exception": false,
     "start_time": "2023-01-06T00:38:20.729738",
     "status": "completed"
    },
    "tags": []
   },
   "source": [
    "Suprisingly, after playing around with different estimators it appears the hard voting classifier performs best."
   ]
  },
  {
   "cell_type": "markdown",
   "id": "1c1f708e",
   "metadata": {
    "papermill": {
     "duration": 0.040823,
     "end_time": "2023-01-06T00:38:20.844870",
     "exception": false,
     "start_time": "2023-01-06T00:38:20.804047",
     "status": "completed"
    },
    "tags": []
   },
   "source": [
    "**Predictions**"
   ]
  },
  {
   "cell_type": "markdown",
   "id": "4c0db9a4",
   "metadata": {
    "papermill": {
     "duration": 0.033185,
     "end_time": "2023-01-06T00:38:20.915438",
     "exception": false,
     "start_time": "2023-01-06T00:38:20.882253",
     "status": "completed"
    },
    "tags": []
   },
   "source": [
    "We'll submit the predictions from all voting classifiers and also xgboost and the random forest model since they performed comparatively well in training. "
   ]
  },
  {
   "cell_type": "code",
   "execution_count": 88,
   "id": "0ffa48e0",
   "metadata": {
    "execution": {
     "iopub.execute_input": "2023-01-06T00:38:20.985939Z",
     "iopub.status.busy": "2023-01-06T00:38:20.985285Z",
     "iopub.status.idle": "2023-01-06T00:38:33.309395Z",
     "shell.execute_reply": "2023-01-06T00:38:33.308450Z"
    },
    "papermill": {
     "duration": 12.362326,
     "end_time": "2023-01-06T00:38:33.311953",
     "exception": false,
     "start_time": "2023-01-06T00:38:20.949627",
     "status": "completed"
    },
    "tags": []
   },
   "outputs": [
    {
     "data": {
      "text/plain": [
       "RandomForestClassifier(max_depth=11, min_samples_leaf=2, min_samples_split=6,\n",
       "                       n_estimators=900, random_state=16)"
      ]
     },
     "execution_count": 88,
     "metadata": {},
     "output_type": "execute_result"
    }
   ],
   "source": [
    "vc_soft_all.fit(X, y)\n",
    "vc_hard_all.fit(X, y)\n",
    "vc_soft_best.fit(X, y)\n",
    "vc_hard_best.fit(X, y)\n",
    "best_xgb.fit(X, y)\n",
    "best_rfc.fit(X, y)"
   ]
  },
  {
   "cell_type": "code",
   "execution_count": 89,
   "id": "b2991959",
   "metadata": {
    "execution": {
     "iopub.execute_input": "2023-01-06T00:38:33.380582Z",
     "iopub.status.busy": "2023-01-06T00:38:33.380212Z",
     "iopub.status.idle": "2023-01-06T00:38:34.142607Z",
     "shell.execute_reply": "2023-01-06T00:38:34.141537Z"
    },
    "papermill": {
     "duration": 0.799343,
     "end_time": "2023-01-06T00:38:34.144812",
     "exception": false,
     "start_time": "2023-01-06T00:38:33.345469",
     "status": "completed"
    },
    "tags": []
   },
   "outputs": [],
   "source": [
    "vsa_pred = vc_soft_all.predict(test)\n",
    "vch_pred = vc_hard_all.predict(test)\n",
    "vsb_pred = vc_soft_best.predict(test)\n",
    "vhb_pred = vc_hard_best.predict(test)\n",
    "xgb_pred = best_xgb.predict(test)\n",
    "rfc_pred = best_rfc.predict(test)"
   ]
  },
  {
   "cell_type": "code",
   "execution_count": 90,
   "id": "49ab367a",
   "metadata": {
    "execution": {
     "iopub.execute_input": "2023-01-06T00:38:34.211394Z",
     "iopub.status.busy": "2023-01-06T00:38:34.211060Z",
     "iopub.status.idle": "2023-01-06T00:38:34.216832Z",
     "shell.execute_reply": "2023-01-06T00:38:34.216194Z"
    },
    "papermill": {
     "duration": 0.040894,
     "end_time": "2023-01-06T00:38:34.218533",
     "exception": false,
     "start_time": "2023-01-06T00:38:34.177639",
     "status": "completed"
    },
    "tags": []
   },
   "outputs": [],
   "source": [
    "test.index = test.index + 1"
   ]
  },
  {
   "cell_type": "code",
   "execution_count": 91,
   "id": "3c4a4dba",
   "metadata": {
    "execution": {
     "iopub.execute_input": "2023-01-06T00:38:34.285438Z",
     "iopub.status.busy": "2023-01-06T00:38:34.284216Z",
     "iopub.status.idle": "2023-01-06T00:38:34.306970Z",
     "shell.execute_reply": "2023-01-06T00:38:34.306303Z"
    },
    "papermill": {
     "duration": 0.058232,
     "end_time": "2023-01-06T00:38:34.309137",
     "exception": false,
     "start_time": "2023-01-06T00:38:34.250905",
     "status": "completed"
    },
    "tags": []
   },
   "outputs": [],
   "source": [
    "vsa_output = pd.DataFrame({'PassengerId': test.index, 'Survived': vsa_pred})\n",
    "vsa_output['Survived'] = vsa_output['Survived'].astype(int)\n",
    "vsa_output.to_csv('vsa.csv', index=False)\n",
    "\n",
    "vch_output = pd.DataFrame({'PassengerId': test.index, 'Survived': vch_pred})\n",
    "vch_output['Survived'] = vch_output['Survived'].astype(int)\n",
    "vch_output.to_csv('vch.csv', index=False)\n",
    "\n",
    "vsb_output = pd.DataFrame({'PassengerId': test.index, 'Survived': vsb_pred})\n",
    "vsb_output['Survived'] = vsb_output['Survived'].astype(int)\n",
    "vsb_output.to_csv('vsb.csv', index=False)\n",
    "\n",
    "vhb_output = pd.DataFrame({'PassengerId': test.index, 'Survived': vhb_pred})\n",
    "vhb_output['Survived'] = vhb_output['Survived'].astype(int)\n",
    "vhb_output.to_csv('vhb.csv', index=False)\n",
    "\n",
    "xgb_output = pd.DataFrame({'PassengerId': test.index, 'Survived': xgb_pred})\n",
    "xgb_output.to_csv('xgb.csv', index=False)\n",
    "\n",
    "rfc_output = pd.DataFrame({'PassengerId': test.index, 'Survived': rfc_pred})\n",
    "rfc_output['Survived'] = rfc_output['Survived'].astype(int)\n",
    "rfc_output.to_csv('rfc.csv', index=False)\n"
   ]
  },
  {
   "cell_type": "code",
   "execution_count": null,
   "id": "b7897738",
   "metadata": {
    "papermill": {
     "duration": 0.031841,
     "end_time": "2023-01-06T00:38:34.373406",
     "exception": false,
     "start_time": "2023-01-06T00:38:34.341565",
     "status": "completed"
    },
    "tags": []
   },
   "outputs": [],
   "source": []
  },
  {
   "cell_type": "code",
   "execution_count": null,
   "id": "2ce510eb",
   "metadata": {
    "papermill": {
     "duration": 0.031873,
     "end_time": "2023-01-06T00:38:34.437866",
     "exception": false,
     "start_time": "2023-01-06T00:38:34.405993",
     "status": "completed"
    },
    "tags": []
   },
   "outputs": [],
   "source": []
  },
  {
   "cell_type": "code",
   "execution_count": null,
   "id": "5725965c",
   "metadata": {
    "papermill": {
     "duration": 0.032479,
     "end_time": "2023-01-06T00:38:34.502960",
     "exception": false,
     "start_time": "2023-01-06T00:38:34.470481",
     "status": "completed"
    },
    "tags": []
   },
   "outputs": [],
   "source": []
  },
  {
   "cell_type": "code",
   "execution_count": null,
   "id": "0de9ec2e",
   "metadata": {
    "papermill": {
     "duration": 0.031623,
     "end_time": "2023-01-06T00:38:34.566968",
     "exception": false,
     "start_time": "2023-01-06T00:38:34.535345",
     "status": "completed"
    },
    "tags": []
   },
   "outputs": [],
   "source": []
  }
 ],
 "metadata": {
  "kernelspec": {
   "display_name": "Python 3",
   "language": "python",
   "name": "python3"
  },
  "language_info": {
   "codemirror_mode": {
    "name": "ipython",
    "version": 3
   },
   "file_extension": ".py",
   "mimetype": "text/x-python",
   "name": "python",
   "nbconvert_exporter": "python",
   "pygments_lexer": "ipython3",
   "version": "3.7.12"
  },
  "papermill": {
   "default_parameters": {},
   "duration": 101.229148,
   "end_time": "2023-01-06T00:38:35.317949",
   "environment_variables": {},
   "exception": null,
   "input_path": "__notebook__.ipynb",
   "output_path": "__notebook__.ipynb",
   "parameters": {},
   "start_time": "2023-01-06T00:36:54.088801",
   "version": "2.3.4"
  }
 },
 "nbformat": 4,
 "nbformat_minor": 5
}
